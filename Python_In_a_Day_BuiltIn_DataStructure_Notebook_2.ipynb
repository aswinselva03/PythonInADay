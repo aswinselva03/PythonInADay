{
  "nbformat": 4,
  "nbformat_minor": 0,
  "metadata": {
    "colab": {
      "provenance": [],
      "authorship_tag": "ABX9TyMT1gKLTTbrLGRnT5OStFap",
      "include_colab_link": true
    },
    "kernelspec": {
      "name": "python3",
      "display_name": "Python 3"
    },
    "language_info": {
      "name": "python"
    }
  },
  "cells": [
    {
      "cell_type": "markdown",
      "metadata": {
        "id": "view-in-github",
        "colab_type": "text"
      },
      "source": [
        "<a href=\"https://colab.research.google.com/github/aswinselva03/PythonInADay/blob/main/Python_In_a_Day_BuiltIn_DataStructure_Notebook_2.ipynb\" target=\"_parent\"><img src=\"https://colab.research.google.com/assets/colab-badge.svg\" alt=\"Open In Colab\"/></a>"
      ]
    },
    {
      "cell_type": "markdown",
      "source": [
        "#Built-in Data Structure\n",
        "\n",
        "There are 4 main built-in data structure python supports\n",
        "\n",
        "\n",
        "\n",
        "```        \n",
        "- List\n",
        "- Tuple\n",
        "- Dictionary\n",
        "- Set\n",
        "```\n",
        "\n",
        "## List\n",
        "\n",
        "List in python is actually a dynamic array. It allows you to save elements with different data type and is not of fixed size\n",
        "\n",
        "\n",
        "```\n",
        "Syntax:\n",
        "variable_name = [val1, val2, val3]\n",
        "\n",
        "Example:\n",
        "true_values = [1, \"Yes\", True]\n",
        "```\n",
        "\n"
      ],
      "metadata": {
        "id": "3GEeHvq6jCyA"
      }
    },
    {
      "cell_type": "code",
      "source": [
        "# Can save different data types and any size\n",
        "\n",
        "list_1 = [] # empty list\n",
        "even_below_10 = [2,4,6,8]\n",
        "diff_types_5 = [\"5\", 5, 5.0, \"five\"]\n",
        "from_list_object = list(range(0,10,2)) # not preferred\n",
        "\n",
        "print(list_1, even_below_10, diff_types_5, from_list_object)"
      ],
      "metadata": {
        "id": "YKbPrD44jGoU",
        "colab": {
          "base_uri": "https://localhost:8080/"
        },
        "outputId": "f890a2a8-f0fd-4f6d-a9f6-bf3eecf4eca9"
      },
      "execution_count": null,
      "outputs": [
        {
          "output_type": "stream",
          "name": "stdout",
          "text": [
            "[] [2, 4, 6, 8] ['5', 5, 5.0, 'five'] [0, 2, 4, 6, 8]\n"
          ]
        }
      ]
    },
    {
      "cell_type": "markdown",
      "source": [
        "### Access elements from list\n",
        "\n",
        "We use indexes to access elements from list. Python is zero based indexing, the index starts from zero to length of list -1"
      ],
      "metadata": {
        "id": "LiS-ZL9E9zBG"
      }
    },
    {
      "cell_type": "code",
      "source": [
        "# access alements from list\n",
        "\n",
        "string_5_no = diff_types_5[0]\n",
        "print(\"Five as num:\"+string_5_no)\n",
        "\n",
        "string_5_word = diff_types_5[3]\n",
        "print(\"5 as word:\"+string_5_no)\n",
        "\n",
        "# Access elements from last\n",
        "\n",
        "string_5_word_from_last = diff_types_5[-1]\n",
        "print(\"5 as word from last:\"+string_5_no)\n",
        "float_5_from_last = diff_types_5[-2]\n",
        "print(\"5 as float from last:\"+string_5_no)"
      ],
      "metadata": {
        "id": "Q8O9VBdB6-Fv"
      },
      "execution_count": null,
      "outputs": []
    },
    {
      "cell_type": "code",
      "source": [
        "list_of_10 = [1,2,3,4,5,6,7,8,9,10]\n",
        "\n",
        "# index range for loop\n",
        "for i in range(0,len(list_of_10)):  # range is a built in function which will assign 0 to lenght of the list\n",
        "  print(list_of_10[i])\n",
        "\n",
        "# enhanced for loop\n",
        "for i in list_of_10:\n",
        "  print(i)\n"
      ],
      "metadata": {
        "id": "oTeX-2TBkKLL"
      },
      "execution_count": null,
      "outputs": []
    },
    {
      "cell_type": "markdown",
      "source": [
        "### Slicing elements from List\n",
        "\n",
        "we can slice a list to create subset of the list.\n",
        "\n",
        "\n",
        "\n",
        "```\n",
        "Syntax:\n",
        "list[start:stop:step]\n",
        "\n",
        "```\n",
        "\n"
      ],
      "metadata": {
        "id": "WSqecc-6Nt7a"
      }
    },
    {
      "cell_type": "code",
      "source": [
        "list_of_20 = [0,1,2,3,4,5,6,7,8,9,10,11,12,13,14,15,16,17,18,19]\n",
        "list_of_first_10 = list_of_20[0:10:1] # start from 0th index element, end at (10-1)th index element - stop is non inclusive, step value=1, increment index by 1\n",
        "print(list_of_first_10)\n"
      ],
      "metadata": {
        "colab": {
          "base_uri": "https://localhost:8080/"
        },
        "id": "pwN3YLEOOOaN",
        "outputId": "96eedaa3-ff51-45ff-a756-30f82df00472"
      },
      "execution_count": null,
      "outputs": [
        {
          "output_type": "stream",
          "name": "stdout",
          "text": [
            "[0, 1, 2, 3, 4, 5, 6, 7, 8, 9]\n"
          ]
        }
      ]
    },
    {
      "cell_type": "code",
      "source": [
        "#the same can be written with just stop element, python is intelligent enough to take start = index 0 and step = 1  as default\n",
        "list_of_first_10 = list_of_20[:10]\n",
        "print(list_of_first_10)"
      ],
      "metadata": {
        "colab": {
          "base_uri": "https://localhost:8080/"
        },
        "id": "Y7N_6r1mRMXt",
        "outputId": "134f7ad7-cbe5-44bd-ce8d-4a372ad91d7b"
      },
      "execution_count": null,
      "outputs": [
        {
          "output_type": "stream",
          "name": "stdout",
          "text": [
            "[0, 1, 2, 3, 4, 5, 6, 7, 8, 9]\n"
          ]
        }
      ]
    },
    {
      "cell_type": "code",
      "source": [
        "list_of_last_10 = list_of_20[10:20:1] # starts from 10th index element stops at (20-1)th index element step=1\n",
        "print(list_of_last_10)\n",
        "print(list_of_20[10:]) # default value for stop is the last index\n",
        "\n",
        "print(list_of_20[0:len(list_of_20):2])# step =2 will increment index by two after each element\n",
        "print(list_of_20[::2])"
      ],
      "metadata": {
        "colab": {
          "base_uri": "https://localhost:8080/"
        },
        "id": "Y3wh3sJqSov5",
        "outputId": "62917c3c-7fd9-46c0-de18-fa84c884e424"
      },
      "execution_count": null,
      "outputs": [
        {
          "output_type": "stream",
          "name": "stdout",
          "text": [
            "[10, 11, 12, 13, 14, 15, 16, 17, 18, 19]\n",
            "[10, 11, 12, 13, 14, 15, 16, 17, 18, 19]\n",
            "[0, 2, 4, 6, 8, 10, 12, 14, 16, 18]\n",
            "[0, 2, 4, 6, 8, 10, 12, 14, 16, 18]\n"
          ]
        }
      ]
    },
    {
      "cell_type": "code",
      "source": [
        "#To reverse  the list update the step value as -1\n",
        "list_of_20[::-1]\n"
      ],
      "metadata": {
        "colab": {
          "base_uri": "https://localhost:8080/"
        },
        "id": "wL5UOBJTSoQu",
        "outputId": "e3ec26f6-e7bc-4ff4-e733-faa4d1ad38a6"
      },
      "execution_count": null,
      "outputs": [
        {
          "output_type": "execute_result",
          "data": {
            "text/plain": [
              "[19, 18, 17, 16, 15, 14, 13, 12, 11, 10, 9, 8, 7, 6, 5, 4, 3, 2, 1, 0]"
            ]
          },
          "metadata": {},
          "execution_count": 20
        }
      ]
    },
    {
      "cell_type": "markdown",
      "source": [
        "## Adding elements to the list\n",
        "\n",
        "you can use append, insert and extend functions to add alements in list\n",
        "\n",
        "```\n",
        "syntax:\n",
        "list_name.append(val1)\n",
        "\n",
        "list_name.insert(index, val1)\n",
        "\n",
        "list_name.extend(list_name2)\n",
        "```\n",
        "\n"
      ],
      "metadata": {
        "id": "bOkduWvZbBwV"
      }
    },
    {
      "cell_type": "code",
      "source": [
        "# Adding elements to the list using append\n",
        "even_below_10 = [2,4,6,8]\n",
        "even_below_10.append(10) # here we can see append inserts the element at the end\n",
        "print(even_below_10)\n",
        "\n",
        "list_1 = []\n",
        "list_1.append(\"hello\") # will append an element at the end, list_1 is a empty list so it will be the only element\n",
        "print(list_1)\n",
        "\n",
        "list_1.append(\"world\") # Also the order of the element in list is maintained\n",
        "print(list_1)\n"
      ],
      "metadata": {
        "id": "As4IJ653cYZ_"
      },
      "execution_count": null,
      "outputs": []
    },
    {
      "cell_type": "code",
      "source": [
        "# Adding elements to the list using insert\n",
        "fruits = [\"apple\", \"banana\", \"cherry\", \"mango\", \"orange\", \"grapes\"]\n",
        "\n",
        "fruits.insert(0, \"pomegranate\")\n",
        "print(fruits)\n",
        "\n",
        "fruits.insert(3, \"pineapple\")\n",
        "print(fruits)\n",
        "\n"
      ],
      "metadata": {
        "colab": {
          "base_uri": "https://localhost:8080/"
        },
        "id": "NzaeUVpGYeSn",
        "outputId": "392078e4-7d15-47fc-c88c-63ee56a8bac1"
      },
      "execution_count": null,
      "outputs": [
        {
          "output_type": "stream",
          "name": "stdout",
          "text": [
            "['pomegranate', 'apple', 'banana', 'cherry', 'mango', 'orange', 'grapes']\n",
            "['pomegranate', 'apple', 'banana', 'pineapple', 'cherry', 'mango', 'orange', 'grapes']\n"
          ]
        }
      ]
    },
    {
      "cell_type": "code",
      "source": [
        "# extend a list with another list, it will concatenate the list to end of another list\n",
        "list_1 = [1,2,3,4,5]\n",
        "list_2 = [6,7,8,9,10]\n",
        "list_1.extend(list_2)\n",
        "\n",
        "print(list_1)\n"
      ],
      "metadata": {
        "colab": {
          "base_uri": "https://localhost:8080/"
        },
        "id": "NkQTnVk_md-p",
        "outputId": "68c19e40-f4ae-42b3-a5dd-e858f24c2227"
      },
      "execution_count": null,
      "outputs": [
        {
          "output_type": "stream",
          "name": "stdout",
          "text": [
            "[1, 2, 3, 4, 5, 6, 7, 8, 9, 10]\n"
          ]
        }
      ]
    },
    {
      "cell_type": "markdown",
      "source": [
        "### Update values in a list\n",
        "\n",
        "we can update the values in list by referencing it using list index"
      ],
      "metadata": {
        "id": "GxiWZIuMjPjP"
      }
    },
    {
      "cell_type": "code",
      "source": [
        "fruits = [\"apple\", \"banana\", \"cherry\", \"mango\", \"orange\", \"grapes\"]\n",
        "fruits[\"2\"] = \"strawberry\"\n",
        "print(fruits)"
      ],
      "metadata": {
        "id": "pWowLBHE6pMB"
      },
      "execution_count": null,
      "outputs": []
    },
    {
      "cell_type": "markdown",
      "source": [
        "### Remove elements\n",
        "\n",
        "you can remove elements from a list using three ways\n",
        "\n",
        "\n",
        "```\n",
        "1. remove\n",
        "2. pop\n",
        "3. del\n",
        "4. clear # to remove all elements in dictionary\n",
        "```\n",
        "\n",
        "\n",
        "\n"
      ],
      "metadata": {
        "id": "HM_JA6wlm_Iq"
      }
    },
    {
      "cell_type": "code",
      "source": [
        "# remove elements using remove function\n",
        "\n",
        "fruits = [\"apple\", \"banana\", \"cherry\", \"mango\", \"orange\", \"grapes\"]\n",
        "\n",
        "fruits.remove(\"banana\")\n",
        "print(fruits)"
      ],
      "metadata": {
        "colab": {
          "base_uri": "https://localhost:8080/"
        },
        "id": "xRUorVOH61Ci",
        "outputId": "9b77f83e-71e7-481f-f75b-2f3e72c927bb"
      },
      "execution_count": null,
      "outputs": [
        {
          "output_type": "stream",
          "name": "stdout",
          "text": [
            "['apple', 'cherry', 'mango', 'orange', 'grapes']\n"
          ]
        }
      ]
    },
    {
      "cell_type": "code",
      "source": [
        "# remove elements using pop\n",
        "fruits = [\"apple\", \"banana\", \"cherry\", \"mango\", \"orange\", \"grapes\"]\n",
        "\n",
        "fruits.pop()\n",
        "print(fruits)\n",
        "fruits.pop(1)\n",
        "print(fruits)"
      ],
      "metadata": {
        "colab": {
          "base_uri": "https://localhost:8080/"
        },
        "id": "3unrtnvu620R",
        "outputId": "ecce66a3-e75b-4ed0-be1e-2e561e8a0c64"
      },
      "execution_count": null,
      "outputs": [
        {
          "output_type": "stream",
          "name": "stdout",
          "text": [
            "['apple', 'banana', 'cherry', 'mango', 'orange']\n",
            "['apple', 'cherry', 'mango', 'orange']\n"
          ]
        }
      ]
    },
    {
      "cell_type": "code",
      "source": [
        "# remove elements using del\n",
        "\n",
        "fruits = [\"apple\", \"banana\", \"cherry\", \"mango\", \"orange\", \"grapes\"]\n",
        "\n",
        "del fruits[2]\n",
        "print(fruits)"
      ],
      "metadata": {
        "colab": {
          "base_uri": "https://localhost:8080/"
        },
        "id": "UzDyBee4sJbz",
        "outputId": "3074cc6e-f85d-4301-d71c-f86bc6fcdc3e"
      },
      "execution_count": null,
      "outputs": [
        {
          "output_type": "stream",
          "name": "stdout",
          "text": [
            "['apple', 'banana', 'mango', 'orange', 'grapes']\n"
          ]
        }
      ]
    },
    {
      "cell_type": "code",
      "source": [
        "# remove all alements from a list\n",
        "\n",
        "fruits = [\"apple\", \"banana\", \"cherry\", \"mango\", \"orange\", \"grapes\"]\n",
        "\n",
        "fruits.clear()\n",
        "print(fruits)"
      ],
      "metadata": {
        "colab": {
          "base_uri": "https://localhost:8080/"
        },
        "id": "6r-c8_n_sTvQ",
        "outputId": "ba374a1f-aece-4f34-aa4d-b50ee131d939"
      },
      "execution_count": null,
      "outputs": [
        {
          "output_type": "stream",
          "name": "stdout",
          "text": [
            "[]\n"
          ]
        }
      ]
    },
    {
      "cell_type": "markdown",
      "source": [
        "## List Comprehension\n",
        "\n",
        "This is a pythonic way of creating a list. This helps to generate a list in single line\n",
        "\n",
        "\n",
        "```\n",
        "Syntax:\n",
        "variable_name = [i for i in <iterable>]\n",
        "```\n",
        "\n"
      ],
      "metadata": {
        "id": "AzHW7-eiVcwp"
      }
    },
    {
      "cell_type": "code",
      "source": [
        "# Generate a list from 1 to 100\n",
        "one_to_hundred = [i for i in range(1,101)]\n",
        "print(one_to_hundred)\n",
        "\n"
      ],
      "metadata": {
        "colab": {
          "base_uri": "https://localhost:8080/"
        },
        "id": "9dZiF4iUVbHU",
        "outputId": "7ac2af51-2ce4-4743-f168-feb733382a41"
      },
      "execution_count": null,
      "outputs": [
        {
          "output_type": "stream",
          "name": "stdout",
          "text": [
            "[1, 2, 3, 4, 5, 6, 7, 8, 9, 10, 11, 12, 13, 14, 15, 16, 17, 18, 19, 20, 21, 22, 23, 24, 25, 26, 27, 28, 29, 30, 31, 32, 33, 34, 35, 36, 37, 38, 39, 40, 41, 42, 43, 44, 45, 46, 47, 48, 49, 50, 51, 52, 53, 54, 55, 56, 57, 58, 59, 60, 61, 62, 63, 64, 65, 66, 67, 68, 69, 70, 71, 72, 73, 74, 75, 76, 77, 78, 79, 80, 81, 82, 83, 84, 85, 86, 87, 88, 89, 90, 91, 92, 93, 94, 95, 96, 97, 98, 99, 100]\n",
            "[0, 2, 4, 6, 8]\n"
          ]
        }
      ]
    },
    {
      "cell_type": "code",
      "source": [
        "# normal for loop to identify even numbers from a list\n",
        "even_num = []\n",
        "for i in range(0,10):\n",
        "  if i%2 == 0:\n",
        "    even_num.append(i)\n",
        "\n",
        "print(even_num)\n",
        "\n",
        "even_num = [i for i in range(0,10) if i%2==0 ]\n",
        "print(even_num)"
      ],
      "metadata": {
        "colab": {
          "base_uri": "https://localhost:8080/"
        },
        "id": "09M1-0ANYkGG",
        "outputId": "243999ed-0395-4f73-b7fb-b56f9c46534d"
      },
      "execution_count": null,
      "outputs": [
        {
          "output_type": "stream",
          "name": "stdout",
          "text": [
            "[0, 2, 4, 6, 8]\n",
            "[0, 2, 4, 6, 8]\n"
          ]
        }
      ]
    },
    {
      "cell_type": "code",
      "source": [
        "# find unique elements in a list\n",
        "fruits = [\"apple\", \"banana\", \"apple\", \"mango\", \"mango\", \"orange\", \"mango\"]\n",
        "unique_fruits = []\n",
        "for i in fruits:\n",
        "  if i not in unique_fruits:\n",
        "    unique_fruits.append(i)\n",
        "\n",
        "print(unique_fruits)\n",
        "\n"
      ],
      "metadata": {
        "colab": {
          "base_uri": "https://localhost:8080/"
        },
        "id": "f93mJBdDWqG8",
        "outputId": "4f37cc58-170e-476f-e7be-2e10fabe6820"
      },
      "execution_count": null,
      "outputs": [
        {
          "output_type": "stream",
          "name": "stdout",
          "text": [
            "['apple', 'banana', 'mango', 'orange']\n"
          ]
        }
      ]
    },
    {
      "cell_type": "markdown",
      "source": [
        "## Tuples\n",
        "\n",
        "Tuples are static arrays and fixed,  tuples consume less memory and faster compared to list\n",
        "\n",
        "\n",
        "```\n",
        "syntax:\n",
        "\n",
        "variable_name = (val1,val2,val3)\n",
        "variable_name_from_object = tuple(<iterable>)\n",
        "```\n",
        "\n",
        "\n"
      ],
      "metadata": {
        "id": "J8r_Zyz-s1E3"
      }
    },
    {
      "cell_type": "code",
      "source": [
        "odd_num_tuple = (1,3,5,7,9)\n",
        "\n",
        "even_num_tuple = tuple(range(2,9,2))\n",
        "\n",
        "print(odd_num_tuple, even_num_tuple)"
      ],
      "metadata": {
        "colab": {
          "base_uri": "https://localhost:8080/"
        },
        "id": "IlAIjzBXsraS",
        "outputId": "24397990-dec7-43a4-f317-1cc8fe53ea5c"
      },
      "execution_count": null,
      "outputs": [
        {
          "output_type": "stream",
          "name": "stdout",
          "text": [
            "(1, 3, 5, 7, 9) (2, 4, 6, 8)\n"
          ]
        }
      ]
    },
    {
      "cell_type": "markdown",
      "source": [
        "## Access elements from tuple\n",
        "\n",
        "Accessing elements in tuple is same as Lists in python. We use index of the element to access the elements from tuple"
      ],
      "metadata": {
        "id": "oHZgkjA_QGTK"
      }
    },
    {
      "cell_type": "code",
      "source": [
        "odd_num_tuple = (1,3,5,7,9)\n",
        "print(odd_num_tuple[2], odd_num_tuple[0])"
      ],
      "metadata": {
        "colab": {
          "base_uri": "https://localhost:8080/"
        },
        "id": "f6wyNrc7t4Vt",
        "outputId": "2a835622-6d29-4438-f069-059d08efbece"
      },
      "execution_count": null,
      "outputs": [
        {
          "output_type": "stream",
          "name": "stdout",
          "text": [
            "5 1\n"
          ]
        }
      ]
    },
    {
      "cell_type": "markdown",
      "source": [
        "# Updating, Adding or removing values in Tuple\n",
        "\n",
        "Since tuples are static array update, add and remove operations are not available in tuple. once a tuple is assigned with values, it can never be changed, hence tuples are immutable whereas lists are mutable\n",
        "\n",
        "\n",
        "#### List are mutable and tuples are immutable"
      ],
      "metadata": {
        "id": "zlUXcao9RAKR"
      }
    },
    {
      "cell_type": "code",
      "source": [
        "fruits_list = [\"apple\", \"banana\", \"cherry\", \"mango\", \"orange\", \"grapes\"]\n",
        "fruits_list[2] = \"raspberry\" # List object updates as lists are mutable\n",
        "\n",
        "fruits_tuple = (\"apple\", \"banana\", \"cherry\", \"mango\", \"orange\", \"grapes\")\n",
        "fruits_tuple[2] = \"raspberry\" # Throws error as tuples are immutable"
      ],
      "metadata": {
        "colab": {
          "base_uri": "https://localhost:8080/",
          "height": 203
        },
        "id": "hRVL6pqpt5bs",
        "outputId": "15c79d4a-3d7c-4d63-ff73-7d4d5338ecf6"
      },
      "execution_count": null,
      "outputs": [
        {
          "output_type": "error",
          "ename": "TypeError",
          "evalue": "ignored",
          "traceback": [
            "\u001b[0;31m---------------------------------------------------------------------------\u001b[0m",
            "\u001b[0;31mTypeError\u001b[0m                                 Traceback (most recent call last)",
            "\u001b[0;32m<ipython-input-6-4cd9853d08f5>\u001b[0m in \u001b[0;36m<module>\u001b[0;34m()\u001b[0m\n\u001b[1;32m      3\u001b[0m \u001b[0;34m\u001b[0m\u001b[0m\n\u001b[1;32m      4\u001b[0m \u001b[0mfruits_tuple\u001b[0m \u001b[0;34m=\u001b[0m \u001b[0;34m(\u001b[0m\u001b[0;34m\"apple\"\u001b[0m\u001b[0;34m,\u001b[0m \u001b[0;34m\"banana\"\u001b[0m\u001b[0;34m,\u001b[0m \u001b[0;34m\"cherry\"\u001b[0m\u001b[0;34m,\u001b[0m \u001b[0;34m\"mango\"\u001b[0m\u001b[0;34m,\u001b[0m \u001b[0;34m\"orange\"\u001b[0m\u001b[0;34m,\u001b[0m \u001b[0;34m\"grapes\"\u001b[0m\u001b[0;34m)\u001b[0m\u001b[0;34m\u001b[0m\u001b[0;34m\u001b[0m\u001b[0m\n\u001b[0;32m----> 5\u001b[0;31m \u001b[0mfruits_tuple\u001b[0m\u001b[0;34m[\u001b[0m\u001b[0;36m2\u001b[0m\u001b[0;34m]\u001b[0m \u001b[0;34m=\u001b[0m \u001b[0;34m\"raspberry\"\u001b[0m \u001b[0;31m# Throws error as tuples are immutable\u001b[0m\u001b[0;34m\u001b[0m\u001b[0;34m\u001b[0m\u001b[0m\n\u001b[0m",
            "\u001b[0;31mTypeError\u001b[0m: 'tuple' object does not support item assignment"
          ]
        }
      ]
    },
    {
      "cell_type": "markdown",
      "source": [
        "## Slicing a tuple\n",
        "\n",
        "Slicing the tuple is same as list slicing"
      ],
      "metadata": {
        "id": "jBI8KnsXSfs4"
      }
    },
    {
      "cell_type": "code",
      "source": [
        "tuple_of_20 = (0,1,2,3,4,5,6,7,8,9,10,11,12,13,14,15,16,17,18,19)\n",
        "tuple_of_first_10 = tuple_of_20[0:10:1] # start from 0th index element, end at (10-1)th index element - stop is non inclusive, step value=1, increment index by 1\n",
        "print(tuple_of_first_10)\n"
      ],
      "metadata": {
        "colab": {
          "base_uri": "https://localhost:8080/"
        },
        "id": "r8nd52FfScIE",
        "outputId": "3f5e0793-25ab-4c01-c469-0f3776519f4f"
      },
      "execution_count": null,
      "outputs": [
        {
          "output_type": "stream",
          "name": "stdout",
          "text": [
            "(0, 1, 2, 3, 4, 5, 6, 7, 8, 9)\n"
          ]
        }
      ]
    },
    {
      "cell_type": "code",
      "source": [
        "print(tuple_of_20[10:20:2]) # print from 10th index element to (20-1)th index element with a step value of 2\n",
        "print(tuple_of_20[:15]) # print until 15th index element\n",
        "print(tuple_of_20[::-1]) # reverse the elements in the tuple"
      ],
      "metadata": {
        "colab": {
          "base_uri": "https://localhost:8080/"
        },
        "id": "5TafmvxYTaz5",
        "outputId": "f3eb8a3e-4a4d-4d3e-d714-a196d8739bdc"
      },
      "execution_count": null,
      "outputs": [
        {
          "output_type": "stream",
          "name": "stdout",
          "text": [
            "(10, 12, 14, 16, 18)\n",
            "(0, 1, 2, 3, 4, 5, 6, 7, 8, 9, 10, 11, 12, 13, 14)\n",
            "(19, 18, 17, 16, 15, 14, 13, 12, 11, 10, 9, 8, 7, 6, 5, 4, 3, 2, 1, 0)\n"
          ]
        }
      ]
    },
    {
      "cell_type": "markdown",
      "source": [
        "## Dictionaries\n",
        "\n",
        "Dictionaries are key value pairs in python. Each key value pair is called items. This is similar to hash map data structure\n",
        "\n",
        "\n",
        "\n",
        "```\n",
        "variable_name = {key1:val1, key2:val2, key3:val3}\n",
        "variable_name = dict(iterator((key1, val1),(key2,val2),(key3,val3))\n",
        "```\n",
        "\n"
      ],
      "metadata": {
        "id": "IbE2b5VIUldR"
      }
    },
    {
      "cell_type": "code",
      "source": [
        "student1 = {\"English\":90, \"Maths\":100, \"Physics\":40, \"Chemistry\": 25, \"Biology\":70}\n",
        "print(student1)\n",
        "student1 = dict(((\"English\",90), (\"Maths\",100), (\"Physics\",40), (\"Chemistry\", 25), (\"Biology\",70)))\n",
        "print(student1)"
      ],
      "metadata": {
        "colab": {
          "base_uri": "https://localhost:8080/"
        },
        "id": "ZQQ5lJkWTxSt",
        "outputId": "2752070c-ea23-4bc1-acb0-63e15420d3f1"
      },
      "execution_count": null,
      "outputs": [
        {
          "output_type": "stream",
          "name": "stdout",
          "text": [
            "{'English': 90, 'Maths': 100, 'Physics': 40, 'Chemistry': 25, 'Biology': 70}\n",
            "{'English': 90, 'Maths': 100, 'Physics': 40, 'Chemistry': 25, 'Biology': 70}\n"
          ]
        }
      ]
    },
    {
      "cell_type": "markdown",
      "source": [
        "### Accessing Values from a dictionary\n",
        "\n",
        "We can access values of a dictionary by using key as a index. Also using get function with key and a default value\n",
        "\n",
        "\n",
        "\n",
        "\n"
      ],
      "metadata": {
        "id": "B4WbhUQnRbcW"
      }
    },
    {
      "cell_type": "code",
      "source": [
        "student1 = {\"English\":90, \"Maths\":100, \"Physics\":40, \"Chemistry\": 25, \"Biology\":70}\n",
        "# key as index\n",
        "print(student1[\"Maths\"])\n",
        "\n",
        "# using get\n",
        "print(student1.get(\"English\"))\n"
      ],
      "metadata": {
        "colab": {
          "base_uri": "https://localhost:8080/"
        },
        "id": "BOZKkCF8QWP4",
        "outputId": "ad602b3a-0c83-4488-8e7b-fab5b19e0a59"
      },
      "execution_count": null,
      "outputs": [
        {
          "output_type": "stream",
          "name": "stdout",
          "text": [
            "100\n",
            "90\n"
          ]
        }
      ]
    },
    {
      "cell_type": "markdown",
      "source": [
        "## Advantage of using get over index key\n",
        "\n",
        "When using index key, if the key is not present in dictionary it will throw key error, whereas get function will not throw error for wrong key, it returns None by default. Also we can set a default value to be returned if the key is not present in dictionary using get function\n",
        "\n"
      ],
      "metadata": {
        "id": "aAA39nMdSQOf"
      }
    },
    {
      "cell_type": "code",
      "source": [
        "student1 = {\"English\":90, \"Maths\":100, \"Physics\":40, \"Chemistry\": 25, \"Biology\":70}\n",
        "print(student1[\"social\"]) # throws key error, as the key is not present in dictionary"
      ],
      "metadata": {
        "colab": {
          "base_uri": "https://localhost:8080/",
          "height": 186
        },
        "id": "WQCEG-i9QhJA",
        "outputId": "8eeabe4e-834a-4b10-dbb7-75f64557c496"
      },
      "execution_count": null,
      "outputs": [
        {
          "output_type": "error",
          "ename": "KeyError",
          "evalue": "ignored",
          "traceback": [
            "\u001b[0;31m---------------------------------------------------------------------------\u001b[0m",
            "\u001b[0;31mKeyError\u001b[0m                                  Traceback (most recent call last)",
            "\u001b[0;32m<ipython-input-7-36e97b3a082c>\u001b[0m in \u001b[0;36m<module>\u001b[0;34m()\u001b[0m\n\u001b[1;32m      1\u001b[0m \u001b[0mstudent1\u001b[0m \u001b[0;34m=\u001b[0m \u001b[0;34m{\u001b[0m\u001b[0;34m\"English\"\u001b[0m\u001b[0;34m:\u001b[0m\u001b[0;36m90\u001b[0m\u001b[0;34m,\u001b[0m \u001b[0;34m\"Maths\"\u001b[0m\u001b[0;34m:\u001b[0m\u001b[0;36m100\u001b[0m\u001b[0;34m,\u001b[0m \u001b[0;34m\"Physics\"\u001b[0m\u001b[0;34m:\u001b[0m\u001b[0;36m40\u001b[0m\u001b[0;34m,\u001b[0m \u001b[0;34m\"Chemistry\"\u001b[0m\u001b[0;34m:\u001b[0m \u001b[0;36m25\u001b[0m\u001b[0;34m,\u001b[0m \u001b[0;34m\"Biology\"\u001b[0m\u001b[0;34m:\u001b[0m\u001b[0;36m70\u001b[0m\u001b[0;34m}\u001b[0m\u001b[0;34m\u001b[0m\u001b[0;34m\u001b[0m\u001b[0m\n\u001b[0;32m----> 2\u001b[0;31m \u001b[0mprint\u001b[0m\u001b[0;34m(\u001b[0m\u001b[0mstudent1\u001b[0m\u001b[0;34m[\u001b[0m\u001b[0;34m\"social\"\u001b[0m\u001b[0;34m]\u001b[0m\u001b[0;34m)\u001b[0m \u001b[0;31m# throws key error, as the key is not present in dictionary\u001b[0m\u001b[0;34m\u001b[0m\u001b[0;34m\u001b[0m\u001b[0m\n\u001b[0m",
            "\u001b[0;31mKeyError\u001b[0m: 'social'"
          ]
        }
      ]
    },
    {
      "cell_type": "code",
      "source": [
        "student1 = {\"English\":90, \"Maths\":100, \"Physics\":40, \"Chemistry\": 25, \"Biology\":70}\n",
        "print(student1.get(\"social\")) # this will not throw key error, it returns None\n",
        "\n",
        "print(student1.get(\"social\", \"na\")) # we can set our own default value to be returned if key is not present. Here it returns na, instead of None"
      ],
      "metadata": {
        "colab": {
          "base_uri": "https://localhost:8080/"
        },
        "id": "H4_wAM-wTD7q",
        "outputId": "7cdae74d-ec0c-476b-8050-e21e5ebe6747"
      },
      "execution_count": null,
      "outputs": [
        {
          "output_type": "stream",
          "name": "stdout",
          "text": [
            "None\n",
            "na\n"
          ]
        }
      ]
    },
    {
      "cell_type": "markdown",
      "source": [
        "### Updating values in dictionary\n",
        "\n",
        "We can update values in dictionary in two ways\n",
        "\n",
        "\n",
        "\n",
        "```\n",
        "- assigning values using index key\n",
        "- update function for dictionary\n",
        "```\n",
        "\n"
      ],
      "metadata": {
        "id": "PYdeHb4uTj6u"
      }
    },
    {
      "cell_type": "code",
      "source": [
        "# assigning values using index value\n",
        "student1 = {\"English\":90, \"Maths\":100, \"Physics\":40, \"Chemistry\": 25, \"Biology\":70}\n",
        "\n",
        "student1[\"Chemistry\"] = 100 # existing key will be updated with values assiged\n",
        "student1[\"Social\"] = 50 # if key is not already existing, a new key value pair will be inserted in dictionary\n",
        "\n",
        "print(student1)\n",
        "\n",
        "#assigning values using update function\n",
        "\n",
        "student1 = {\"English\":90, \"Maths\":100, \"Physics\":40, \"Chemistry\": 25, \"Biology\":70}\n",
        "student1.update({\"Chemistry\":100, \"Social\": 50}) # use a dictionary or tuple of key and value for the value to be updated\n",
        "                                              # if the keys is not not already existing, a new key value pair will be inserted in dictionary\n",
        "\n",
        "print(student1)"
      ],
      "metadata": {
        "colab": {
          "base_uri": "https://localhost:8080/"
        },
        "id": "xEtT6-SoTOJx",
        "outputId": "5f2deda5-6547-4aa3-e3ca-5a5b2a48e4c8"
      },
      "execution_count": null,
      "outputs": [
        {
          "output_type": "stream",
          "name": "stdout",
          "text": [
            "{'English': 90, 'Maths': 100, 'Physics': 40, 'Chemistry': 100, 'Biology': 70, 'Social': 50}\n",
            "{'English': 90, 'Maths': 100, 'Physics': 40, 'Chemistry': 100, 'Biology': 70, 'Social': 50}\n"
          ]
        }
      ]
    },
    {
      "cell_type": "markdown",
      "source": [
        "## Removing values from Dictionary\n",
        "\n",
        "You can remove values from a dictionary using two ways\n",
        "\n",
        "\n",
        "\n",
        "```\n",
        "- pop\n",
        "- del\n",
        "- clear # to remove all elements in dictionary\n",
        "```\n",
        "\n"
      ],
      "metadata": {
        "id": "EJ_A-FPKlGce"
      }
    },
    {
      "cell_type": "code",
      "source": [
        "#pop\n",
        "student1 = {\"English\":90, \"Maths\":100, \"Physics\":40, \"Chemistry\": 25, \"Biology\":70}\n",
        "\n",
        "student1.pop(\"English\") # mention the key to be deleted in the dictionary\n",
        "print(student1)\n",
        "\n",
        "#del\n",
        "student1 = {\"English\":90, \"Maths\":100, \"Physics\":40, \"Chemistry\": 25, \"Biology\":70}\n",
        "\n",
        "del student1[\"English\"]\n",
        "print(student1)\n"
      ],
      "metadata": {
        "colab": {
          "base_uri": "https://localhost:8080/"
        },
        "id": "EYI3gXUPk9fI",
        "outputId": "60f6ceb3-4d7f-4a1c-b906-aa44be0f0e77"
      },
      "execution_count": null,
      "outputs": [
        {
          "output_type": "stream",
          "name": "stdout",
          "text": [
            "{'Maths': 100, 'Physics': 40, 'Chemistry': 25, 'Biology': 70}\n",
            "{'Maths': 100, 'Physics': 40, 'Chemistry': 25, 'Biology': 70}\n"
          ]
        }
      ]
    },
    {
      "cell_type": "code",
      "source": [
        "# clear all items in dictionary\n",
        "student1 = {\"English\":90, \"Maths\":100, \"Physics\":40, \"Chemistry\": 25, \"Biology\":70}\n",
        "student1.clear()\n",
        "print(student1)\n"
      ],
      "metadata": {
        "colab": {
          "base_uri": "https://localhost:8080/"
        },
        "id": "fHp2Jb8SGwMQ",
        "outputId": "3f6ddeeb-866b-4c21-f5ce-bfd434e378eb"
      },
      "execution_count": null,
      "outputs": [
        {
          "output_type": "stream",
          "name": "stdout",
          "text": [
            "{}\n"
          ]
        }
      ]
    },
    {
      "cell_type": "markdown",
      "source": [
        "### Looping through a dictionary\n",
        "\n",
        "you can loop through the keys in a dictionary and access keys, values and items(keys and values)\n",
        "\n",
        "\n",
        "\n",
        "```\n",
        "dictionary_name.keys()\n",
        "dictionary_name.values()\n",
        "dictionary_name.items()\n",
        "```\n",
        "\n"
      ],
      "metadata": {
        "id": "4P6NxVaEmwDa"
      }
    },
    {
      "cell_type": "code",
      "source": [
        "student1 = {\"English\":90, \"Maths\":100, \"Physics\":40, \"Chemistry\": 25, \"Biology\":70}\n",
        "print(student1.keys()) # returns an iterable with only keys\n",
        "print(student1.values()) # returns only the values\n",
        "print(student1.items()) # returns both key and value"
      ],
      "metadata": {
        "colab": {
          "base_uri": "https://localhost:8080/"
        },
        "id": "jsGEqdt6maJG",
        "outputId": "07295036-87d9-44d3-9f4c-11e74d07d6f3"
      },
      "execution_count": null,
      "outputs": [
        {
          "output_type": "stream",
          "name": "stdout",
          "text": [
            "dict_keys(['English', 'Maths', 'Physics', 'Chemistry', 'Biology'])\n",
            "dict_values([90, 100, 40, 25, 70])\n",
            "dict_items([('English', 90), ('Maths', 100), ('Physics', 40), ('Chemistry', 25), ('Biology', 70)])\n"
          ]
        }
      ]
    },
    {
      "cell_type": "code",
      "source": [
        "# for each loop on keys, values and items\n",
        "print(\"The subjects scored by student:\")\n",
        "for i in student1.keys():\n",
        "  print(i)\n",
        "\n",
        "print(\"Has the student passed in all exams?\")\n",
        "fail_flag = False\n",
        "for i in student1.values():\n",
        "  if i < 40:\n",
        "    fail_flag = True\n",
        "if fail_flag:\n",
        "  print(\"No,Student has failed\")\n",
        "else:\n",
        "  print(\"Yes,Student has passed\")\n",
        "\n",
        "\n",
        "print(\"Identify the subject in which the student has failed and its mark\")\n",
        "\n",
        "for key, value in student1.items():\n",
        "  if value < 40:\n",
        "    print(\"Student has failed in \" +key+ \"  as the score is only \"+str(value))\n",
        "\n"
      ],
      "metadata": {
        "colab": {
          "base_uri": "https://localhost:8080/"
        },
        "id": "xwSFQiE-n46I",
        "outputId": "ff016d75-d7a8-419a-c702-bdc9f083c914"
      },
      "execution_count": null,
      "outputs": [
        {
          "output_type": "stream",
          "name": "stdout",
          "text": [
            "The subjects scored by student:\n",
            "English\n",
            "Maths\n",
            "Physics\n",
            "Chemistry\n",
            "Biology\n",
            "Has the student passed in all exams?\n",
            "No,Student has failed\n",
            "Identify the subject in which the student has failed and its mark\n",
            "Student has failed in Chemistry  as the score is only 25\n"
          ]
        }
      ]
    },
    {
      "cell_type": "markdown",
      "source": [
        "### Dictionary Comprehension\n",
        "\n",
        "Pythonic way to create a dictionary in a single line\n",
        "\n",
        "\n",
        "\n",
        "```\n",
        "syntax:\n",
        "dictionary_name = {key:val for key,val in iterator(that returns key and value)}\n",
        "```\n",
        "\n"
      ],
      "metadata": {
        "id": "_baMN2DzqdHT"
      }
    },
    {
      "cell_type": "code",
      "source": [
        "#create a dictionary with key as numbers and value as square of that number\n",
        "\n",
        "square_num_dict = { i: i*i for i in range(1,11)} #i is the key and i*i is the value\n",
        "\n",
        "print(square_num_dict)"
      ],
      "metadata": {
        "colab": {
          "base_uri": "https://localhost:8080/"
        },
        "id": "kLqJfYk7pw1C",
        "outputId": "1a55d5e6-af27-4903-a206-b3489f3c29ae"
      },
      "execution_count": null,
      "outputs": [
        {
          "output_type": "stream",
          "name": "stdout",
          "text": [
            "{1: 1, 2: 4, 3: 9, 4: 16, 5: 25, 6: 36, 7: 49, 8: 64, 9: 81, 10: 100}\n"
          ]
        }
      ]
    },
    {
      "cell_type": "code",
      "source": [
        "# create a dictionary from two lists using zip function\n",
        "subjects = [\"English\", \"Maths\", \"Physics\", \"Chemistry\", \"Biology\"]\n",
        "marks = [90,100, 40, 25, 70]\n",
        "\n",
        "subject_mark_dict = {subject:mark for subject, mark in zip(subjects, marks)} # Zip combines two seperate iterables into a pair of iterables\n",
        "print(subject_mark_dict)"
      ],
      "metadata": {
        "colab": {
          "base_uri": "https://localhost:8080/"
        },
        "id": "Sp7wi-devI98",
        "outputId": "88309d34-7e2f-4dfe-d394-5a4ee54669c4"
      },
      "execution_count": null,
      "outputs": [
        {
          "output_type": "stream",
          "name": "stdout",
          "text": [
            "{'English': 90, 'Maths': 100, 'Physics': 40, 'Chemistry': 25, 'Biology': 70}\n"
          ]
        }
      ]
    },
    {
      "cell_type": "code",
      "source": [
        "list(zip(subjects, marks))"
      ],
      "metadata": {
        "colab": {
          "base_uri": "https://localhost:8080/"
        },
        "id": "ZrTNbXayv-d3",
        "outputId": "c459c3df-6624-4b26-8aa8-10f31b1df25d"
      },
      "execution_count": null,
      "outputs": [
        {
          "output_type": "execute_result",
          "data": {
            "text/plain": [
              "[('English', 90),\n",
              " ('Maths', 100),\n",
              " ('Physics', 40),\n",
              " ('Chemistry', 25),\n",
              " ('Biology', 70)]"
            ]
          },
          "metadata": {},
          "execution_count": 28
        }
      ]
    },
    {
      "cell_type": "markdown",
      "source": [
        "## Sets\n",
        "\n",
        "Sets are unordered, mutable lists but can have only unique elements in it\n",
        "\n",
        "\n",
        "\n",
        "```\n",
        "variable_name = {val1,val2, val3}\n",
        "variable_name = set(iterator)\n",
        "```\n",
        "\n"
      ],
      "metadata": {
        "id": "yekFlNCuwSif"
      }
    },
    {
      "cell_type": "code",
      "source": [
        "# values in a dice set\n",
        "dice_1 = {1,2,3,4,5,6}\n",
        "dice_2 = set((1,2,3,4,5,6))\n",
        "\n",
        "print(dice_1,dice_2)"
      ],
      "metadata": {
        "colab": {
          "base_uri": "https://localhost:8080/"
        },
        "id": "YVEhnLF8wBW0",
        "outputId": "683fa753-8317-4391-95c3-1158c52770f3"
      },
      "execution_count": null,
      "outputs": [
        {
          "output_type": "stream",
          "name": "stdout",
          "text": [
            "{1, 2, 3, 4, 5, 6} {1, 2, 3, 4, 5, 6}\n"
          ]
        }
      ]
    },
    {
      "cell_type": "markdown",
      "source": [
        "### Only unique values in a set\n",
        "\n",
        "Set as a mathematical set can contain only unique values in it"
      ],
      "metadata": {
        "id": "aIHITHz43bFe"
      }
    },
    {
      "cell_type": "code",
      "source": [
        "list_1 = [1, 2, 2, 3, 5, 3, 6, 4, 4, 5, 6 ]\n",
        "unique_elements = set(list_1)\n",
        "print(list_1)\n",
        "print(unique_elements)"
      ],
      "metadata": {
        "colab": {
          "base_uri": "https://localhost:8080/"
        },
        "id": "PiwbZj6X3jmk",
        "outputId": "970d6f13-e405-40ad-ee4d-1c3412aef56f"
      },
      "execution_count": null,
      "outputs": [
        {
          "output_type": "stream",
          "name": "stdout",
          "text": [
            "[1, 2, 2, 3, 5, 3, 6, 4, 4, 5, 6]\n",
            "{1, 2, 3, 4, 5, 6}\n"
          ]
        }
      ]
    },
    {
      "cell_type": "markdown",
      "source": [
        "## Access elements in a set\n",
        "\n",
        "Since sets are unordered, we cannot access the elements in set using indexes. only we can loop through the elements in set"
      ],
      "metadata": {
        "id": "_2kIoauj90ku"
      }
    },
    {
      "cell_type": "code",
      "source": [
        "dice_1 = {1,2,3,4,5,6}\n",
        "print(dice_1[1]) # throws error\n"
      ],
      "metadata": {
        "colab": {
          "base_uri": "https://localhost:8080/",
          "height": 186
        },
        "id": "S4pokayc-E0i",
        "outputId": "158c51fc-3d7d-4f69-e9e6-5eaa2f835aca"
      },
      "execution_count": null,
      "outputs": [
        {
          "output_type": "error",
          "ename": "TypeError",
          "evalue": "ignored",
          "traceback": [
            "\u001b[0;31m---------------------------------------------------------------------------\u001b[0m",
            "\u001b[0;31mTypeError\u001b[0m                                 Traceback (most recent call last)",
            "\u001b[0;32m<ipython-input-34-550983b79901>\u001b[0m in \u001b[0;36m<module>\u001b[0;34m()\u001b[0m\n\u001b[1;32m      1\u001b[0m \u001b[0mdice_1\u001b[0m \u001b[0;34m=\u001b[0m \u001b[0;34m{\u001b[0m\u001b[0;36m1\u001b[0m\u001b[0;34m,\u001b[0m\u001b[0;36m2\u001b[0m\u001b[0;34m,\u001b[0m\u001b[0;36m3\u001b[0m\u001b[0;34m,\u001b[0m\u001b[0;36m4\u001b[0m\u001b[0;34m,\u001b[0m\u001b[0;36m5\u001b[0m\u001b[0;34m,\u001b[0m\u001b[0;36m6\u001b[0m\u001b[0;34m}\u001b[0m\u001b[0;34m\u001b[0m\u001b[0;34m\u001b[0m\u001b[0m\n\u001b[0;32m----> 2\u001b[0;31m \u001b[0mprint\u001b[0m\u001b[0;34m(\u001b[0m\u001b[0mdice_1\u001b[0m\u001b[0;34m[\u001b[0m\u001b[0;36m1\u001b[0m\u001b[0;34m]\u001b[0m\u001b[0;34m)\u001b[0m \u001b[0;31m# throws error\u001b[0m\u001b[0;34m\u001b[0m\u001b[0;34m\u001b[0m\u001b[0m\n\u001b[0m",
            "\u001b[0;31mTypeError\u001b[0m: 'set' object is not subscriptable"
          ]
        }
      ]
    },
    {
      "cell_type": "code",
      "source": [
        "# as a work around you can create a list from set and then access each elements using index\n",
        "dice_1_list = list(dice_1) #casting set to list\n",
        "print(dice_1_list)\n",
        "print(dice_1_list[0])"
      ],
      "metadata": {
        "colab": {
          "base_uri": "https://localhost:8080/"
        },
        "id": "Digs9g9Y-YrN",
        "outputId": "7c3c348a-86a7-43bb-efc5-4ca170d84d01"
      },
      "execution_count": null,
      "outputs": [
        {
          "output_type": "stream",
          "name": "stdout",
          "text": [
            "[1, 2, 3, 4, 5, 6]\n",
            "1\n"
          ]
        }
      ]
    },
    {
      "cell_type": "code",
      "source": [
        "# access the elements in a set using for loop\n",
        "dice_1 = {1,2,3,4,5,6}\n",
        "for i in dice_1:\n",
        "  print(i)"
      ],
      "metadata": {
        "colab": {
          "base_uri": "https://localhost:8080/"
        },
        "id": "s7JzivJe-PpE",
        "outputId": "29e4de10-f5dd-48a7-cdc1-557a92b8ef16"
      },
      "execution_count": null,
      "outputs": [
        {
          "output_type": "stream",
          "name": "stdout",
          "text": [
            "1\n",
            "2\n",
            "3\n",
            "4\n",
            "5\n",
            "6\n"
          ]
        }
      ]
    },
    {
      "cell_type": "markdown",
      "source": [
        "### Update elements in a set\n",
        "\n",
        "Set doesn't allow you to update existing elements in it"
      ],
      "metadata": {
        "id": "f00qanyw85QL"
      }
    },
    {
      "cell_type": "code",
      "source": [
        "dice_1 = {1,2,3,4,5,6}\n",
        "dice_1[1]"
      ],
      "metadata": {
        "colab": {
          "base_uri": "https://localhost:8080/",
          "height": 186
        },
        "id": "psBtPs683yLW",
        "outputId": "e606571c-3b52-4d2f-852c-18cedd479b36"
      },
      "execution_count": null,
      "outputs": [
        {
          "output_type": "error",
          "ename": "TypeError",
          "evalue": "ignored",
          "traceback": [
            "\u001b[0;31m---------------------------------------------------------------------------\u001b[0m",
            "\u001b[0;31mTypeError\u001b[0m                                 Traceback (most recent call last)",
            "\u001b[0;32m<ipython-input-33-42aebfcd547d>\u001b[0m in \u001b[0;36m<module>\u001b[0;34m()\u001b[0m\n\u001b[1;32m      1\u001b[0m \u001b[0mdice_1\u001b[0m \u001b[0;34m=\u001b[0m \u001b[0;34m{\u001b[0m\u001b[0;36m1\u001b[0m\u001b[0;34m,\u001b[0m\u001b[0;36m2\u001b[0m\u001b[0;34m,\u001b[0m\u001b[0;36m3\u001b[0m\u001b[0;34m,\u001b[0m\u001b[0;36m4\u001b[0m\u001b[0;34m,\u001b[0m\u001b[0;36m5\u001b[0m\u001b[0;34m,\u001b[0m\u001b[0;36m6\u001b[0m\u001b[0;34m}\u001b[0m\u001b[0;34m\u001b[0m\u001b[0;34m\u001b[0m\u001b[0m\n\u001b[0;32m----> 2\u001b[0;31m \u001b[0mdice_1\u001b[0m\u001b[0;34m[\u001b[0m\u001b[0;36m1\u001b[0m\u001b[0;34m]\u001b[0m\u001b[0;34m\u001b[0m\u001b[0;34m\u001b[0m\u001b[0m\n\u001b[0m",
            "\u001b[0;31mTypeError\u001b[0m: 'set' object is not subscriptable"
          ]
        }
      ]
    },
    {
      "cell_type": "markdown",
      "source": [
        "# Update existing elements is not possible, but adding new elements is possible\n",
        "\n",
        "We can do this using two functions\n",
        "\n",
        "\n",
        "```\n",
        "-- add\n",
        "-- update # this adds an iterable into existing set\n",
        "```\n",
        "\n"
      ],
      "metadata": {
        "id": "8TVfhEcJ-1Ya"
      }
    },
    {
      "cell_type": "code",
      "source": [
        "# add single item to a set\n",
        "countries = {\"India\", \"USA\", \"Russia\", \"China\", \"United Kingdom\"}\n",
        "countries.add(\"Germany\")\n",
        "\n",
        "print(countries)"
      ],
      "metadata": {
        "colab": {
          "base_uri": "https://localhost:8080/"
        },
        "id": "odbI4o2m9T6d",
        "outputId": "603dcdbf-877a-482d-e76e-91e34d895f55"
      },
      "execution_count": null,
      "outputs": [
        {
          "output_type": "stream",
          "name": "stdout",
          "text": [
            "{'Russia', 'Germany', 'USA', 'China', 'India', 'United Kingdom'}\n"
          ]
        }
      ]
    },
    {
      "cell_type": "code",
      "source": [
        "# add multiple item to a set\n",
        "countries = {\"India\", \"USA\", \"Russia\", \"China\", \"United Kingdom\"}\n",
        "island_countries = {\"Australia\", \"Sri Lanka\", \"Maldives\", \"Indonesia\", \"Cuba\"} #set or any iterable\n",
        "\n",
        "countries.update(island_countries)\n",
        "print(countries)\n"
      ],
      "metadata": {
        "colab": {
          "base_uri": "https://localhost:8080/"
        },
        "id": "HK4S8ne1F3zG",
        "outputId": "47fcc1aa-a2c1-4395-8f43-9f5446f6a387"
      },
      "execution_count": null,
      "outputs": [
        {
          "output_type": "stream",
          "name": "stdout",
          "text": [
            "{'Russia', 'Cuba', 'Indonesia', 'Sri Lanka', 'Maldives', 'USA', 'China', 'Australia', 'India', 'United Kingdom'}\n"
          ]
        }
      ]
    },
    {
      "cell_type": "markdown",
      "source": [
        "### Remove elements from a set\n",
        "\n",
        "We can remove elements from set using the below methods\n",
        "\n",
        "\n",
        "\n",
        "```\n",
        "remove  # throws error if the item is not present in set\n",
        "discard # Does not throw error if the item is not present in set\n",
        "pop # removes a random item from set, since set is unordered\n",
        "clear # makes the set empty\n",
        "```\n",
        "\n"
      ],
      "metadata": {
        "id": "qQYs8hWNHNE5"
      }
    },
    {
      "cell_type": "code",
      "source": [
        "# remove\n",
        "countries = {'Russia', 'Cuba', 'Indonesia', 'Sri Lanka', 'Maldives', 'USA', 'China', 'Australia', 'India', 'United Kingdom'}\n",
        "countries.remove(\"China\")\n",
        "print(countries)\n",
        "\n",
        "#removing countries not present in set - throws error\n",
        "countries.remove(\"Afghanistan\")"
      ],
      "metadata": {
        "colab": {
          "base_uri": "https://localhost:8080/",
          "height": 221
        },
        "id": "Sl4kV0K3F8uJ",
        "outputId": "bdd4753d-a86b-45a7-94d1-b4fb02142cb9"
      },
      "execution_count": null,
      "outputs": [
        {
          "output_type": "stream",
          "name": "stdout",
          "text": [
            "{'Russia', 'Cuba', 'Indonesia', 'Sri Lanka', 'Maldives', 'USA', 'Australia', 'India', 'United Kingdom'}\n"
          ]
        },
        {
          "output_type": "error",
          "ename": "KeyError",
          "evalue": "ignored",
          "traceback": [
            "\u001b[0;31m---------------------------------------------------------------------------\u001b[0m",
            "\u001b[0;31mKeyError\u001b[0m                                  Traceback (most recent call last)",
            "\u001b[0;32m<ipython-input-49-53c4a175c77d>\u001b[0m in \u001b[0;36m<module>\u001b[0;34m()\u001b[0m\n\u001b[1;32m      5\u001b[0m \u001b[0;34m\u001b[0m\u001b[0m\n\u001b[1;32m      6\u001b[0m \u001b[0;31m#removing countries not present in set - throws error\u001b[0m\u001b[0;34m\u001b[0m\u001b[0;34m\u001b[0m\u001b[0;34m\u001b[0m\u001b[0m\n\u001b[0;32m----> 7\u001b[0;31m \u001b[0mcountries\u001b[0m\u001b[0;34m.\u001b[0m\u001b[0mremove\u001b[0m\u001b[0;34m(\u001b[0m\u001b[0;34m\"Afghanistan\"\u001b[0m\u001b[0;34m)\u001b[0m\u001b[0;34m\u001b[0m\u001b[0;34m\u001b[0m\u001b[0m\n\u001b[0m",
            "\u001b[0;31mKeyError\u001b[0m: 'Afghanistan'"
          ]
        }
      ]
    },
    {
      "cell_type": "code",
      "source": [
        "# discard\n",
        "countries = {'Russia', 'Cuba', 'Indonesia', 'Sri Lanka', 'Maldives', 'USA', 'China', 'Australia', 'India', 'United Kingdom'}\n",
        "countries.discard(\"China\")\n",
        "print(countries)\n",
        "\n",
        "#discarding countries not present in set - does not throw error\n",
        "countries.discard(\"Afghanistan\") # this does nothing\n",
        "print(countries)"
      ],
      "metadata": {
        "colab": {
          "base_uri": "https://localhost:8080/"
        },
        "id": "-_YnWYLuGBAu",
        "outputId": "3285a34a-ee26-41b4-fa42-ec812d571f42"
      },
      "execution_count": null,
      "outputs": [
        {
          "output_type": "stream",
          "name": "stdout",
          "text": [
            "{'Russia', 'Cuba', 'Indonesia', 'Sri Lanka', 'Maldives', 'USA', 'Australia', 'India', 'United Kingdom'}\n",
            "{'Russia', 'Cuba', 'Indonesia', 'Sri Lanka', 'Maldives', 'USA', 'Australia', 'India', 'United Kingdom'}\n"
          ]
        }
      ]
    },
    {
      "cell_type": "code",
      "source": [
        "# pop - removes item randomly\n",
        "countries = {'Russia','USA', 'China', 'India', 'United Kingdom'}\n",
        "countries.pop()\n",
        "print(countries)"
      ],
      "metadata": {
        "colab": {
          "base_uri": "https://localhost:8080/"
        },
        "id": "3Kp8CWS0JTAf",
        "outputId": "13d8f51d-0e2e-4a7c-c058-9c6d37eae274"
      },
      "execution_count": null,
      "outputs": [
        {
          "output_type": "stream",
          "name": "stdout",
          "text": [
            "{'USA', 'China', 'India', 'United Kingdom'}\n"
          ]
        }
      ]
    },
    {
      "cell_type": "code",
      "source": [
        "# remove all items in set\n",
        "countries = {'Russia','USA', 'China', 'India', 'United Kingdom'}\n",
        "countries.clear()\n",
        "print(countries)"
      ],
      "metadata": {
        "colab": {
          "base_uri": "https://localhost:8080/"
        },
        "id": "uJxJfzFxJh_Y",
        "outputId": "a4b11dda-edee-4def-8836-ada5cd665202"
      },
      "execution_count": null,
      "outputs": [
        {
          "output_type": "stream",
          "name": "stdout",
          "text": [
            "set()\n"
          ]
        }
      ]
    },
    {
      "cell_type": "markdown",
      "source": [
        "## Set operations\n",
        "\n",
        "Set data structure is unique because of set operations that can be performed using it\n",
        "\n",
        "\n",
        "\n",
        "```\n",
        "It supports following operations\n",
        "- union        # returns all the items in two sets, but only once\n",
        "- intersection # returns only items common between two sets\n",
        "- difference.  # returns items that are not common in first set\n",
        "- symmetric difference # returns items that are not common in both set\n",
        "```\n",
        "\n"
      ],
      "metadata": {
        "id": "1g22G6kYKVuT"
      }
    },
    {
      "cell_type": "code",
      "source": [
        "countries = {\"India\", \"Japan\", \"USA\", \"Russia\", \"China\", \"United Kingdom\"}\n",
        "island_countries = {\"Australia\", \"Sri Lanka\", \"United Kingdom\", \"Japan\"}\n",
        "\n",
        "print(\"Union Operation\")\n",
        "print(countries.union(island_countries)) # returns all items in both sets and each item will be present only once\n",
        "print(countries | island_countries) # This is using | operator, same as union function\n",
        "\n",
        "print(\"Intersection Operation\")\n",
        "print(countries.intersection(island_countries)) # returns items common to both sets\n",
        "print(countries & island_countries) # This is using & operation, same as intersection function\n",
        "\n",
        "print(\"Difference Operation\")\n",
        "print(countries.difference(island_countries)) # returns items from first set(countries) that are not present in second set\n",
        "print(countries - island_countries) # This is using - operation, same as difference function\n",
        "\n",
        "\n",
        "print(\"Symmetric Difference Operation\")\n",
        "print(countries.symmetric_difference(island_countries)) # returns uncommon items from first set(countries) and second set(island_countries)\n",
        "print(countries ^ island_countries) # This is using ^ operation, same as symmetric difference function"
      ],
      "metadata": {
        "colab": {
          "base_uri": "https://localhost:8080/"
        },
        "id": "b5Xg8qZmKVIi",
        "outputId": "7e536752-479b-491d-9419-bb374c56088d"
      },
      "execution_count": null,
      "outputs": [
        {
          "output_type": "stream",
          "name": "stdout",
          "text": [
            "Union Operation\n",
            "{'Russia', 'Sri Lanka', 'USA', 'Japan', 'China', 'Australia', 'India', 'United Kingdom'}\n",
            "{'Russia', 'Sri Lanka', 'USA', 'Japan', 'China', 'Australia', 'India', 'United Kingdom'}\n",
            "Intersection Operation\n",
            "{'United Kingdom', 'Japan'}\n",
            "{'United Kingdom', 'Japan'}\n",
            "Difference Operation\n",
            "{'China', 'Russia', 'USA', 'India'}\n",
            "{'China', 'Russia', 'USA', 'India'}\n",
            "Symmetric Difference Operation\n",
            "{'Russia', 'Sri Lanka', 'USA', 'China', 'Australia', 'India'}\n",
            "{'Russia', 'Sri Lanka', 'USA', 'China', 'Australia', 'India'}\n"
          ]
        }
      ]
    },
    {
      "cell_type": "code",
      "source": [],
      "metadata": {
        "id": "rlCUZtnMKTPy"
      },
      "execution_count": null,
      "outputs": []
    },
    {
      "cell_type": "code",
      "source": [],
      "metadata": {
        "id": "85Qm9L1WeBwY"
      },
      "execution_count": null,
      "outputs": []
    }
  ]
}