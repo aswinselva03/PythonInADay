{
  "nbformat": 4,
  "nbformat_minor": 0,
  "metadata": {
    "colab": {
      "provenance": [],
      "authorship_tag": "ABX9TyOCTro2FVIpddtS1ZaXw0+C",
      "include_colab_link": true
    },
    "kernelspec": {
      "name": "python3",
      "display_name": "Python 3"
    },
    "language_info": {
      "name": "python"
    }
  },
  "cells": [
    {
      "cell_type": "markdown",
      "metadata": {
        "id": "view-in-github",
        "colab_type": "text"
      },
      "source": [
        "<a href=\"https://colab.research.google.com/github/aswinselva03/PythonInADay/blob/main/Python_in_a_Day_Error_Handling_Notebook_6.ipynb\" target=\"_parent\"><img src=\"https://colab.research.google.com/assets/colab-badge.svg\" alt=\"Open In Colab\"/></a>"
      ]
    },
    {
      "cell_type": "markdown",
      "source": [
        "# Error handling in python\n",
        "\n",
        "Error in code can happen at runtime due to multiple reasons some of that include, change in data expected by code, system down, database down etc.\n",
        "\n",
        "Whenever an error occurs, we should not allow the program to crash and close. We should be able to handle the error and continue with our code\n",
        "\n",
        "\n",
        "\n",
        "```\n",
        "try:\n",
        "   <code that might throw exception>\n",
        "except Exception as e:\n",
        "   <handle the error>\n",
        "```\n",
        "\n"
      ],
      "metadata": {
        "id": "5dZzLYIh5tXa"
      }
    },
    {
      "cell_type": "markdown",
      "source": [
        "Let's see an example exception ZeroDivisionError. Note that once the exception occurs, the next line of code doesn't execute as the program has crashed"
      ],
      "metadata": {
        "id": "81bxjqkI8KKg"
      }
    },
    {
      "cell_type": "code",
      "execution_count": null,
      "metadata": {
        "colab": {
          "base_uri": "https://localhost:8080/",
          "height": 168
        },
        "id": "GmWHRola5LNM",
        "outputId": "b1052993-3b4a-470f-86a6-91b8017383c3"
      },
      "outputs": [
        {
          "output_type": "error",
          "ename": "ZeroDivisionError",
          "evalue": "ignored",
          "traceback": [
            "\u001b[0;31m---------------------------------------------------------------------------\u001b[0m",
            "\u001b[0;31mZeroDivisionError\u001b[0m                         Traceback (most recent call last)",
            "\u001b[0;32m<ipython-input-1-6c16767f6731>\u001b[0m in \u001b[0;36m<module>\u001b[0;34m()\u001b[0m\n\u001b[0;32m----> 1\u001b[0;31m \u001b[0ma\u001b[0m \u001b[0;34m=\u001b[0m \u001b[0;36m1\u001b[0m\u001b[0;34m/\u001b[0m\u001b[0;36m0\u001b[0m\u001b[0;34m\u001b[0m\u001b[0;34m\u001b[0m\u001b[0m\n\u001b[0m",
            "\u001b[0;31mZeroDivisionError\u001b[0m: division by zero"
          ]
        }
      ],
      "source": [
        "a = 1/0\n",
        "print(a)"
      ]
    },
    {
      "cell_type": "markdown",
      "source": [
        "Here we are handling the exception and proceeding with exception. As we are tring to print the value of a, in exception block we assign a as 0\n",
        "\n",
        "```\n",
        "try:\n",
        "    we place the code that can throw error in try block\n",
        "except ExceptionError as e:\n",
        "    we can handle the exception in except block\n",
        "```\n",
        "\n"
      ],
      "metadata": {
        "id": "zTTDX8kO-FS6"
      }
    },
    {
      "cell_type": "code",
      "source": [
        "b = 0\n",
        "try:\n",
        "    a = 1/b\n",
        "except ZeroDivisionError as e:\n",
        "    print(\"Error occured:\", str(e))  #str(e) prints the error message from exception\n",
        "    a = 0\n",
        "\n",
        "print(\"value of a after error:\",a)"
      ],
      "metadata": {
        "colab": {
          "base_uri": "https://localhost:8080/"
        },
        "id": "uAK3s_7x8Fzx",
        "outputId": "9d5bde0b-a878-4e37-d0cc-6f39347215d3"
      },
      "execution_count": null,
      "outputs": [
        {
          "output_type": "stream",
          "name": "stdout",
          "text": [
            "Error occured: division by zero\n",
            "value of a after error: 0\n"
          ]
        }
      ]
    },
    {
      "cell_type": "markdown",
      "source": [
        "## Multiple except block\n",
        "\n",
        "If a try block can raise mutiple errors, we should have multiple except block to handle those errors or else the code will crash at the inception of unhandled errors"
      ],
      "metadata": {
        "id": "rJUHNPXuAXhZ"
      }
    },
    {
      "cell_type": "code",
      "source": [
        "b = 1\n",
        "try:\n",
        "    a = 1/b # Now this will not throw DivisionByZeroError\n",
        "    print(c) # This will throw name error, if this is not handled again the code will crash\n",
        "except ZeroDivisionError as e:\n",
        "    print(\"Error occured:\", str(e))\n",
        "    a = 0\n",
        "\n",
        "print(\"value of a:\",a)"
      ],
      "metadata": {
        "colab": {
          "base_uri": "https://localhost:8080/",
          "height": 239
        },
        "id": "6F6Htt1xAYT8",
        "outputId": "389b2d81-b7dc-49ff-8cce-23dc278a1c8d"
      },
      "execution_count": null,
      "outputs": [
        {
          "output_type": "error",
          "ename": "NameError",
          "evalue": "ignored",
          "traceback": [
            "\u001b[0;31m---------------------------------------------------------------------------\u001b[0m",
            "\u001b[0;31mNameError\u001b[0m                                 Traceback (most recent call last)",
            "\u001b[0;32m<ipython-input-6-144da1026660>\u001b[0m in \u001b[0;36m<module>\u001b[0;34m()\u001b[0m\n\u001b[1;32m      2\u001b[0m \u001b[0;32mtry\u001b[0m\u001b[0;34m:\u001b[0m\u001b[0;34m\u001b[0m\u001b[0;34m\u001b[0m\u001b[0m\n\u001b[1;32m      3\u001b[0m     \u001b[0ma\u001b[0m \u001b[0;34m=\u001b[0m \u001b[0;36m1\u001b[0m\u001b[0;34m/\u001b[0m\u001b[0mb\u001b[0m \u001b[0;31m# Now this will not throw DivisionByZeroError\u001b[0m\u001b[0;34m\u001b[0m\u001b[0;34m\u001b[0m\u001b[0m\n\u001b[0;32m----> 4\u001b[0;31m     \u001b[0mprint\u001b[0m\u001b[0;34m(\u001b[0m\u001b[0mc\u001b[0m\u001b[0;34m)\u001b[0m \u001b[0;31m# This will throw name error, if this is not handled again the code will crash\u001b[0m\u001b[0;34m\u001b[0m\u001b[0;34m\u001b[0m\u001b[0m\n\u001b[0m\u001b[1;32m      5\u001b[0m \u001b[0;32mexcept\u001b[0m \u001b[0mZeroDivisionError\u001b[0m \u001b[0;32mas\u001b[0m \u001b[0me\u001b[0m\u001b[0;34m:\u001b[0m\u001b[0;34m\u001b[0m\u001b[0;34m\u001b[0m\u001b[0m\n\u001b[1;32m      6\u001b[0m     \u001b[0mprint\u001b[0m\u001b[0;34m(\u001b[0m\u001b[0;34m\"Error occured:\"\u001b[0m\u001b[0;34m,\u001b[0m \u001b[0mstr\u001b[0m\u001b[0;34m(\u001b[0m\u001b[0me\u001b[0m\u001b[0;34m)\u001b[0m\u001b[0;34m)\u001b[0m\u001b[0;34m\u001b[0m\u001b[0;34m\u001b[0m\u001b[0m\n",
            "\u001b[0;31mNameError\u001b[0m: name 'c' is not defined"
          ]
        }
      ]
    },
    {
      "cell_type": "code",
      "source": [
        "b = 1\n",
        "try:\n",
        "    a = 1/b # Now this will not throw DivisionByZeroError\n",
        "    print(c) # This is handled now and will work fine\n",
        "except ZeroDivisionError as e:\n",
        "    print(\"Error occured:\", str(e))\n",
        "    a = 0\n",
        "except NameError as e:\n",
        "    print(\"Error occured\", str(e))\n",
        "    c = None\n",
        "\n",
        "print(\"value of a:\",a)"
      ],
      "metadata": {
        "colab": {
          "base_uri": "https://localhost:8080/"
        },
        "id": "BM4EaS9jFHGZ",
        "outputId": "91dadf54-ccf4-47ce-c228-d8fc8a8629d4"
      },
      "execution_count": null,
      "outputs": [
        {
          "output_type": "stream",
          "name": "stdout",
          "text": [
            "Error occured name 'c' is not defined\n",
            "value of a after error: 1.0\n"
          ]
        }
      ]
    },
    {
      "cell_type": "markdown",
      "source": [
        "We cannot always expect all types of error beforehand and we cannot keep defining all exceptions in except block. so it is a good practice to have a common except block with Exception error"
      ],
      "metadata": {
        "id": "9zZMgiPtFhys"
      }
    },
    {
      "cell_type": "code",
      "source": [
        "b = 1\n",
        "l1 = [1,2,3,4]\n",
        "try:\n",
        "    a = 1/b # Now this will not throw DivisionByZeroError\n",
        "    print(c) # This is handled now and will work fine\n",
        "    print(l1[6]) #This will throw Index error, list index out of range\n",
        "except ZeroDivisionError as e:\n",
        "    print(\"Error occured:\", str(e))\n",
        "    a = 0\n",
        "except NameError as e:\n",
        "    print(\"Error occured\", str(e))\n",
        "    c = None"
      ],
      "metadata": {
        "colab": {
          "base_uri": "https://localhost:8080/",
          "height": 257
        },
        "id": "l_Kxpu2fFd59",
        "outputId": "35ddb3b1-971c-4c6a-8a51-1a2367de4954"
      },
      "execution_count": null,
      "outputs": [
        {
          "output_type": "stream",
          "name": "stdout",
          "text": [
            "None\n"
          ]
        },
        {
          "output_type": "error",
          "ename": "IndexError",
          "evalue": "ignored",
          "traceback": [
            "\u001b[0;31m---------------------------------------------------------------------------\u001b[0m",
            "\u001b[0;31mIndexError\u001b[0m                                Traceback (most recent call last)",
            "\u001b[0;32m<ipython-input-8-ff39e779c80a>\u001b[0m in \u001b[0;36m<module>\u001b[0;34m()\u001b[0m\n\u001b[1;32m      4\u001b[0m     \u001b[0ma\u001b[0m \u001b[0;34m=\u001b[0m \u001b[0;36m1\u001b[0m\u001b[0;34m/\u001b[0m\u001b[0mb\u001b[0m \u001b[0;31m# Now this will not throw DivisionByZeroError\u001b[0m\u001b[0;34m\u001b[0m\u001b[0;34m\u001b[0m\u001b[0m\n\u001b[1;32m      5\u001b[0m     \u001b[0mprint\u001b[0m\u001b[0;34m(\u001b[0m\u001b[0mc\u001b[0m\u001b[0;34m)\u001b[0m \u001b[0;31m# This is handled now and will work fine\u001b[0m\u001b[0;34m\u001b[0m\u001b[0;34m\u001b[0m\u001b[0m\n\u001b[0;32m----> 6\u001b[0;31m     \u001b[0mprint\u001b[0m\u001b[0;34m(\u001b[0m\u001b[0ml1\u001b[0m\u001b[0;34m[\u001b[0m\u001b[0;36m6\u001b[0m\u001b[0;34m]\u001b[0m\u001b[0;34m)\u001b[0m \u001b[0;31m#This will thr\u001b[0m\u001b[0;34m\u001b[0m\u001b[0;34m\u001b[0m\u001b[0m\n\u001b[0m\u001b[1;32m      7\u001b[0m \u001b[0;32mexcept\u001b[0m \u001b[0mZeroDivisionError\u001b[0m \u001b[0;32mas\u001b[0m \u001b[0me\u001b[0m\u001b[0;34m:\u001b[0m\u001b[0;34m\u001b[0m\u001b[0;34m\u001b[0m\u001b[0m\n\u001b[1;32m      8\u001b[0m     \u001b[0mprint\u001b[0m\u001b[0;34m(\u001b[0m\u001b[0;34m\"Error occured:\"\u001b[0m\u001b[0;34m,\u001b[0m \u001b[0mstr\u001b[0m\u001b[0;34m(\u001b[0m\u001b[0me\u001b[0m\u001b[0;34m)\u001b[0m\u001b[0;34m)\u001b[0m\u001b[0;34m\u001b[0m\u001b[0;34m\u001b[0m\u001b[0m\n",
            "\u001b[0;31mIndexError\u001b[0m: list index out of range"
          ]
        }
      ]
    },
    {
      "cell_type": "code",
      "source": [
        "b = 1\n",
        "l1 = [1,2,3,4]\n",
        "try:\n",
        "    a = 1/b # Now this will not throw DivisionByZeroError\n",
        "    print(l1[6]) #This will throw Index error, list index out of range\n",
        "except ZeroDivisionError as e:\n",
        "    print(\"Error occured:\", str(e))\n",
        "    a = 0\n",
        "except NameError as e:\n",
        "    print(\"Error occured\", str(e))\n",
        "    c = None\n",
        "# Here we are not defining IndexError, instead it is a common Exception which will work for all errors\n",
        "except Exception as e:\n",
        "    print(\"Unexpected error occured\", str(e))"
      ],
      "metadata": {
        "colab": {
          "base_uri": "https://localhost:8080/"
        },
        "id": "u3CLER41GAWb",
        "outputId": "55f4e73a-304e-449b-cbce-801410b7a034"
      },
      "execution_count": null,
      "outputs": [
        {
          "output_type": "stream",
          "name": "stdout",
          "text": [
            "Unexpected error occured list index out of range\n"
          ]
        }
      ]
    },
    {
      "cell_type": "markdown",
      "source": [
        "Lets create Type error and check if the common except block handles it"
      ],
      "metadata": {
        "id": "Il2hNfPmJXt2"
      }
    },
    {
      "cell_type": "code",
      "source": [
        "b = 1\n",
        "l1 = [1,2,3,4]\n",
        "try:\n",
        "    c = \"hello\" + b # This will throw type error\n",
        "    a = 1/b # Now this will not throw DivisionByZeroError\n",
        "    print(c) # This is handled now and will work fine\n",
        "    print(l1[6]) #This will throw Index error, list index out of range\n",
        "except ZeroDivisionError as e:\n",
        "    print(\"Error occured:\", str(e))\n",
        "    a = 0\n",
        "except NameError as e:\n",
        "    print(\"Error occured\", str(e))\n",
        "    c = None\n",
        "# common Exception which will work for all errors\n",
        "except Exception as e:\n",
        "    print(\"Unexpected error occured\", str(e))"
      ],
      "metadata": {
        "colab": {
          "base_uri": "https://localhost:8080/"
        },
        "id": "ATGAFsDnJNAq",
        "outputId": "08e0b8f0-ffa4-41c6-cf45-b1142b495299"
      },
      "execution_count": null,
      "outputs": [
        {
          "output_type": "stream",
          "name": "stdout",
          "text": [
            "Unexpected error occured can only concatenate str (not \"int\") to str\n"
          ]
        }
      ]
    },
    {
      "cell_type": "markdown",
      "source": [
        "To list down all built in supported error in python"
      ],
      "metadata": {
        "id": "LUGj5bnEKbHS"
      }
    },
    {
      "cell_type": "code",
      "source": [
        "[i  for i in dir(locals()['__builtins__']) if \"Error\" in i]"
      ],
      "metadata": {
        "colab": {
          "base_uri": "https://localhost:8080/"
        },
        "id": "7g1z_O8GJ9YQ",
        "outputId": "eb6ad64c-b6d8-46ec-edd1-d1408c0f1b91"
      },
      "execution_count": null,
      "outputs": [
        {
          "output_type": "execute_result",
          "data": {
            "text/plain": [
              "['ArithmeticError',\n",
              " 'AssertionError',\n",
              " 'AttributeError',\n",
              " 'BlockingIOError',\n",
              " 'BrokenPipeError',\n",
              " 'BufferError',\n",
              " 'ChildProcessError',\n",
              " 'ConnectionAbortedError',\n",
              " 'ConnectionError',\n",
              " 'ConnectionRefusedError',\n",
              " 'ConnectionResetError',\n",
              " 'EOFError',\n",
              " 'EnvironmentError',\n",
              " 'FileExistsError',\n",
              " 'FileNotFoundError',\n",
              " 'FloatingPointError',\n",
              " 'IOError',\n",
              " 'ImportError',\n",
              " 'IndentationError',\n",
              " 'IndexError',\n",
              " 'InterruptedError',\n",
              " 'IsADirectoryError',\n",
              " 'KeyError',\n",
              " 'LookupError',\n",
              " 'MemoryError',\n",
              " 'ModuleNotFoundError',\n",
              " 'NameError',\n",
              " 'NotADirectoryError',\n",
              " 'NotImplementedError',\n",
              " 'OSError',\n",
              " 'OverflowError',\n",
              " 'PermissionError',\n",
              " 'ProcessLookupError',\n",
              " 'RecursionError',\n",
              " 'ReferenceError',\n",
              " 'RuntimeError',\n",
              " 'SyntaxError',\n",
              " 'SystemError',\n",
              " 'TabError',\n",
              " 'TimeoutError',\n",
              " 'TypeError',\n",
              " 'UnboundLocalError',\n",
              " 'UnicodeDecodeError',\n",
              " 'UnicodeEncodeError',\n",
              " 'UnicodeError',\n",
              " 'UnicodeTranslateError',\n",
              " 'ValueError',\n",
              " 'ZeroDivisionError']"
            ]
          },
          "metadata": {},
          "execution_count": 13
        }
      ]
    },
    {
      "cell_type": "markdown",
      "source": [
        "### Else block in try except\n",
        "\n",
        "else block in exception handling executes when no exception occurs in try block. it is the opposite of except block, if exception raises except block gets executed, if no exception raises else block gets executed\n",
        "\n",
        "```\n",
        "try:\n",
        "   code block that might raise exceptions\n",
        "except Exception as e:\n",
        "   this code block gets executed if exception is raised in try\n",
        "else:\n",
        "    this code block gets executed if no exception is raised in try\n",
        "```\n",
        "\n"
      ],
      "metadata": {
        "id": "Ur3w_mLqSzlW"
      }
    },
    {
      "cell_type": "code",
      "source": [
        "# No exception\n",
        "list_1 = [1,2,3,4]\n",
        "try:\n",
        "    print(\"Trial1: No exception here\")\n",
        "    search_4 = list_1.index(4)\n",
        "except Exception as e:\n",
        "    print(\"This block will not get executed with exception\", str(e))\n",
        "else:\n",
        "    print(\"Since no exception, This block will get executed\")\n",
        "    print(\"4 is found at index:\", search_4)\n",
        "\n",
        "# exception occurs\n",
        "list_1 = [1,2,3,4]\n",
        "try:\n",
        "    print(\"Trial2: Index error exception occurs\")\n",
        "    search_5 = list_1.index(5)\n",
        "except Exception as e:\n",
        "    print(\"This block will get executed with exception:\", str(e))\n",
        "else:\n",
        "    print(\"Since exception, This block will not get executed\")\n",
        "    print(\"4 is found at index:\", search_4)\n"
      ],
      "metadata": {
        "colab": {
          "base_uri": "https://localhost:8080/"
        },
        "id": "14zPwmU8X1dk",
        "outputId": "07e9f510-6ff7-46a6-a92b-2dfbbbcd7ff5"
      },
      "execution_count": null,
      "outputs": [
        {
          "output_type": "stream",
          "name": "stdout",
          "text": [
            "Trial1: No exception here\n",
            "Since no exception, This block will get executed\n",
            "4 is found at index: 3\n",
            "Trial2: Index error exception occurs\n",
            "This block will get executed with exception 5 is not in list\n"
          ]
        }
      ]
    },
    {
      "cell_type": "markdown",
      "source": [
        "## finally block\n",
        "\n",
        "finally is a block that will always execute no matter an exception occurs or not.\n",
        "\n"
      ],
      "metadata": {
        "id": "GYlTQOSyaQrx"
      }
    },
    {
      "cell_type": "code",
      "source": [
        "list_1 = [1,2,3,4]\n",
        "try:\n",
        "    search_5 = None\n",
        "    print(\"Trial2: Index error exception occurs\")\n",
        "    search_5 = list_1.index(5)\n",
        "except Exception as e:\n",
        "    print(\"This block will get executed with exception:\", str(e))\n",
        "finally:\n",
        "    if search_5:\n",
        "        print(\"5 is found in the list at index:\",search_5)\n",
        "    else:\n",
        "        print(\"5 is not found in the list\")\n",
        "\n",
        "list_1 = [1,2,5,3,4]\n",
        "try:\n",
        "    search_5 = None\n",
        "    print(\"Trial2: Index error exception occurs\")\n",
        "    search_5 = list_1.index(5)\n",
        "except Exception as e:\n",
        "    print(\"This block will get executed with exception:\", str(e))\n",
        "finally:\n",
        "    if search_5:\n",
        "        print(\"5 is found in the list at index:\",search_5)\n",
        "    else:\n",
        "        print(\"5 is not found in the list\")"
      ],
      "metadata": {
        "colab": {
          "base_uri": "https://localhost:8080/"
        },
        "id": "shXcmjyZmAGF",
        "outputId": "7e3c16da-07a0-434f-dff6-2fc77e2ad4b4"
      },
      "execution_count": null,
      "outputs": [
        {
          "output_type": "stream",
          "name": "stdout",
          "text": [
            "Trial2: Index error exception occurs\n",
            "This block will get executed with exception: 5 is not in list\n",
            "5 is not found in the list\n",
            "Trial2: Index error exception occurs\n",
            "5 is found in the list at index: 2\n"
          ]
        }
      ]
    },
    {
      "cell_type": "markdown",
      "source": [
        "## Handling Exceptions doesn't work for syntax errors, it works only for logical errors\n",
        "\n"
      ],
      "metadata": {
        "id": "NKkud6en-pss"
      }
    },
    {
      "cell_type": "code",
      "source": [
        "try:\n",
        "    if 1==0\n",
        "except Exception as e:\n",
        "    print(e)"
      ],
      "metadata": {
        "colab": {
          "base_uri": "https://localhost:8080/",
          "height": 132
        },
        "id": "YHwCpqam-oBp",
        "outputId": "b4583157-dd7c-4a4f-9345-fb33f2cf4a5c"
      },
      "execution_count": null,
      "outputs": [
        {
          "output_type": "error",
          "ename": "SyntaxError",
          "evalue": "ignored",
          "traceback": [
            "\u001b[0;36m  File \u001b[0;32m\"<ipython-input-17-cc6f01e4f8f8>\"\u001b[0;36m, line \u001b[0;32m2\u001b[0m\n\u001b[0;31m    if 1==0\u001b[0m\n\u001b[0m           ^\u001b[0m\n\u001b[0;31mSyntaxError\u001b[0m\u001b[0;31m:\u001b[0m invalid syntax\n"
          ]
        }
      ]
    },
    {
      "cell_type": "markdown",
      "source": [
        "## raises exception\n",
        "\n",
        "raise exception allows you to throw exception and handle it with more control in somewhere else. if you don't want to handle an exception inside the function or a code block, you can throw the exception."
      ],
      "metadata": {
        "id": "KDp6JRxZnP9d"
      }
    },
    {
      "cell_type": "code",
      "source": [
        "def do_not_pass_0(num):\n",
        "    if num == 0:\n",
        "        raise ValueError(\"You have passed zero, invalid value\")\n",
        "    else:\n",
        "        return 1/num"
      ],
      "metadata": {
        "id": "TGOZBk0snPOl"
      },
      "execution_count": null,
      "outputs": []
    },
    {
      "cell_type": "code",
      "source": [
        "a = do_not_pass_0(0)"
      ],
      "metadata": {
        "colab": {
          "base_uri": "https://localhost:8080/",
          "height": 292
        },
        "id": "3CCyDuK4qqwl",
        "outputId": "1f41b82d-2723-446d-fe47-71f598534aa5"
      },
      "execution_count": null,
      "outputs": [
        {
          "output_type": "error",
          "ename": "ValueError",
          "evalue": "ignored",
          "traceback": [
            "\u001b[0;31m---------------------------------------------------------------------------\u001b[0m",
            "\u001b[0;31mValueError\u001b[0m                                Traceback (most recent call last)",
            "\u001b[0;32m<ipython-input-23-fc5c1f210831>\u001b[0m in \u001b[0;36m<module>\u001b[0;34m()\u001b[0m\n\u001b[0;32m----> 1\u001b[0;31m \u001b[0ma\u001b[0m \u001b[0;34m=\u001b[0m \u001b[0mdo_not_pass_0\u001b[0m\u001b[0;34m(\u001b[0m\u001b[0;36m0\u001b[0m\u001b[0;34m)\u001b[0m\u001b[0;34m\u001b[0m\u001b[0;34m\u001b[0m\u001b[0m\n\u001b[0m",
            "\u001b[0;32m<ipython-input-22-885e80e55308>\u001b[0m in \u001b[0;36mdo_not_pass_0\u001b[0;34m(num)\u001b[0m\n\u001b[1;32m      1\u001b[0m \u001b[0;32mdef\u001b[0m \u001b[0mdo_not_pass_0\u001b[0m\u001b[0;34m(\u001b[0m\u001b[0mnum\u001b[0m\u001b[0;34m)\u001b[0m\u001b[0;34m:\u001b[0m\u001b[0;34m\u001b[0m\u001b[0;34m\u001b[0m\u001b[0m\n\u001b[1;32m      2\u001b[0m     \u001b[0;32mif\u001b[0m \u001b[0mnum\u001b[0m \u001b[0;34m==\u001b[0m \u001b[0;36m0\u001b[0m\u001b[0;34m:\u001b[0m\u001b[0;34m\u001b[0m\u001b[0;34m\u001b[0m\u001b[0m\n\u001b[0;32m----> 3\u001b[0;31m         \u001b[0;32mraise\u001b[0m \u001b[0mValueError\u001b[0m\u001b[0;34m(\u001b[0m\u001b[0;34m\"You have passed zero, invalid value\"\u001b[0m\u001b[0;34m)\u001b[0m\u001b[0;34m\u001b[0m\u001b[0;34m\u001b[0m\u001b[0m\n\u001b[0m\u001b[1;32m      4\u001b[0m     \u001b[0;32melse\u001b[0m\u001b[0;34m:\u001b[0m\u001b[0;34m\u001b[0m\u001b[0;34m\u001b[0m\u001b[0m\n\u001b[1;32m      5\u001b[0m         \u001b[0;32mreturn\u001b[0m \u001b[0;36m1\u001b[0m\u001b[0;34m/\u001b[0m\u001b[0mnum\u001b[0m\u001b[0;34m\u001b[0m\u001b[0;34m\u001b[0m\u001b[0m\n",
            "\u001b[0;31mValueError\u001b[0m: You have passed zero, invalid value"
          ]
        }
      ]
    },
    {
      "cell_type": "code",
      "source": [
        "try:\n",
        "    a = do_not_pass_0(0)\n",
        "except Exception as e:\n",
        "    a = do_not_pass_0(1)\n",
        "print(a)"
      ],
      "metadata": {
        "colab": {
          "base_uri": "https://localhost:8080/"
        },
        "id": "MycvEFzOATBG",
        "outputId": "8dcb2132-f7a4-482f-9ced-0abf4e580525"
      },
      "execution_count": null,
      "outputs": [
        {
          "output_type": "stream",
          "name": "stdout",
          "text": [
            "1.0\n"
          ]
        }
      ]
    },
    {
      "cell_type": "code",
      "source": [],
      "metadata": {
        "id": "j3RFFYwPqTC3"
      },
      "execution_count": null,
      "outputs": []
    }
  ]
}