{
  "nbformat": 4,
  "nbformat_minor": 0,
  "metadata": {
    "colab": {
      "provenance": [],
      "authorship_tag": "ABX9TyNAu+Gn+nSGF3C+0oVrhEsB",
      "include_colab_link": true
    },
    "kernelspec": {
      "name": "python3",
      "display_name": "Python 3"
    },
    "language_info": {
      "name": "python"
    }
  },
  "cells": [
    {
      "cell_type": "markdown",
      "metadata": {
        "id": "view-in-github",
        "colab_type": "text"
      },
      "source": [
        "<a href=\"https://colab.research.google.com/github/aswinselva03/PythonInADay/blob/main/Python_in_a_Day_BuiltIn_Functions_Notebook_4.ipynb\" target=\"_parent\"><img src=\"https://colab.research.google.com/assets/colab-badge.svg\" alt=\"Open In Colab\"/></a>"
      ]
    },
    {
      "cell_type": "markdown",
      "source": [
        "# Do not re-invent the wheel\n",
        "\n",
        "Python has lot of useful built in functions which are very efficient and can be used in your code. Use as much of this functions as possible, instead of coding it yourself which is time consuming.\n",
        "\n",
        "The more built-in function you use the better you code\n"
      ],
      "metadata": {
        "id": "G2wG1F0CRH3d"
      }
    },
    {
      "cell_type": "markdown",
      "source": [
        "## Built-in functions for numbers\n",
        "\n"
      ],
      "metadata": {
        "id": "fh9jX--lTFMF"
      }
    },
    {
      "cell_type": "markdown",
      "source": [
        "### int, float\n",
        "\n",
        "Type casts (convert) other data types into integer and float"
      ],
      "metadata": {
        "id": "FS9eYdHRQq95"
      }
    },
    {
      "cell_type": "code",
      "source": [
        "a = \"5\"\n",
        "print(type(a))\n",
        "\n",
        "b = int(a)\n",
        "print(type(b))"
      ],
      "metadata": {
        "colab": {
          "base_uri": "https://localhost:8080/"
        },
        "id": "BoMsZSeMTFwE",
        "outputId": "c265cac3-3582-4446-9537-1896b645e8f2"
      },
      "execution_count": null,
      "outputs": [
        {
          "output_type": "stream",
          "name": "stdout",
          "text": [
            "<class 'str'>\n",
            "<class 'int'>\n"
          ]
        }
      ]
    },
    {
      "cell_type": "code",
      "source": [
        "a = 5\n",
        "print(type(a))\n",
        "\n",
        "b = float(a)\n",
        "print(type(b))"
      ],
      "metadata": {
        "colab": {
          "base_uri": "https://localhost:8080/"
        },
        "id": "SQpsqc5CeNT8",
        "outputId": "be3af714-4746-4d5a-9105-575419a606dc"
      },
      "execution_count": null,
      "outputs": [
        {
          "output_type": "stream",
          "name": "stdout",
          "text": [
            "<class 'int'>\n",
            "<class 'float'>\n"
          ]
        }
      ]
    },
    {
      "cell_type": "markdown",
      "source": [
        "## Useful case where we typecast to int very often\n",
        "\n",
        "###input\n",
        "\n",
        "Allows the program to get inputs from user and save it in a variable\n",
        "\n",
        "```\n",
        "variable_name = input(Description About input)\n",
        "```"
      ],
      "metadata": {
        "id": "D0W-Eac3RC74"
      }
    },
    {
      "cell_type": "code",
      "source": [
        "# Get input from user and find if the entered number is odd or even\n",
        "num = input(\"Enter a number:\")\n",
        "if num%2 == 0:\n",
        "  print(\"The entered number is even\")\n",
        "else:\n",
        "  print(\"The entered number is odd\")"
      ],
      "metadata": {
        "colab": {
          "base_uri": "https://localhost:8080/",
          "height": 257
        },
        "id": "sxAt-_6rRCXH",
        "outputId": "b619b5ff-3729-4683-aaea-3b7b829fffe0"
      },
      "execution_count": null,
      "outputs": [
        {
          "name": "stdout",
          "output_type": "stream",
          "text": [
            "Enter a number:5\n"
          ]
        },
        {
          "output_type": "error",
          "ename": "TypeError",
          "evalue": "ignored",
          "traceback": [
            "\u001b[0;31m---------------------------------------------------------------------------\u001b[0m",
            "\u001b[0;31mTypeError\u001b[0m                                 Traceback (most recent call last)",
            "\u001b[0;32m<ipython-input-6-99d5f715beff>\u001b[0m in \u001b[0;36m<module>\u001b[0;34m()\u001b[0m\n\u001b[1;32m      1\u001b[0m \u001b[0;31m# Get input from user and find if the entered number is odd or even\u001b[0m\u001b[0;34m\u001b[0m\u001b[0;34m\u001b[0m\u001b[0;34m\u001b[0m\u001b[0m\n\u001b[1;32m      2\u001b[0m \u001b[0mnum\u001b[0m \u001b[0;34m=\u001b[0m \u001b[0minput\u001b[0m\u001b[0;34m(\u001b[0m\u001b[0;34m\"Enter a number:\"\u001b[0m\u001b[0;34m)\u001b[0m\u001b[0;34m\u001b[0m\u001b[0;34m\u001b[0m\u001b[0m\n\u001b[0;32m----> 3\u001b[0;31m \u001b[0;32mif\u001b[0m \u001b[0mnum\u001b[0m\u001b[0;34m%\u001b[0m\u001b[0;36m2\u001b[0m \u001b[0;34m==\u001b[0m \u001b[0;36m0\u001b[0m\u001b[0;34m:\u001b[0m\u001b[0;34m\u001b[0m\u001b[0;34m\u001b[0m\u001b[0m\n\u001b[0m\u001b[1;32m      4\u001b[0m   \u001b[0mprint\u001b[0m\u001b[0;34m(\u001b[0m\u001b[0;34m\"The entered number is even\"\u001b[0m\u001b[0;34m)\u001b[0m\u001b[0;34m\u001b[0m\u001b[0;34m\u001b[0m\u001b[0m\n\u001b[1;32m      5\u001b[0m \u001b[0;32melse\u001b[0m\u001b[0;34m:\u001b[0m\u001b[0;34m\u001b[0m\u001b[0;34m\u001b[0m\u001b[0m\n",
            "\u001b[0;31mTypeError\u001b[0m: not all arguments converted during string formatting"
          ]
        }
      ]
    },
    {
      "cell_type": "code",
      "source": [
        "## what will be the entered input type\n",
        "type(num) # it is always string, but we have entered a number what to do here"
      ],
      "metadata": {
        "colab": {
          "base_uri": "https://localhost:8080/"
        },
        "id": "kCYyfrKURcGL",
        "outputId": "82dc27d1-f2cd-4d80-b453-238439cd34df"
      },
      "execution_count": null,
      "outputs": [
        {
          "output_type": "execute_result",
          "data": {
            "text/plain": [
              "str"
            ]
          },
          "metadata": {},
          "execution_count": 7
        }
      ]
    },
    {
      "cell_type": "code",
      "source": [
        "# we can type cast the input to int\n",
        "num = int(num)\n",
        "type(num)"
      ],
      "metadata": {
        "colab": {
          "base_uri": "https://localhost:8080/"
        },
        "id": "-OYbbJAvRmWI",
        "outputId": "5751f676-f0a1-4dd8-d37e-97fcf6329ab1"
      },
      "execution_count": null,
      "outputs": [
        {
          "output_type": "execute_result",
          "data": {
            "text/plain": [
              "int"
            ]
          },
          "metadata": {},
          "execution_count": 4
        }
      ]
    },
    {
      "cell_type": "code",
      "source": [
        "# we can also do all this in a single step\n",
        "# Get input from user and find if the entered number is odd or even\n",
        "num = int(input(\"Enter the number:\"))\n",
        "if num%2 == 0:\n",
        "  print(\"The entered number is even\")\n",
        "else:\n",
        "  print(\"The entered number is odd\")"
      ],
      "metadata": {
        "colab": {
          "base_uri": "https://localhost:8080/"
        },
        "id": "tae-jR3mRy9K",
        "outputId": "1c36400e-48c5-437d-e56d-ade7bf3e1c79"
      },
      "execution_count": null,
      "outputs": [
        {
          "output_type": "stream",
          "name": "stdout",
          "text": [
            "Enter the number:9\n",
            "The entered number is odd\n"
          ]
        }
      ]
    },
    {
      "cell_type": "markdown",
      "source": [
        "### abs\n",
        "\n",
        "converts negative values into absolute number(positive)"
      ],
      "metadata": {
        "id": "7SSkOtW6e2YF"
      }
    },
    {
      "cell_type": "code",
      "source": [
        "abs(-5)"
      ],
      "metadata": {
        "colab": {
          "base_uri": "https://localhost:8080/"
        },
        "id": "oxXCL9jWgUh3",
        "outputId": "8c5cd3fa-7e06-4b7f-d298-1505dea8e862"
      },
      "execution_count": null,
      "outputs": [
        {
          "output_type": "execute_result",
          "data": {
            "text/plain": [
              "5"
            ]
          },
          "metadata": {},
          "execution_count": 17
        }
      ]
    },
    {
      "cell_type": "markdown",
      "source": [
        "### pow(num,pow)\n",
        "\n",
        "returns the value of number to the power of pow"
      ],
      "metadata": {
        "id": "emJtmMOrgskU"
      }
    },
    {
      "cell_type": "code",
      "source": [
        "##\n",
        "pow(5,2)"
      ],
      "metadata": {
        "colab": {
          "base_uri": "https://localhost:8080/"
        },
        "id": "zr8OMd65iXTX",
        "outputId": "2b20136d-3a13-4a5a-9953-818259808a71"
      },
      "execution_count": null,
      "outputs": [
        {
          "output_type": "execute_result",
          "data": {
            "text/plain": [
              "25"
            ]
          },
          "metadata": {},
          "execution_count": 18
        }
      ]
    },
    {
      "cell_type": "markdown",
      "source": [
        "### round(number,digit)\n",
        "\n",
        "rounds off a number to the digits passed"
      ],
      "metadata": {
        "id": "CQtHwEk3iblS"
      }
    },
    {
      "cell_type": "code",
      "source": [
        "round(5.4673,2)"
      ],
      "metadata": {
        "colab": {
          "base_uri": "https://localhost:8080/"
        },
        "id": "cu_KSUZpiam8",
        "outputId": "411c7a9a-6aa7-4bd0-c669-08b40eb9cf58"
      },
      "execution_count": null,
      "outputs": [
        {
          "output_type": "execute_result",
          "data": {
            "text/plain": [
              "5.47"
            ]
          },
          "metadata": {},
          "execution_count": 24
        }
      ]
    },
    {
      "cell_type": "markdown",
      "source": [
        "## math module\n",
        "\n",
        "so far we have seen readily available functions in python without importing any module. Math module in python has many useful built in functions for numbers.\n",
        "To import and use math module you can use two ways\n",
        "\n",
        "only import:\n",
        "```\n",
        "import math\n",
        "math.func_name(args)\n",
        "```\n",
        "\n",
        "from import:\n",
        "```\n",
        "from math import func_name\n",
        "func_name\n",
        "```\n",
        "\n",
        "\n",
        "\n",
        "### sqrt\n",
        "\n",
        "To find square root of a number\n",
        "\n"
      ],
      "metadata": {
        "id": "KZ7YUybVkGKM"
      }
    },
    {
      "cell_type": "code",
      "source": [
        "import math\n",
        "math.sqrt(25)\n"
      ],
      "metadata": {
        "colab": {
          "base_uri": "https://localhost:8080/"
        },
        "id": "CoixwuFCkFUi",
        "outputId": "1708bbdb-de05-4b04-eacb-60df54e1cd09"
      },
      "execution_count": null,
      "outputs": [
        {
          "output_type": "execute_result",
          "data": {
            "text/plain": [
              "5.0"
            ]
          },
          "metadata": {},
          "execution_count": 25
        }
      ]
    },
    {
      "cell_type": "code",
      "source": [
        "from math import sqrt\n",
        "sqrt(25)"
      ],
      "metadata": {
        "colab": {
          "base_uri": "https://localhost:8080/"
        },
        "id": "qGTNe_-l7xhZ",
        "outputId": "25245e92-43f7-4caa-e506-db3cc0cf4daa"
      },
      "execution_count": null,
      "outputs": [
        {
          "output_type": "execute_result",
          "data": {
            "text/plain": [
              "5.0"
            ]
          },
          "metadata": {},
          "execution_count": 1
        }
      ]
    },
    {
      "cell_type": "markdown",
      "source": [
        "## floor and ceil\n",
        "\n",
        "\n",
        "\n",
        "```\n",
        "floor - returns the greatest integer less than or equal to the number passed\n",
        "ceil - returns the smallest integer greater than or equal to the number passed\n",
        "```\n",
        "\n"
      ],
      "metadata": {
        "id": "XpQdRlgwkv3s"
      }
    },
    {
      "cell_type": "code",
      "source": [
        "print(math.floor(7.99))\n",
        "print(math.ceil(7.99))"
      ],
      "metadata": {
        "colab": {
          "base_uri": "https://localhost:8080/"
        },
        "id": "jFQKbjYzmJlH",
        "outputId": "608071ce-ba6b-4523-fb2f-0fe5570aea67"
      },
      "execution_count": null,
      "outputs": [
        {
          "output_type": "stream",
          "name": "stdout",
          "text": [
            "7\n",
            "8\n"
          ]
        }
      ]
    },
    {
      "cell_type": "markdown",
      "source": [
        "### other imp functions in math\n",
        "\n",
        "\n",
        "\n",
        "```\n",
        "factorial - returns factorial of a number\n",
        "log10 - returns logarithm of a number with provided base, here 10\n",
        "trignometry functions like sin, cos etc\n",
        "```\n",
        "\n",
        "\n"
      ],
      "metadata": {
        "id": "7cdOE8n2mb62"
      }
    },
    {
      "cell_type": "code",
      "source": [
        "print(math.factorial(5))\n",
        "print(math.log10(10))\n",
        "print(math.cos(0))\n"
      ],
      "metadata": {
        "colab": {
          "base_uri": "https://localhost:8080/"
        },
        "id": "cdS_NbRLmzMf",
        "outputId": "a5680ecd-a527-4338-8d4e-e68febeef831"
      },
      "execution_count": null,
      "outputs": [
        {
          "output_type": "stream",
          "name": "stdout",
          "text": [
            "120\n",
            "1.0\n",
            "1.0\n"
          ]
        }
      ]
    },
    {
      "cell_type": "markdown",
      "source": [
        "## random module\n",
        "\n",
        "Often you need to generate random numbers in your program to shuffle and introduce some uncertainity. for e.g. in a quiz, game choosing the question should be random\n",
        "\n",
        "\n",
        "```\n",
        "import random\n",
        "random.function_name(args)\n",
        "```\n",
        "\n",
        "Two main functions in random for numbers are\n",
        "\n",
        "\n",
        "\n",
        "```\n",
        "import random\n",
        "random.random() - returns random float number between 0 and 1\n",
        "random.randint(start, end) - returns a random integer between start and end\n",
        "```\n",
        "\n",
        "\n",
        "\n"
      ],
      "metadata": {
        "id": "To5FSvKYnIrL"
      }
    },
    {
      "cell_type": "code",
      "source": [
        "import random\n",
        "print(random.random())\n",
        "\n",
        "# What if you generate a random number between 2 and 10\n",
        "print(2 + 8*random.random())\n"
      ],
      "metadata": {
        "colab": {
          "base_uri": "https://localhost:8080/"
        },
        "id": "7CqzH-Xxo41w",
        "outputId": "607258a5-eb3d-42ee-8cd6-6636f48971e8"
      },
      "execution_count": null,
      "outputs": [
        {
          "output_type": "stream",
          "name": "stdout",
          "text": [
            "0.8605047846299707\n",
            "5.343879959379579\n"
          ]
        }
      ]
    },
    {
      "cell_type": "code",
      "source": [
        "import random\n",
        "print(random.randint(0, 1000)) # generates random number between 0 and 1000"
      ],
      "metadata": {
        "colab": {
          "base_uri": "https://localhost:8080/"
        },
        "id": "zTw_-CN8qZ37",
        "outputId": "5d70db57-9f42-4016-bcb5-5df572dfca5d"
      },
      "execution_count": null,
      "outputs": [
        {
          "output_type": "stream",
          "name": "stdout",
          "text": [
            "929\n"
          ]
        }
      ]
    },
    {
      "cell_type": "markdown",
      "source": [
        "## Built-in functions for Strings\n",
        "\n",
        "### str\n",
        "\n",
        "Type casts other data types to string, very useful in printing values of variables and logging messages\n"
      ],
      "metadata": {
        "id": "sZz0NkX0ghJw"
      }
    },
    {
      "cell_type": "code",
      "source": [
        "# When concatenating, we have to make sure both operands are string\n",
        "a = 5\n",
        "print(\"The value of a is \"+a)"
      ],
      "metadata": {
        "colab": {
          "base_uri": "https://localhost:8080/",
          "height": 186
        },
        "id": "lwE8MgngTZN8",
        "outputId": "398cfe9d-92e6-414b-af61-9f20a758570e"
      },
      "execution_count": null,
      "outputs": [
        {
          "output_type": "error",
          "ename": "TypeError",
          "evalue": "ignored",
          "traceback": [
            "\u001b[0;31m---------------------------------------------------------------------------\u001b[0m",
            "\u001b[0;31mTypeError\u001b[0m                                 Traceback (most recent call last)",
            "\u001b[0;32m<ipython-input-7-24d8bf52a478>\u001b[0m in \u001b[0;36m<module>\u001b[0;34m()\u001b[0m\n\u001b[1;32m      1\u001b[0m \u001b[0ma\u001b[0m \u001b[0;34m=\u001b[0m \u001b[0;36m5\u001b[0m\u001b[0;34m\u001b[0m\u001b[0;34m\u001b[0m\u001b[0m\n\u001b[0;32m----> 2\u001b[0;31m \u001b[0mprint\u001b[0m\u001b[0;34m(\u001b[0m\u001b[0;34m\"The value of a is \"\u001b[0m\u001b[0;34m+\u001b[0m\u001b[0ma\u001b[0m\u001b[0;34m)\u001b[0m\u001b[0;34m\u001b[0m\u001b[0;34m\u001b[0m\u001b[0m\n\u001b[0m",
            "\u001b[0;31mTypeError\u001b[0m: can only concatenate str (not \"int\") to str"
          ]
        }
      ]
    },
    {
      "cell_type": "code",
      "source": [
        "a = 5\n",
        "print(\"The value of a is \"+str(a))"
      ],
      "metadata": {
        "colab": {
          "base_uri": "https://localhost:8080/"
        },
        "id": "BTL8WzuMTo16",
        "outputId": "69085b27-e71a-4bfb-97b5-f05ed5535b6f"
      },
      "execution_count": null,
      "outputs": [
        {
          "output_type": "stream",
          "name": "stdout",
          "text": [
            "The value of a is 5\n"
          ]
        }
      ]
    },
    {
      "cell_type": "code",
      "source": [
        "list_1 = [1,2,4,6,2,4]\n",
        "str(list_1)"
      ],
      "metadata": {
        "colab": {
          "base_uri": "https://localhost:8080/",
          "height": 36
        },
        "id": "b9u3mqcjdJ7G",
        "outputId": "a705fd58-ee4f-4f8d-90f6-f4940a74d4d9"
      },
      "execution_count": null,
      "outputs": [
        {
          "output_type": "execute_result",
          "data": {
            "text/plain": [
              "'[1, 2, 4, 6, 2, 4]'"
            ],
            "application/vnd.google.colaboratory.intrinsic+json": {
              "type": "string"
            }
          },
          "metadata": {},
          "execution_count": 9
        }
      ]
    },
    {
      "cell_type": "markdown",
      "source": [
        "## print\n",
        "\n",
        "print function helps you to print a message, often it is used to understand the program flow and debug variable values. Also pass message from the code to the user\n",
        "\n",
        "\n",
        "\n",
        "```\n",
        "print(string1, string2, string3..) # print function accepts string as argument.\n",
        "If you do not send a variable of string datatype, print function will typecast it to string\n",
        "```\n",
        "\n",
        "\n",
        "\n"
      ],
      "metadata": {
        "id": "VeEM5WZZ9apg"
      }
    },
    {
      "cell_type": "code",
      "source": [
        "a = 5\n",
        "type(a)"
      ],
      "metadata": {
        "colab": {
          "base_uri": "https://localhost:8080/"
        },
        "id": "OdK44AXz-D-7",
        "outputId": "2099aff0-b7a2-4711-da43-f8cdb81bbffc"
      },
      "execution_count": null,
      "outputs": [
        {
          "output_type": "execute_result",
          "data": {
            "text/plain": [
              "int"
            ]
          },
          "metadata": {},
          "execution_count": 3
        }
      ]
    },
    {
      "cell_type": "code",
      "source": [
        "print(a) # here a will be first converted to string and then printed"
      ],
      "metadata": {
        "colab": {
          "base_uri": "https://localhost:8080/"
        },
        "id": "jzuz-rbz-H45",
        "outputId": "22ce64af-acd6-409f-c9eb-61d1f76911a8"
      },
      "execution_count": null,
      "outputs": [
        {
          "output_type": "stream",
          "name": "stdout",
          "text": [
            "5\n"
          ]
        }
      ]
    },
    {
      "cell_type": "code",
      "source": [
        "print(\"Hi\", \"I\", \"am\", \"watching\", \"you!\") # you can send variable number of strings to print function\n",
        "print(\"I have\",a, \"chocolates\")\n",
        "# The above can also be written using a single string, by concatenation\n",
        "print(\"I have \"+str(a)+\" chocolates\") # Note while concatenating, we have to give extra space"
      ],
      "metadata": {
        "colab": {
          "base_uri": "https://localhost:8080/"
        },
        "id": "hWJSI-8o-M3B",
        "outputId": "f55db4bf-f704-4e6b-a778-77b026ecdec6"
      },
      "execution_count": null,
      "outputs": [
        {
          "output_type": "stream",
          "name": "stdout",
          "text": [
            "Hi I am watching you!\n",
            "I have 5 chocolates\n",
            "I have 5 chocolates\n"
          ]
        }
      ]
    },
    {
      "cell_type": "markdown",
      "source": [
        "## print statement with escape sequence\n",
        "\n",
        "Escape sequence is a sequence of characters, that doesn't represent itself when used inside a string\n",
        "\n",
        "some of the widely used escape sequences are listed below\n",
        "```\n",
        "\\n - new line\n",
        "\\t - tab space\n",
        "\\\" - double quotes\n",
        "\\' - single quotes\n",
        "```\n",
        "\n"
      ],
      "metadata": {
        "id": "DCxc6rQOmlW4"
      }
    },
    {
      "cell_type": "code",
      "source": [
        "print('hello \\nWorld')\n",
        "print('hello\\tWorld')\n",
        "print(\"It\\\"s great to see you all in python class\")\n",
        "print('It\\'s great to see you all in python class')"
      ],
      "metadata": {
        "id": "2Cp7FtXC-Trj"
      },
      "execution_count": null,
      "outputs": []
    },
    {
      "cell_type": "markdown",
      "source": [
        "### split\n",
        "\n",
        "```\n",
        "split(<seperator>) - splits the string at seperator mentioned inside the function\n",
        "\n",
        "example:\n",
        "\"string\".split(\",\")\n",
        "\n",
        "```"
      ],
      "metadata": {
        "id": "lm0X9vOQTUve"
      }
    },
    {
      "cell_type": "code",
      "execution_count": null,
      "metadata": {
        "colab": {
          "base_uri": "https://localhost:8080/"
        },
        "id": "lRa8jXdMQ-6f",
        "outputId": "2f62df55-b5b4-46ff-fee1-0682016d1ca1"
      },
      "outputs": [
        {
          "output_type": "stream",
          "name": "stdout",
          "text": [
            "['This', 'is', 'an', 'example', 'line', 'to', 'demo', 'some', 'of', 'the', 'string', 'built', 'in', 'function.']\n",
            "[\"See I'm not a monster\", \" I'm just ahead of the curve\"]\n"
          ]
        }
      ],
      "source": [
        "\n",
        "sentence = \"This is an example line to demo some of the string built in function.\"\n",
        "list_of_Words = sentence.split(\" \") # splits at space\n",
        "print(list_of_Words)\n",
        "\n",
        "sentences = \"See I'm not a monster. I'm just ahead of the curve\"\n",
        "list_of_sentences = sentences.split(\".\") #splits at .\n",
        "print(list_of_sentences)\n"
      ]
    },
    {
      "cell_type": "markdown",
      "source": [
        "## strip\n",
        "\n",
        "```\n",
        "strip(<character to remove>) - removes character from both ends of string\n",
        "lstrip(<character to remove>) - removes character from left ends of string\n",
        "rstrip(<character to remove>) - removes character from right ends of string\n",
        "\n",
        "example:\n",
        "string.strip(\";\") # removes semicolon from both ends of string\n",
        "```\n",
        "\n"
      ],
      "metadata": {
        "id": "au0Jww7-kSel"
      }
    },
    {
      "cell_type": "code",
      "source": [
        "print(\"strip removes white space at both ends if empty character in function:\")\n",
        "print(\"          hello world    \".strip())\n",
        "print(\"It only removes character at end not at the middle:\")\n",
        "print(\"hel,lo,,,,,\".strip(','))"
      ],
      "metadata": {
        "colab": {
          "base_uri": "https://localhost:8080/"
        },
        "id": "_TYjb5QZkTXK",
        "outputId": "a9f302cb-4abe-4b48-e2e2-6079f10c10ed"
      },
      "execution_count": null,
      "outputs": [
        {
          "output_type": "stream",
          "name": "stdout",
          "text": [
            "strip removes white space at both ends if empty character in function: hello world\n",
            "It only removes character at end not at the middle: hel,lo\n"
          ]
        }
      ]
    },
    {
      "cell_type": "code",
      "source": [
        "print(\"lstrip removes character at left end only\")\n",
        "print(\",,,,,,,,,,hello world,,,,,,,\".lstrip(\",\"))\n",
        "print(\"rstrip removes character at right end only\")\n",
        "print(\",,,,,,,,,,hello world,,,,,,,\".rstrip(\",\"))"
      ],
      "metadata": {
        "colab": {
          "base_uri": "https://localhost:8080/"
        },
        "id": "1FUDROfI9yjz",
        "outputId": "2db077c9-5dca-4598-9325-8c0612234ce2"
      },
      "execution_count": null,
      "outputs": [
        {
          "output_type": "stream",
          "name": "stdout",
          "text": [
            "lstrip removes character at left end only\n",
            "hello world,,,,,,,\n",
            "rstrip removes character at right end only\n",
            ",,,,,,,,,,hello world\n"
          ]
        }
      ]
    },
    {
      "cell_type": "markdown",
      "source": [
        "### Upper case and Lower case\n",
        "\n",
        "\n",
        "\n",
        "```\n",
        "lower - converts the string to lower case\n",
        "upper - converts the string to upper case\n",
        "```\n",
        "\n"
      ],
      "metadata": {
        "id": "by5z1-Ai_oUU"
      }
    },
    {
      "cell_type": "code",
      "source": [
        "# we have two strings, how to check if both strings are equal\n",
        "change_lower = \"hEllO WorlD\"\n",
        "check_equal = \"HEllo wORLd\"\n",
        "\n",
        "# in english they are equal, but to python they are not since python is not case sensitive\n",
        "print(change_lower == check_equal)\n",
        "\n",
        "# we have to bring it to a common case to find if they are equal\n",
        "\n",
        "print(change_lower.lower() == check_equal.lower())\n"
      ],
      "metadata": {
        "colab": {
          "base_uri": "https://localhost:8080/"
        },
        "id": "jsZmo_6GADgs",
        "outputId": "10df57a1-34c2-4c2d-e031-a2e9d597fbfe"
      },
      "execution_count": null,
      "outputs": [
        {
          "output_type": "stream",
          "name": "stdout",
          "text": [
            "False\n",
            "True\n"
          ]
        }
      ]
    },
    {
      "cell_type": "code",
      "source": [
        "change_upper = \"\"\"their morals, their code; it's a bad joke. Dropped at the first sign of trouble. they're only as good as the world allows them to be.\n",
        "You'll see- I'll show you. When the chips are down these, uh, civilized people? They'll eat each other. See I'm not a monster, I'm just ahead of the curve\"\"\"\n",
        "print(change_upper.upper())"
      ],
      "metadata": {
        "colab": {
          "base_uri": "https://localhost:8080/"
        },
        "id": "avnK5I19g9L5",
        "outputId": "6384af4b-0790-4155-9b1d-8888caf532fd"
      },
      "execution_count": null,
      "outputs": [
        {
          "output_type": "stream",
          "name": "stdout",
          "text": [
            "THEIR MORALS, THEIR CODE; IT'S A BAD JOKE. DROPPED AT THE FIRST SIGN OF TROUBLE. THEY'RE ONLY AS GOOD AS THE WORLD ALLOWS THEM TO BE.\n",
            "YOU'LL SEE- I'LL SHOW YOU. WHEN THE CHIPS ARE DOWN THESE, UH, CIVILIZED PEOPLE? THEY'LL EAT EACH OTHER. SEE I'M NOT A MONSTER, I'M JUST AHEAD OF THE CURVE\n"
          ]
        }
      ]
    },
    {
      "cell_type": "markdown",
      "source": [
        "## format string\n",
        "\n",
        "Format string is mainly used in python to replace placeholders with actual text.\n",
        "\n",
        "\n",
        "\n",
        "```\n",
        "\"{0} world, {1}\".format(\"hello\", \"morning\")\n",
        "{} - is the place holder for text\n",
        "{0} - 0 index points to the first string inside format function\n",
        "{1} - 1 index points to the second string inside format function\n",
        "```\n",
        "\n",
        "\n",
        "\n",
        "It does has more functionality to align and decorate text"
      ],
      "metadata": {
        "id": "jRKXTgSmCkvz"
      }
    },
    {
      "cell_type": "code",
      "source": [
        "country = \"United Kingdom\"\n",
        "capital = \"London\"\n",
        "\n",
        "# format string to fill placeholders\n",
        "print(\"{0} is the capital of {1}. {0}, also is financial capital of the world\".format(capital, country))\n"
      ],
      "metadata": {
        "colab": {
          "base_uri": "https://localhost:8080/"
        },
        "id": "FYNxr0p1j1IG",
        "outputId": "e2d24319-158c-44ec-8349-4dd217ad74bd"
      },
      "execution_count": null,
      "outputs": [
        {
          "output_type": "stream",
          "name": "stdout",
          "text": [
            "London is the capital of United Kingdom. London, also is financial capital of the world\n"
          ]
        }
      ]
    },
    {
      "cell_type": "markdown",
      "source": [
        "This will work too!\n",
        "\n",
        "```\n",
        "\"{} world, {}\".format(\"hello\", \"morning\")\n",
        "{} - index number inside the bracket is not mandatory, python will assume, the first bracket is for first string in format function, and the next bracket is for second one and so on\n",
        "```\n",
        "\n"
      ],
      "metadata": {
        "id": "SNr2-9NEMgH0"
      }
    },
    {
      "cell_type": "code",
      "source": [
        "country = \"United States\"\n",
        "capital = \"Washington, D.C.\"\n",
        "confused = \"New York\"\n",
        "\n",
        "# format string to fill placeholders without index inside bracket\n",
        "print(\"{} is the capital of {}. But many thinks it is {}\".format(capital, country, confused))"
      ],
      "metadata": {
        "colab": {
          "base_uri": "https://localhost:8080/"
        },
        "id": "lPvTSZzfMU-e",
        "outputId": "35e04acf-f1ae-435d-d869-787fbd77e65a"
      },
      "execution_count": null,
      "outputs": [
        {
          "output_type": "stream",
          "name": "stdout",
          "text": [
            "Washington, D.C. is the capital of United States. But many thinks it is New York\n"
          ]
        }
      ]
    },
    {
      "cell_type": "markdown",
      "source": [
        "## f-strings\n",
        "\n",
        "As of python 3.6 f-strings are new way of formatting strings and it is simpler and more readable compared to format string\n",
        "\n",
        "\n",
        "\n",
        "```\n",
        "\"{0} world, {1}\".format(\"hello\", \"morning\") # format function\n",
        "The same using f-string\n",
        "greeting = \"hello\"\n",
        "time_of_day = \"morning\"\n",
        "f\"{greeting} world, {time_of_day}\" # note that instead of format function, we just add a f infront of the string\n",
        "\n",
        "Instead of indexes, you can fill the variable name directly inside f-string\n",
        "```\n",
        "\n"
      ],
      "metadata": {
        "id": "LlqK3yK-Nhbc"
      }
    },
    {
      "cell_type": "code",
      "source": [
        "country = \"United States\"\n",
        "capital = \"Washington, D.C.\"\n",
        "confused = \"New York\"\n",
        "\n",
        "# format string to fill placeholders without index inside bracket\n",
        "print(f\"{capital} is the capital of {country}. But many thinks it is {confused}\")"
      ],
      "metadata": {
        "colab": {
          "base_uri": "https://localhost:8080/"
        },
        "id": "bn6khSNuNXPg",
        "outputId": "8825e4aa-39ef-4f19-c706-8cef453836c7"
      },
      "execution_count": null,
      "outputs": [
        {
          "output_type": "stream",
          "name": "stdout",
          "text": [
            "Washington, D.C. is the capital of United States. But many thinks it is New York\n"
          ]
        }
      ]
    },
    {
      "cell_type": "markdown",
      "source": [
        "## find and index method\n",
        "\n",
        "Both find and index method searches the string for a substring and returns the index at which the substring is found. The only difference is that, index will throw error if substring is not found\n",
        "\n",
        "\n",
        "\n",
        "```\n",
        "\"string\".find(value, start, end)\n",
        "\"string\".find(value, start, end)\n",
        "\n",
        "value - value to search for\n",
        "start - index value from where to start the search from\n",
        "end - index value from where to end the search\n",
        "```\n",
        "\n"
      ],
      "metadata": {
        "id": "qIpQxmEZRBLy"
      }
    },
    {
      "cell_type": "code",
      "source": [
        "## find\n",
        "print(\"As you know, madness is like gravity...all it takes is a little push.\".find(\"mad\")) # will return index of mad\n",
        "print(\"As you know, madness is like gravity...all it takes is a little push.\".index(\"mad\"))"
      ],
      "metadata": {
        "colab": {
          "base_uri": "https://localhost:8080/"
        },
        "id": "NzVzkO9yOdHk",
        "outputId": "11964b8e-ca29-4cf2-99b5-01b4400be786"
      },
      "execution_count": null,
      "outputs": [
        {
          "output_type": "stream",
          "name": "stdout",
          "text": [
            "13\n",
            "13\n"
          ]
        }
      ]
    },
    {
      "cell_type": "code",
      "source": [
        "# start as 14, where as mad starts at 13. It will return -1, stating unable to find the word mad\n",
        "print(\"As you know, madness is like gravity...all it takes is a little push.\".find(\"mad\", 14))"
      ],
      "metadata": {
        "colab": {
          "base_uri": "https://localhost:8080/"
        },
        "id": "IB1GasQaQlGt",
        "outputId": "e3cac3d3-e417-46d4-e108-2cf494958bf6"
      },
      "execution_count": null,
      "outputs": [
        {
          "output_type": "stream",
          "name": "stdout",
          "text": [
            "-1\n"
          ]
        }
      ]
    },
    {
      "cell_type": "code",
      "source": [
        "## The same with index function will throw error\n",
        "print(\"As you know, madness is like gravity...all it takes is a little push.\".index(\"mad\", 14))"
      ],
      "metadata": {
        "colab": {
          "base_uri": "https://localhost:8080/",
          "height": 186
        },
        "id": "zteqI_3pSst5",
        "outputId": "8f8de273-a068-41f7-c794-17ea3d7a89c2"
      },
      "execution_count": null,
      "outputs": [
        {
          "output_type": "error",
          "ename": "ValueError",
          "evalue": "ignored",
          "traceback": [
            "\u001b[0;31m---------------------------------------------------------------------------\u001b[0m",
            "\u001b[0;31mValueError\u001b[0m                                Traceback (most recent call last)",
            "\u001b[0;32m<ipython-input-5-42edc99ac9ee>\u001b[0m in \u001b[0;36m<module>\u001b[0;34m()\u001b[0m\n\u001b[1;32m      1\u001b[0m \u001b[0;31m## The same with index function will throw error\u001b[0m\u001b[0;34m\u001b[0m\u001b[0;34m\u001b[0m\u001b[0;34m\u001b[0m\u001b[0m\n\u001b[0;32m----> 2\u001b[0;31m \u001b[0mprint\u001b[0m\u001b[0;34m(\u001b[0m\u001b[0;34m\"As you know, madness is like gravity...all it takes is a little push.\"\u001b[0m\u001b[0;34m.\u001b[0m\u001b[0mindex\u001b[0m\u001b[0;34m(\u001b[0m\u001b[0;34m\"mad\"\u001b[0m\u001b[0;34m,\u001b[0m \u001b[0;36m14\u001b[0m\u001b[0;34m)\u001b[0m\u001b[0;34m)\u001b[0m\u001b[0;34m\u001b[0m\u001b[0;34m\u001b[0m\u001b[0m\n\u001b[0m",
            "\u001b[0;31mValueError\u001b[0m: substring not found"
          ]
        }
      ]
    },
    {
      "cell_type": "markdown",
      "source": [
        "## Built in functions for sequences - list, tuple etc.\n",
        "\n"
      ],
      "metadata": {
        "id": "FmXiz2BBq3Pp"
      }
    },
    {
      "cell_type": "markdown",
      "source": [
        "### len\n",
        "\n",
        "returns the lenght of the sequence\n",
        "\n",
        "\n",
        "```\n",
        "len(<sequence>)\n",
        "```\n",
        "\n"
      ],
      "metadata": {
        "id": "kt_i92ZqRrtc"
      }
    },
    {
      "cell_type": "code",
      "source": [
        "list_1 = [1,3,5,6,7,9,0,12,14,2,30]\n",
        "tuple_1 = (2,3,4,5,6,1,12,14,15,11,22,21,24,27,28)\n",
        "dict_1 = {\"student_name\":\"Tyler Durdent\", \"maths\":0, \"physics\": 5,\"biology\": 100, \"chemistry\": 10}\n",
        "str_1 = \"As you know, madness is like gravity...all it takes is a little push\" # string is also a sequence"
      ],
      "metadata": {
        "id": "RbYPqGEDii5z"
      },
      "execution_count": null,
      "outputs": []
    },
    {
      "cell_type": "code",
      "source": [
        "print(\"lenght of list:\",len(list_1))\n",
        "print(\"lenght of tuple:\",len(tuple_1))\n",
        "print(\"lenght of dictionary:\", len(dict_1))\n",
        "print(\"lenght of string:\",len(str_1))\n"
      ],
      "metadata": {
        "colab": {
          "base_uri": "https://localhost:8080/"
        },
        "id": "6AljY4kQS6lI",
        "outputId": "4ba37a09-061d-4a0f-b3e6-fe56fcf4eaa7"
      },
      "execution_count": null,
      "outputs": [
        {
          "output_type": "stream",
          "name": "stdout",
          "text": [
            "lenght of list: 11\n",
            "lenght of tuple: 15\n",
            "lenght of dictionary: 5\n",
            "lenght of string: 68\n"
          ]
        }
      ]
    },
    {
      "cell_type": "markdown",
      "source": [
        "## range\n",
        "\n",
        "Generates a sequence of numbers within the specified range\n",
        "\n",
        "\n",
        "```\n",
        "range(start, stop, step) - start, stop, step works similar to list slicing\n",
        "start - start of the range\n",
        "stop - stop of the range\n",
        "steps - steps to increment\n",
        "```\n",
        "\n"
      ],
      "metadata": {
        "id": "R8JSJfA__r-w"
      }
    },
    {
      "cell_type": "code",
      "source": [
        "range(2,14,2) # this will create a range object and not the actual sequence"
      ],
      "metadata": {
        "colab": {
          "base_uri": "https://localhost:8080/"
        },
        "id": "Kz5csypTWieQ",
        "outputId": "f519274e-5875-42d2-d31f-f0f5bbfcf81d"
      },
      "execution_count": null,
      "outputs": [
        {
          "output_type": "execute_result",
          "data": {
            "text/plain": [
              "range(2, 14, 2)"
            ]
          },
          "metadata": {},
          "execution_count": 5
        }
      ]
    },
    {
      "cell_type": "markdown",
      "source": [
        "To create a sequence from range object, one can use for loop or type case the range using list or tuple"
      ],
      "metadata": {
        "id": "xnkGg-jCCGfU"
      }
    },
    {
      "cell_type": "code",
      "source": [
        "# using type cast of tuple\n",
        "tuple(range(2,14,3)) # we have a step value of 0.5 here, 14 is not included because stop value is not inclusive"
      ],
      "metadata": {
        "colab": {
          "base_uri": "https://localhost:8080/"
        },
        "id": "2A-anzvxAlc8",
        "outputId": "f0a6acb1-8e8d-4f3b-f343-e3e303c74a90"
      },
      "execution_count": null,
      "outputs": [
        {
          "output_type": "execute_result",
          "data": {
            "text/plain": [
              "(2, 5, 8, 11)"
            ]
          },
          "metadata": {},
          "execution_count": 9
        }
      ]
    },
    {
      "cell_type": "code",
      "source": [
        "# using for loop\n",
        "# write a program to print only odd number from 1 to 10\n",
        "for i in range(1,10,2):\n",
        "  print(i,end=\"\\t\") # end parameter in print function will replace new line, so that we can get the result in same line"
      ],
      "metadata": {
        "colab": {
          "base_uri": "https://localhost:8080/"
        },
        "id": "foYO4en0CTEk",
        "outputId": "bf9d14c8-e2a6-4edf-ca4e-573f551ac447"
      },
      "execution_count": null,
      "outputs": [
        {
          "output_type": "stream",
          "name": "stdout",
          "text": [
            "1\t3\t5\t7\t9\t"
          ]
        }
      ]
    },
    {
      "cell_type": "code",
      "source": [
        "# generating reverse sequence\n",
        "list(range(20,0,-1))"
      ],
      "metadata": {
        "colab": {
          "base_uri": "https://localhost:8080/"
        },
        "id": "ckd0Tde6Dj0h",
        "outputId": "a35cfcd0-07a7-4611-9d38-1fe792634c69"
      },
      "execution_count": null,
      "outputs": [
        {
          "output_type": "execute_result",
          "data": {
            "text/plain": [
              "[20, 19, 18, 17, 16, 15, 14, 13, 12, 11, 10, 9, 8, 7, 6, 5, 4, 3, 2, 1]"
            ]
          },
          "metadata": {},
          "execution_count": 11
        }
      ]
    },
    {
      "cell_type": "code",
      "source": [
        "# range function expects only the stop value\n",
        "list(range(10)) # default start - 0 default step-1"
      ],
      "metadata": {
        "colab": {
          "base_uri": "https://localhost:8080/"
        },
        "id": "GMHbeY4wbgm9",
        "outputId": "ee0be993-6c45-4066-fa0b-262f09a9ae81"
      },
      "execution_count": null,
      "outputs": [
        {
          "output_type": "execute_result",
          "data": {
            "text/plain": [
              "[0, 1, 2, 3, 4, 5, 6, 7, 8, 9]"
            ]
          },
          "metadata": {},
          "execution_count": 26
        }
      ]
    },
    {
      "cell_type": "markdown",
      "source": [
        "## random module for sequences\n",
        "\n",
        "we have random builtin functions for sequences, some of them are listed below\n",
        "\n",
        "```\n",
        "import random\n",
        "random.choice(sequence) - chooses an element from the sequence passed\n",
        "random.shuffle(sequence) - shuffles the sequence in random order\n",
        "random.sample(sequence, sample_nos) - creates a sample of sequence passed with mentioned sample_nos\n",
        "```\n",
        "\n"
      ],
      "metadata": {
        "id": "ul9BRkAubska"
      }
    },
    {
      "cell_type": "code",
      "source": [
        "import random\n",
        "list_of_greetings = [\"Hi\", \"Hello\",\"Nice to meet you\", \"What a pleasant surprice\" ,\n",
        "                     \"Hey,You alright?\", \"Good Morning\",\"Good day\",\"Hey, How are you?\"]\n",
        "random.choice(list_of_greetings)"
      ],
      "metadata": {
        "colab": {
          "base_uri": "https://localhost:8080/",
          "height": 36
        },
        "id": "PnZTyzi9dbqn",
        "outputId": "3da09ab2-a1b5-413a-9337-810b8b01cc22"
      },
      "execution_count": null,
      "outputs": [
        {
          "output_type": "execute_result",
          "data": {
            "text/plain": [
              "'Good day'"
            ],
            "application/vnd.google.colaboratory.intrinsic+json": {
              "type": "string"
            }
          },
          "metadata": {},
          "execution_count": 35
        }
      ]
    },
    {
      "cell_type": "code",
      "source": [
        "num_asc = [1,2,3,4,5,6,7,8,9,10,11,12,13,14,15,16,17,18,19,20]\n",
        "random.shuffle(num_asc) # it does not return anything, it will change the mutable list\n",
        "num_asc"
      ],
      "metadata": {
        "colab": {
          "base_uri": "https://localhost:8080/"
        },
        "id": "A61pxE2PkWqu",
        "outputId": "20d3772f-38d4-4a94-e7e3-2668521016b6"
      },
      "execution_count": null,
      "outputs": [
        {
          "output_type": "execute_result",
          "data": {
            "text/plain": [
              "[11, 10, 14, 2, 15, 20, 19, 16, 6, 3, 9, 13, 17, 5, 18, 8, 12, 4, 7, 1]"
            ]
          },
          "metadata": {},
          "execution_count": 37
        }
      ]
    },
    {
      "cell_type": "code",
      "source": [
        "random.sample(range(0,100),10) # samples 10 nos from 0 to 99 range"
      ],
      "metadata": {
        "colab": {
          "base_uri": "https://localhost:8080/"
        },
        "id": "AunC4L3Bkw6a",
        "outputId": "ac5af7e8-9ccc-46d0-c9f9-5fe2c0d6c56d"
      },
      "execution_count": null,
      "outputs": [
        {
          "output_type": "execute_result",
          "data": {
            "text/plain": [
              "[3, 22, 50, 49, 1, 83, 56, 7, 11, 6]"
            ]
          },
          "metadata": {},
          "execution_count": 38
        }
      ]
    },
    {
      "cell_type": "markdown",
      "source": [
        "## Sorted\n",
        "\n",
        "Allows you to sort the sequence\n",
        "\n",
        "\n",
        "```\n",
        "sorted(sequence, key, reverse)\n",
        "sequence - sequence to sort\n",
        "key - function, that will decide the sort order\n",
        "reverse - Boolean to reverse the order, from ascending to descending\n",
        "```"
      ],
      "metadata": {
        "id": "FM3MnZ0RbZWB"
      }
    },
    {
      "cell_type": "code",
      "source": [
        "import random\n",
        "unordered_list = random.sample(range(0,1000),20)\n",
        "print(unordered_list)"
      ],
      "metadata": {
        "colab": {
          "base_uri": "https://localhost:8080/"
        },
        "id": "bkSerITglAhI",
        "outputId": "ed1fdb06-be24-4cba-82e4-5608cd6f7416"
      },
      "execution_count": null,
      "outputs": [
        {
          "output_type": "stream",
          "name": "stdout",
          "text": [
            "[946, 614, 275, 938, 696, 365, 233, 512, 574, 752, 303, 428, 731, 176, 363, 283, 542, 490, 338, 51]\n"
          ]
        }
      ]
    },
    {
      "cell_type": "code",
      "source": [
        "print(sorted(unordered_list)) # sorts the list in ascending order"
      ],
      "metadata": {
        "colab": {
          "base_uri": "https://localhost:8080/"
        },
        "id": "DGexld6gmL0Q",
        "outputId": "429c2a16-de48-4794-eb2a-40093dec36ba"
      },
      "execution_count": null,
      "outputs": [
        {
          "output_type": "stream",
          "name": "stdout",
          "text": [
            "[51, 176, 233, 275, 283, 303, 338, 363, 365, 428, 490, 512, 542, 574, 614, 696, 731, 752, 938, 946]\n"
          ]
        }
      ]
    },
    {
      "cell_type": "code",
      "source": [
        "print(sorted(unordered_list, reverse = True)) # creates a descending order"
      ],
      "metadata": {
        "colab": {
          "base_uri": "https://localhost:8080/"
        },
        "id": "s0TGWjZHlcXs",
        "outputId": "0cc731d8-2802-4d07-bfec-1babb5f304cf"
      },
      "execution_count": null,
      "outputs": [
        {
          "output_type": "stream",
          "name": "stdout",
          "text": [
            "[946, 938, 752, 731, 696, 614, 574, 542, 512, 490, 428, 365, 363, 338, 303, 283, 275, 233, 176, 51]\n"
          ]
        }
      ]
    },
    {
      "cell_type": "markdown",
      "source": [
        "### Key in sorted\n",
        "\n",
        "using key parameter you can define a function to sort the sequence.\n",
        "The key function should return a number or alphabet for each element in the sequence"
      ],
      "metadata": {
        "id": "cD26KBVymXwr"
      }
    },
    {
      "cell_type": "code",
      "source": [
        "# function to sort the number based on last digit value\n",
        "# input - [9, 16, 70, 901]\n",
        "# sorted - [70, 901, 16, 9]\n",
        "def sort_last_digit(num):\n",
        "  sort_key = num % 10\n",
        "  return sort_key\n",
        "\n",
        "last_digit_list = [9, 16, 70, 901]\n",
        "sorted(last_digit_list, key=sort_last_digit )"
      ],
      "metadata": {
        "colab": {
          "base_uri": "https://localhost:8080/"
        },
        "id": "C7-r1NqqsIIK",
        "outputId": "602ab168-77b6-4888-c25f-e9d658274075"
      },
      "execution_count": null,
      "outputs": [
        {
          "output_type": "execute_result",
          "data": {
            "text/plain": [
              "[70, 901, 16, 9]"
            ]
          },
          "metadata": {},
          "execution_count": 56
        }
      ]
    },
    {
      "cell_type": "code",
      "source": [
        "def abcde(num):\n",
        "  if num==1:\n",
        "    return \"a\"\n",
        "  elif num==2:\n",
        "    return \"b\"\n",
        "  elif num==3:\n",
        "    return \"c\"\n",
        "  elif num==4:\n",
        "    return \"d\"\n",
        "  elif num == 5:\n",
        "    return \"z\"\n",
        "  elif num == 6:\n",
        "    return \"e\"\n",
        "\n",
        "list_1 = [4,2,1,3,6,5]\n",
        "sorted(list_1, key=abcde)"
      ],
      "metadata": {
        "colab": {
          "base_uri": "https://localhost:8080/"
        },
        "id": "LxxqC85XrZ7c",
        "outputId": "c0b6d140-0cbd-42b2-ee7b-d11a8e46e414"
      },
      "execution_count": null,
      "outputs": [
        {
          "output_type": "execute_result",
          "data": {
            "text/plain": [
              "[1, 2, 3, 4, 6, 5]"
            ]
          },
          "metadata": {},
          "execution_count": 57
        }
      ]
    },
    {
      "cell_type": "code",
      "source": [
        "# you can also pass built in function as key, in here len\n",
        "unordered_string = [\"hello\", \"Vehicle\", \"Encyclopedia\", \"apple\", \"is\", 'a', 'he', 'The', \"road\", ]\n",
        "sorted(unordered_string, key=len) #len - sort it based on length of the word"
      ],
      "metadata": {
        "colab": {
          "base_uri": "https://localhost:8080/"
        },
        "id": "A_nhgrzemdjT",
        "outputId": "394004cb-56e4-4774-84a6-d2e98823e545"
      },
      "execution_count": null,
      "outputs": [
        {
          "output_type": "execute_result",
          "data": {
            "text/plain": [
              "['a', 'is', 'he', 'The', 'road', 'hello', 'apple', 'Vehicle', 'Encyclopedia']"
            ]
          },
          "metadata": {},
          "execution_count": 49
        }
      ]
    },
    {
      "cell_type": "code",
      "source": [
        "rank_student = {\"John\": 5, \"Jack\":10, \"Bruce\":3, \"Betty\":4, \"Ashley\":6, \"Anna\":1 }\n",
        "sorted(rank_student) # it will only sort and return the keys"
      ],
      "metadata": {
        "colab": {
          "base_uri": "https://localhost:8080/"
        },
        "id": "eDuy5tksob6P",
        "outputId": "1620ea15-189f-435c-9ffa-890ac66e6986"
      },
      "execution_count": null,
      "outputs": [
        {
          "output_type": "execute_result",
          "data": {
            "text/plain": [
              "['Anna', 'Ashley', 'Betty', 'Bruce', 'Jack', 'John']"
            ]
          },
          "metadata": {},
          "execution_count": 60
        }
      ]
    },
    {
      "cell_type": "code",
      "source": [
        "# if you need it in dictionary format do\n",
        "dict(sorted(rank_student.items()))"
      ],
      "metadata": {
        "colab": {
          "base_uri": "https://localhost:8080/"
        },
        "id": "uUndKLBfvhch",
        "outputId": "385503c5-d8e9-419b-a5b9-e6ec2da3fce6"
      },
      "execution_count": null,
      "outputs": [
        {
          "output_type": "execute_result",
          "data": {
            "text/plain": [
              "{'Anna': 1, 'Ashley': 6, 'Betty': 4, 'Bruce': 3, 'Jack': 10, 'John': 5}"
            ]
          },
          "metadata": {},
          "execution_count": 62
        }
      ]
    },
    {
      "cell_type": "markdown",
      "source": [
        "## sort function for list\n",
        "\n",
        "You can call the .sort function for the list and sort the list inplace. it wont generate a new sorted list, instead the existing mutable list will be sorted\n",
        "\n",
        "```\n",
        "list_name.sort(key, reverse)\n",
        "```\n",
        "\n"
      ],
      "metadata": {
        "id": "8kbpVqNWv0qU"
      }
    },
    {
      "cell_type": "code",
      "source": [
        "unordered_list = random.sample(range(0,1000),20)\n",
        "print(\"Before sorting:\", unordered_list)\n",
        "unordered_list.sort()\n",
        "print(\"After sorting:\", unordered_list)"
      ],
      "metadata": {
        "colab": {
          "base_uri": "https://localhost:8080/"
        },
        "id": "6AFwkCK6wJWW",
        "outputId": "dedbcc33-8456-4557-88fb-f0981324729b"
      },
      "execution_count": null,
      "outputs": [
        {
          "output_type": "stream",
          "name": "stdout",
          "text": [
            "Before sorting: [7, 737, 253, 216, 662, 728, 83, 66, 12, 309, 273, 669, 93, 658, 378, 848, 0, 131, 788, 534]\n",
            "After sorting: [0, 7, 12, 66, 83, 93, 131, 216, 253, 273, 309, 378, 534, 658, 662, 669, 728, 737, 788, 848]\n"
          ]
        }
      ]
    },
    {
      "cell_type": "code",
      "source": [
        "unordered_string = [\"hello\", \"Vehicle\", \"Encyclopedia\", \"apple\", \"is\", 'a', 'he', 'The', \"road\", ]\n",
        "print(\"Before sorting:\", unordered_string)\n",
        "unordered_string.sort(key = len, reverse = True)\n",
        "print(\"After sorting:\", unordered_string)"
      ],
      "metadata": {
        "colab": {
          "base_uri": "https://localhost:8080/"
        },
        "id": "pBvjTSrUwkHm",
        "outputId": "0f8aaa20-4b7d-4258-a31b-7fcacb873c8a"
      },
      "execution_count": null,
      "outputs": [
        {
          "output_type": "stream",
          "name": "stdout",
          "text": [
            "Before sorting: ['hello', 'Vehicle', 'Encyclopedia', 'apple', 'is', 'a', 'he', 'The', 'road']\n",
            "After sorting: ['Encyclopedia', 'Vehicle', 'hello', 'apple', 'road', 'The', 'is', 'he', 'a']\n"
          ]
        }
      ]
    },
    {
      "cell_type": "markdown",
      "source": [
        "## join\n",
        "\n",
        "join function joins the sequence passed with the help of string parameter. join is the opposite of split.\n",
        "\n",
        "\n",
        "\n",
        "```\n",
        "\"<string parameter>\".join(sequence)\n",
        "```\n",
        "\n"
      ],
      "metadata": {
        "id": "Z9P787-Fw1ix"
      }
    },
    {
      "cell_type": "code",
      "source": [
        "sentences_split = ['See', \"I'm\", 'not', 'a', 'monster,', \"I'm\", 'just', 'ahead', 'of', 'the', 'curve']\n",
        "# Joining the words with space in between\n",
        "\" \".join(sentences_split)"
      ],
      "metadata": {
        "colab": {
          "base_uri": "https://localhost:8080/",
          "height": 36
        },
        "id": "F6yqE7aaxOoA",
        "outputId": "855813f9-3a8e-47ff-a6b1-0be4bc5957b8"
      },
      "execution_count": null,
      "outputs": [
        {
          "output_type": "execute_result",
          "data": {
            "text/plain": [
              "\"See I'm not a monster, I'm just ahead of the curve\""
            ],
            "application/vnd.google.colaboratory.intrinsic+json": {
              "type": "string"
            }
          },
          "metadata": {},
          "execution_count": 70
        }
      ]
    },
    {
      "cell_type": "code",
      "source": [
        "report_heading = [\"\",\"Connectivity\", \"Check\", \"Report\",\"Summary\",\"\"]\n",
        "\"***\".join(report_heading)"
      ],
      "metadata": {
        "colab": {
          "base_uri": "https://localhost:8080/",
          "height": 36
        },
        "id": "CsChuOc7xwDV",
        "outputId": "e340803d-e37b-4b35-c5ea-ab5c179235d4"
      },
      "execution_count": null,
      "outputs": [
        {
          "output_type": "execute_result",
          "data": {
            "text/plain": [
              "'***Connectivity***Check***Report***Summary***'"
            ],
            "application/vnd.google.colaboratory.intrinsic+json": {
              "type": "string"
            }
          },
          "metadata": {},
          "execution_count": 73
        }
      ]
    },
    {
      "cell_type": "markdown",
      "source": [
        "## map\n",
        "\n",
        "map function applies a function to each elements in the sequence\n",
        "\n",
        "\n",
        "```\n",
        "map(function_name, iterator_sequence)\n",
        "```\n",
        "\n"
      ],
      "metadata": {
        "id": "drL6Wjt5D75K"
      }
    },
    {
      "cell_type": "code",
      "source": [
        "numbers = [1,2,3,4,5,6,7,8,9,10]\n",
        "def square_of(num):\n",
        "  return num*num\n",
        "\n",
        "map(square_of, numbers)"
      ],
      "metadata": {
        "colab": {
          "base_uri": "https://localhost:8080/"
        },
        "id": "kR7Ma0IPD4AP",
        "outputId": "86804104-724c-4d34-ed80-0f998671eb73"
      },
      "execution_count": null,
      "outputs": [
        {
          "output_type": "execute_result",
          "data": {
            "text/plain": [
              "<map at 0x7f92b0295290>"
            ]
          },
          "metadata": {},
          "execution_count": 12
        }
      ]
    },
    {
      "cell_type": "markdown",
      "source": [
        "This will create a map object, similar to range object, we can type cast to list or use for loop"
      ],
      "metadata": {
        "id": "vhJCPzqOGKNS"
      }
    },
    {
      "cell_type": "code",
      "source": [
        "list(map(square_of, numbers))"
      ],
      "metadata": {
        "colab": {
          "base_uri": "https://localhost:8080/"
        },
        "id": "WjgDj4zrF78r",
        "outputId": "757dfced-7637-4040-8a02-b3bedc411b72"
      },
      "execution_count": null,
      "outputs": [
        {
          "output_type": "execute_result",
          "data": {
            "text/plain": [
              "[1, 4, 9, 16, 25, 36, 49, 64, 81, 100]"
            ]
          },
          "metadata": {},
          "execution_count": 14
        }
      ]
    },
    {
      "cell_type": "markdown",
      "source": [
        "We can also pass the range function in place of iterator"
      ],
      "metadata": {
        "id": "XMyjeaP1GVep"
      }
    },
    {
      "cell_type": "code",
      "source": [
        "list(map(square_of, range(10,0,-1)))"
      ],
      "metadata": {
        "colab": {
          "base_uri": "https://localhost:8080/"
        },
        "id": "BZp67ml7GBpw",
        "outputId": "c8544a18-dce2-4d7b-f088-8a8f30b13d3e"
      },
      "execution_count": null,
      "outputs": [
        {
          "output_type": "execute_result",
          "data": {
            "text/plain": [
              "[100, 81, 64, 49, 36, 25, 16, 9, 4, 1]"
            ]
          },
          "metadata": {},
          "execution_count": 16
        }
      ]
    },
    {
      "cell_type": "markdown",
      "source": [
        "## Anonymous or lambda function\n",
        "\n",
        "Anonymous or lambda functions are functions without any name. It is a better approach if we are going to use the function only once\n",
        "\n",
        "\n",
        "```\n",
        "lambda x: x*x\n",
        "x - is the argument function\n",
        "x*x - is the return value line\n",
        "```\n",
        "Now this can be used in map, instead of passing a function we can define the lambda function in map\n",
        "\n"
      ],
      "metadata": {
        "id": "xcOuqJA1GwnY"
      }
    },
    {
      "cell_type": "code",
      "source": [
        "list(map(lambda num: num*num, range(10,0,-1)))"
      ],
      "metadata": {
        "colab": {
          "base_uri": "https://localhost:8080/"
        },
        "id": "bpTjiQ0kGqKn",
        "outputId": "d9b6f3d7-37a6-4168-bc9f-8b8bccb1c324"
      },
      "execution_count": null,
      "outputs": [
        {
          "output_type": "execute_result",
          "data": {
            "text/plain": [
              "[100, 81, 64, 49, 36, 25, 16, 9, 4, 1]"
            ]
          },
          "metadata": {},
          "execution_count": 18
        }
      ]
    },
    {
      "cell_type": "markdown",
      "source": [
        "You can also save lambda function in a variable and call it as a normal function"
      ],
      "metadata": {
        "id": "rMWT_2iPIh-V"
      }
    },
    {
      "cell_type": "code",
      "source": [
        "square_of_lambda = lambda num: num*num\n",
        "\n",
        "square_of_lambda(5)"
      ],
      "metadata": {
        "colab": {
          "base_uri": "https://localhost:8080/"
        },
        "id": "K5YY9LUPH2L1",
        "outputId": "83ccce9c-1fdc-4b48-e073-742bc776e5c6"
      },
      "execution_count": null,
      "outputs": [
        {
          "output_type": "execute_result",
          "data": {
            "text/plain": [
              "25"
            ]
          },
          "metadata": {},
          "execution_count": 19
        }
      ]
    },
    {
      "cell_type": "markdown",
      "source": [
        "## Filter\n",
        "\n",
        "filter is like map function, but filter will validate a condition on each elements of the sequence, and will create a new sequence of elements that returns True\n",
        "\n",
        "\n",
        "\n",
        "```\n",
        "filter(func_name, iterator_sequence)\n",
        "```\n",
        "\n"
      ],
      "metadata": {
        "id": "IFNxa4r2Ix5D"
      }
    },
    {
      "cell_type": "code",
      "source": [
        "# filter only even number from list\n",
        "numbers = [1,2,3,4,5,6,7,8,9,10]\n",
        "def is_even(num):\n",
        "  if num%2==0:\n",
        "    return True\n",
        "  else:\n",
        "    return False\n",
        "filter(is_even, numbers) # This will also create a filter object, need to type cast or use a for loop"
      ],
      "metadata": {
        "colab": {
          "base_uri": "https://localhost:8080/"
        },
        "id": "S0dMpAcMIwzc",
        "outputId": "630e84eb-766f-4769-b8c0-72058fb82d6c"
      },
      "execution_count": null,
      "outputs": [
        {
          "output_type": "execute_result",
          "data": {
            "text/plain": [
              "<filter at 0x7f92b02c3b50>"
            ]
          },
          "metadata": {},
          "execution_count": 23
        }
      ]
    },
    {
      "cell_type": "code",
      "source": [
        "list(filter(is_even, numbers))"
      ],
      "metadata": {
        "colab": {
          "base_uri": "https://localhost:8080/"
        },
        "id": "36YoHnSQLDgL",
        "outputId": "d35880a9-5a42-4035-805b-97b56416947a"
      },
      "execution_count": null,
      "outputs": [
        {
          "output_type": "execute_result",
          "data": {
            "text/plain": [
              "[2, 4, 6, 8, 10]"
            ]
          },
          "metadata": {},
          "execution_count": 24
        }
      ]
    },
    {
      "cell_type": "code",
      "source": [
        "## you can also use a lambda function in filter just like maps\n",
        "list(filter(lambda x: x%2==0, numbers))"
      ],
      "metadata": {
        "colab": {
          "base_uri": "https://localhost:8080/"
        },
        "id": "MnRhdK6ELF5Q",
        "outputId": "48503b4b-a172-4a63-bddc-63fe662885ec"
      },
      "execution_count": null,
      "outputs": [
        {
          "output_type": "execute_result",
          "data": {
            "text/plain": [
              "[2, 4, 6, 8, 10]"
            ]
          },
          "metadata": {},
          "execution_count": 25
        }
      ]
    },
    {
      "cell_type": "markdown",
      "source": [
        "## reduce\n",
        "\n",
        "reduces the entire sequence to a single number\n",
        "\n",
        "\n",
        "\n",
        "```\n",
        "from functools import reduce\n",
        "reduce(function, sequence)\n",
        "```\n",
        "\n"
      ],
      "metadata": {
        "id": "RhZpxFcrz-Pi"
      }
    },
    {
      "cell_type": "code",
      "source": [
        "from functools import reduce\n",
        "#reduce function - reduces the entire list into its total sum\n",
        "list1 = [10,20, 20, 40, 60] #[30, 20, 40, 60] #[50, 40, 60] # [90, 60] # [150]\n",
        "y = lambda num1, num2 : num1 +num2\n",
        "\n",
        "reducedValue = reduce(y, list1)\n",
        "print(reducedValue)"
      ],
      "metadata": {
        "colab": {
          "base_uri": "https://localhost:8080/"
        },
        "id": "GbVpIx4JL2pE",
        "outputId": "cb5085b0-103d-4399-d5bc-ea4ecb9a8e99"
      },
      "execution_count": null,
      "outputs": [
        {
          "output_type": "stream",
          "name": "stdout",
          "text": [
            "150\n"
          ]
        }
      ]
    },
    {
      "cell_type": "markdown",
      "source": [
        "#Built in functions related to time and date\n",
        "\n",
        "## sleep\n",
        "\n",
        "occasionally you may need the execution to stop for few seconds and continue again. Classic example is, when you are unable to connect to database or a api system due to a connection time out.\n",
        "\n",
        "you can do that using sleep function.\n",
        "\n",
        "\n",
        "```\n",
        "import time\n",
        "time.sleep(<seconds>)\n",
        "```\n",
        "\n",
        "\n",
        "\n"
      ],
      "metadata": {
        "id": "iW08JxLdraJF"
      }
    },
    {
      "cell_type": "code",
      "source": [
        "# print hello first and wait for 2 seconds and then print world\n",
        "import time\n",
        "print(\"Hello\",end=\" \")\n",
        "time.sleep(2)\n",
        "print(\"World!\")"
      ],
      "metadata": {
        "colab": {
          "base_uri": "https://localhost:8080/"
        },
        "id": "kQeZ0NuKsUD4",
        "outputId": "22f6a15b-866e-4432-e9ed-2468083fb377"
      },
      "execution_count": null,
      "outputs": [
        {
          "output_type": "stream",
          "name": "stdout",
          "text": [
            "Hello World!\n"
          ]
        }
      ]
    },
    {
      "cell_type": "markdown",
      "source": [
        "## datetime module\n",
        "\n",
        "### now\n",
        "now function, to print current date and time"
      ],
      "metadata": {
        "id": "uLKXtnqHthwo"
      }
    },
    {
      "cell_type": "code",
      "source": [
        "from datetime import datetime\n",
        "\n",
        "datetime.now()"
      ],
      "metadata": {
        "id": "Mxv6bh9ftXE1",
        "colab": {
          "base_uri": "https://localhost:8080/"
        },
        "outputId": "710fe5c0-3fdf-4bd7-a34b-042b8004c0c7"
      },
      "execution_count": null,
      "outputs": [
        {
          "output_type": "execute_result",
          "data": {
            "text/plain": [
              "datetime.datetime(2022, 8, 3, 17, 36, 17, 991818)"
            ]
          },
          "metadata": {},
          "execution_count": 5
        }
      ]
    },
    {
      "cell_type": "markdown",
      "source": [
        "## datetime formating -strftime\n",
        "\n",
        "datetime functions will return date time object, but often we need to format the datetime object to display it in a meaningful way. This is done using strptime function\n",
        "\n",
        "\n",
        "\n",
        "```\n",
        "now = datetime.now()\n",
        "now.strptime('%Y/%m/%d')\n",
        "```\n",
        "\n"
      ],
      "metadata": {
        "id": "ImmFYhNByD6y"
      }
    },
    {
      "cell_type": "code",
      "source": [
        "now = datetime.now()\n",
        "print(\"Format-1 - Date:\",now.strftime('%Y/%m/%d'))\n",
        "print(\"Format-2 - Date:\",now.strftime('%d-%b-%Y'))\n",
        "print(\"Format-3 - Date and Time:\", now.strftime(\"%d/%m/%Y %I:%M:%S %p\"))"
      ],
      "metadata": {
        "colab": {
          "base_uri": "https://localhost:8080/"
        },
        "id": "-5PxQ4k0x0t6",
        "outputId": "31830d4e-d0a1-4996-9178-cb90d8501b6f"
      },
      "execution_count": null,
      "outputs": [
        {
          "output_type": "stream",
          "name": "stdout",
          "text": [
            "Format-1 - Date: 2022/08/03\n",
            "Format-2 - Date: 03-Aug-2022\n",
            "Format-3 - Date and Time: 03/08/2022 06:22:41 PM\n"
          ]
        }
      ]
    },
    {
      "cell_type": "markdown",
      "source": [
        "## Full list of available date time format\n",
        "\n",
        "```\n",
        "Directive\tDescription\tExample\n",
        "%a\tWeekday, short version\tWed\n",
        "%A\tWeekday, full version\tWednesday\n",
        "%w\tWeekday as a number 0-6, 0 is Sunday\t3\n",
        "%d\tDay of month 01-31\t31\n",
        "%b\tMonth name, short version\tDec\n",
        "%B\tMonth name, full version\tDecember\n",
        "%m\tMonth as a number 01-12\t12\n",
        "%y\tYear, short version, without century\t18\n",
        "%Y\tYear, full version\t2018\n",
        "%H\tHour 00-23\t17\n",
        "%I\tHour 00-12\t05\n",
        "%p\tAM/PM\tPM\n",
        "%M\tMinute 00-59\t41\n",
        "%S\tSecond 00-59\t08\n",
        "%f\tMicrosecond 000000-999999\t548513\n",
        "%z\tUTC offset\t+0100\n",
        "%Z\tTimezone\tCST\n",
        "%j\tDay number of year 001-366\t365\n",
        "%U\tWeek number of year, Sunday as the first day of week, 00-53\t52\n",
        "%W\tWeek number of year, Monday as the first day of week, 00-53\t52\n",
        "%c\tLocal version of date and time\tMon Dec 31 17:41:00 2018\n",
        "%C\tCentury\t20\n",
        "%x\tLocal version of date\t12/31/18\n",
        "%X\tLocal version of time\t17:41:00\n",
        "%%\tA % character\t%\n",
        "%G\tISO 8601 year\t2018\n",
        "%u\tISO 8601 weekday (1-7)\t1\n",
        "%V\tISO 8601 weeknumber (01-53)\t0\n",
        "```\n",
        "\n"
      ],
      "metadata": {
        "id": "VK6ol6gk6dmj"
      }
    },
    {
      "cell_type": "markdown",
      "source": [
        "# Create your own date object using datetime\n",
        "\n",
        "```\n",
        "from datetime import datetime\n",
        "datetime(Year,month, date)\n",
        "```\n",
        "\n"
      ],
      "metadata": {
        "id": "i1HYJJEw-MgJ"
      }
    },
    {
      "cell_type": "code",
      "source": [
        "#create your own date\n",
        "from datetime import datetime\n",
        "x = datetime(2022, 1, 1)\n",
        "print(x)"
      ],
      "metadata": {
        "colab": {
          "base_uri": "https://localhost:8080/"
        },
        "id": "rnnNRhMc8qFi",
        "outputId": "55929167-9738-4df5-facb-e18ac2c67c74"
      },
      "execution_count": null,
      "outputs": [
        {
          "output_type": "stream",
          "name": "stdout",
          "text": [
            "2022-01-01 00:00:00\n"
          ]
        }
      ]
    },
    {
      "cell_type": "code",
      "source": [
        "# create own date along with time\n",
        "from datetime import datetime\n",
        "x = datetime(2022, 1, 1, hour=9, minute=15, second=0)\n",
        "print(x)"
      ],
      "metadata": {
        "colab": {
          "base_uri": "https://localhost:8080/"
        },
        "id": "jLY8-JMU--hB",
        "outputId": "b29c7653-6f59-45cd-e234-e09c37f6c892"
      },
      "execution_count": null,
      "outputs": [
        {
          "output_type": "stream",
          "name": "stdout",
          "text": [
            "2022-01-01 09:15:00\n"
          ]
        }
      ]
    },
    {
      "cell_type": "markdown",
      "source": [
        "## timedelta\n",
        "\n",
        "timedelta function allows you to add days or time to existing date and find a new date from then\n",
        "\n",
        "\n",
        "```\n",
        "from datetime import timedelta\n",
        "days_40 = timedelta(days=40)\n",
        "```\n",
        "\n"
      ],
      "metadata": {
        "id": "ucFXL0RH_qR6"
      }
    },
    {
      "cell_type": "code",
      "source": [
        "from datetime import datetime, timedelta\n",
        "x = datetime(2022, 1, 1, hour=9, minute=15, second=0)\n",
        "print(\"Initial date\", x)\n",
        "x_after_1_year = x + timedelta(days=365)\n",
        "print(\"After 1 year:\",x_after_1_year)"
      ],
      "metadata": {
        "colab": {
          "base_uri": "https://localhost:8080/"
        },
        "id": "m8c6FSeCAWmt",
        "outputId": "2f6f12b5-f235-4744-99f9-e82e5997de93"
      },
      "execution_count": null,
      "outputs": [
        {
          "output_type": "stream",
          "name": "stdout",
          "text": [
            "Initial date 2022-01-01 09:15:00\n",
            "After 1 year: 2023-01-01 09:15:00\n"
          ]
        }
      ]
    },
    {
      "cell_type": "code",
      "source": [
        "from datetime import datetime, timedelta\n",
        "x = datetime(2022, 1, 1, hour=9, minute=15, second=0)\n",
        "print(\"Initial date\", x)\n",
        "x_before_1_year = x - timedelta(days=365)\n",
        "print(\"Before 1 year:\",x_before_1_year)"
      ],
      "metadata": {
        "colab": {
          "base_uri": "https://localhost:8080/"
        },
        "id": "vl5n13wnAk2N",
        "outputId": "178171f8-fea9-4dec-e481-65e53ca499ca"
      },
      "execution_count": null,
      "outputs": [
        {
          "output_type": "stream",
          "name": "stdout",
          "text": [
            "Initial date 2022-01-01 09:15:00\n",
            "Before 1 year: 2021-01-01 09:15:00\n"
          ]
        }
      ]
    },
    {
      "cell_type": "code",
      "source": [],
      "metadata": {
        "id": "NGASUxulA99m"
      },
      "execution_count": null,
      "outputs": []
    }
  ]
}