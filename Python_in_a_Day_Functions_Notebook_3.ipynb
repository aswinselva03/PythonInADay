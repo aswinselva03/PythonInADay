{
  "nbformat": 4,
  "nbformat_minor": 0,
  "metadata": {
    "colab": {
      "provenance": [],
      "authorship_tag": "ABX9TyNOSADK5HKtPhchZMgEjSyo",
      "include_colab_link": true
    },
    "kernelspec": {
      "name": "python3",
      "display_name": "Python 3"
    },
    "language_info": {
      "name": "python"
    }
  },
  "cells": [
    {
      "cell_type": "markdown",
      "metadata": {
        "id": "view-in-github",
        "colab_type": "text"
      },
      "source": [
        "<a href=\"https://colab.research.google.com/github/aswinselva03/PythonInADay/blob/main/Python_in_a_Day_Functions_Notebook_3.ipynb\" target=\"_parent\"><img src=\"https://colab.research.google.com/assets/colab-badge.svg\" alt=\"Open In Colab\"/></a>"
      ]
    },
    {
      "cell_type": "markdown",
      "source": [
        "# Why Functions?\n",
        "\n",
        "Let's say we want to find 5 numbers to be odd or even at differet parts of the code\n",
        "\n",
        "nos - 10 25 35 90 77\n",
        "\n",
        "your code needs to print x is even or x is odd, here x is the number\n",
        "\n",
        "# Why Functions ? Think Again\n",
        "\n",
        "In the below code block we are repeating the same lines of code again and again 5 times. For a small functionality such as odd or even, if we are repeating 4 lines of  code again and again, just imagine for large function\n",
        "\n",
        "Also lets say now there is a change in requirement, we should not print\n",
        "x is even or x is odd\n",
        "\n",
        "It needs to be changed x is an even number or x is a odd number.\n",
        "\n",
        "Now we have to make changes in 10 lines of your code"
      ],
      "metadata": {
        "id": "M68p_2fagSN3"
      }
    },
    {
      "cell_type": "code",
      "execution_count": null,
      "metadata": {
        "colab": {
          "base_uri": "https://localhost:8080/"
        },
        "id": "7BtA0qVkgISg",
        "outputId": "88ea8fae-1056-4634-9ef6-e131ee43bf28"
      },
      "outputs": [
        {
          "output_type": "stream",
          "name": "stdout",
          "text": [
            "10 is even\n",
            "25 is odd\n",
            "35 is odd\n",
            "90 is even\n",
            "77 is odd\n"
          ]
        }
      ],
      "source": [
        "\n",
        "# This is the logic\n",
        "# for number 10\n",
        "num = 10\n",
        "if num%2 == 0:\n",
        "    print(str(num)+\" is even\")\n",
        "else:\n",
        "    print(str(num)+\" is odd\")\n",
        "\n",
        "# The same steps needs to be repeated for other numbers\n",
        "\n",
        "num = 25\n",
        "if num%2 == 0:\n",
        "    print(str(num)+\" is even\")\n",
        "else:\n",
        "    print(str(num)+\" is odd\")\n",
        "\n",
        "\n",
        "num = 35\n",
        "if num%2 == 0:\n",
        "    print(str(num)+\" is even\")\n",
        "else:\n",
        "    print(str(num)+\" is odd\")\n",
        "\n",
        "num = 90\n",
        "if num%2 == 0:\n",
        "    print(str(num)+\" is even\")\n",
        "else:\n",
        "    print(str(num)+\" is odd\")\n",
        "\n",
        "num = 77\n",
        "if num%2 == 0:\n",
        "    print(str(num)+\" is even\")\n",
        "else:\n",
        "    print(str(num)+\" is odd\")\n",
        "\n"
      ]
    },
    {
      "cell_type": "markdown",
      "source": [
        "# Functions in Python\n",
        "\n",
        "Functions allow you to reduce the number of lines in code by not repeating the same lines again and again. It helps in reusability of code and also organizing related lines of code in block for a particular functionality.\n",
        "Any changes in code can be easily made only inside the function, hence reduced maintenance effort\n",
        "\n",
        "In python functions are implemented with a keyword def before function name.\n",
        "\n",
        "\n",
        "###syntax\n",
        "```\n",
        "function definition:\n",
        "def <function name>(arg1, arg2 ... )\n",
        "  statement1\n",
        "  statement2\n",
        "  return ans\n",
        "\n",
        "function call:\n",
        "<function name>(val1, val2 ..)\n",
        "```"
      ],
      "metadata": {
        "id": "0Az3Oao0r9nN"
      }
    },
    {
      "cell_type": "code",
      "source": [
        "def odd_or_even(num):\n",
        "  if num%2 == 0:\n",
        "    print(str(num)+\" is even\")\n",
        "  else:\n",
        "    print(str(num)+\" is odd\")"
      ],
      "metadata": {
        "id": "RphCDWVCiidp"
      },
      "execution_count": null,
      "outputs": []
    },
    {
      "cell_type": "code",
      "source": [
        "odd_or_even(10)\n",
        "odd_or_even(25)\n",
        "odd_or_even(35)\n",
        "odd_or_even(90)\n",
        "odd_or_even(77)"
      ],
      "metadata": {
        "colab": {
          "base_uri": "https://localhost:8080/"
        },
        "id": "HiJKxCotp5Hl",
        "outputId": "39febd88-e1c2-4b08-a387-f8dcb0c9a1fb"
      },
      "execution_count": null,
      "outputs": [
        {
          "output_type": "stream",
          "name": "stdout",
          "text": [
            "10 is even\n",
            "25 is odd\n",
            "35 is odd\n",
            "90 is even\n",
            "77 is odd\n"
          ]
        }
      ]
    },
    {
      "cell_type": "code",
      "source": [
        "odd_or_even(10)\n",
        "odd_or_even(25)\n",
        "odd_or_even(35)\n",
        "odd_or_even(90)\n",
        "odd_or_even(77)"
      ],
      "metadata": {
        "id": "iYg2pktxp5Eq"
      },
      "execution_count": null,
      "outputs": []
    },
    {
      "cell_type": "markdown",
      "source": [
        "## No return statement\n",
        "\n",
        "A function with no return statement in it, returns None back to its function call.\n",
        "\n"
      ],
      "metadata": {
        "id": "hrJzEdVo3qi7"
      }
    },
    {
      "cell_type": "code",
      "source": [
        "# This function prints the details send and does not return anything\n",
        "def printProfile(name, age, married, height):\n",
        "  print(\"name =\"+name+ \"\\nage =\"+age+ \"\\nmarried =\"+ married+ \"\\nheight=\"+ height + \"\\n\")\n",
        "\n",
        "a = printProfile(\"John\", \"28\", \"No\", \"6 feet 2 inches\")\n",
        "print(a)"
      ],
      "metadata": {
        "colab": {
          "base_uri": "https://localhost:8080/"
        },
        "id": "7NUENBMR37HU",
        "outputId": "88d41e49-be08-4452-fbd0-50afe6f88a15"
      },
      "execution_count": null,
      "outputs": [
        {
          "output_type": "stream",
          "name": "stdout",
          "text": [
            "name =John\n",
            "age =28\n",
            "married =No\n",
            "height=6 feet 2 inches\n",
            "\n",
            "None\n"
          ]
        }
      ]
    },
    {
      "cell_type": "markdown",
      "source": [
        "# return inside a function\n",
        "\n",
        "Often after performing an operation inside the function, we need to return the value from function to the function call, so that the code can process further on the returned value.\n",
        "\n"
      ],
      "metadata": {
        "id": "cwfEyNpo3acg"
      }
    },
    {
      "cell_type": "code",
      "source": [
        "def find_square(num):\n",
        "  return num*num\n",
        "\n",
        "square_of_5 = find_square(5)\n",
        "\n",
        "print(square_of_5)"
      ],
      "metadata": {
        "colab": {
          "base_uri": "https://localhost:8080/"
        },
        "id": "V54Yq5fop4-c",
        "outputId": "84c27b16-c9ed-457f-c78c-52047a6c2c72"
      },
      "execution_count": null,
      "outputs": [
        {
          "output_type": "stream",
          "name": "stdout",
          "text": [
            "25\n"
          ]
        }
      ]
    },
    {
      "cell_type": "markdown",
      "source": [
        "return statement ends function execution, no matter where it appears. This is similar to what break statement does inside a loop."
      ],
      "metadata": {
        "id": "FlxFb6JWFAhd"
      }
    },
    {
      "cell_type": "code",
      "source": [
        "# return statement ends function execution\n",
        "\n",
        "def divide_op(operand1, operand2):\n",
        "  return None                    # This will end function execution even before it starts\n",
        "  print(\"This is not a valid function as return is the first statement, and actual code block will never execute\")\n",
        "  ans = operand1/operand2\n",
        "  return ans"
      ],
      "metadata": {
        "id": "YG39n39nDk1J"
      },
      "execution_count": null,
      "outputs": []
    },
    {
      "cell_type": "code",
      "source": [
        "print(divide_op(100,10))"
      ],
      "metadata": {
        "colab": {
          "base_uri": "https://localhost:8080/"
        },
        "id": "1gfzSPRlEb9e",
        "outputId": "63e7fbd1-1806-4be3-d2ca-82da00744fff"
      },
      "execution_count": null,
      "outputs": [
        {
          "output_type": "stream",
          "name": "stdout",
          "text": [
            "None\n"
          ]
        }
      ]
    },
    {
      "cell_type": "markdown",
      "source": [
        "Let's put return statement ends function execution to better use on a valid logic"
      ],
      "metadata": {
        "id": "hgKutJVfE0gX"
      }
    },
    {
      "cell_type": "code",
      "source": [
        "def divide_op(operand1, operand2):\n",
        "  if operand2 == 0:\n",
        "    return \"Error, cannot divide a number by zero\"\n",
        "  ans = operand1/operand2\n",
        "  return ans"
      ],
      "metadata": {
        "id": "C8kNLzT3EzxY"
      },
      "execution_count": null,
      "outputs": []
    },
    {
      "cell_type": "code",
      "source": [
        "print(divide_op(100,10))\n",
        "print(divide_op(100,0))"
      ],
      "metadata": {
        "colab": {
          "base_uri": "https://localhost:8080/"
        },
        "id": "vDnPiZ5XFek_",
        "outputId": "766da8d9-6009-4e2c-ae0c-dd3c792e239c"
      },
      "execution_count": null,
      "outputs": [
        {
          "output_type": "stream",
          "name": "stdout",
          "text": [
            "10.0\n",
            "Error, cannot divide a number by zero\n"
          ]
        }
      ]
    },
    {
      "cell_type": "markdown",
      "source": [
        "## Arguments and function call\n",
        "\n",
        "We can send inputs for function, in function call which is saved as arguments in function definition. Values get saved in function arguments based on the position in which it is passed\n",
        "\n",
        "\n",
        "\n",
        "```\n",
        "function definition:\n",
        "def func_name(arg1_pos1, arg2_pos2, arg3_pos3)\n",
        "    do something\n",
        "\n",
        "function call\n",
        "\n",
        "func_name(val1_pos1, val2_pos2, val3_pos3)\n",
        "\n",
        "here val1 will be saved in arg1 as both are in pos1\n",
        "val2 will be saved in arg2 as both are in pos2\n",
        "val3 will be saved in arg3 as both are in pos3\n",
        "```\n",
        "\n"
      ],
      "metadata": {
        "id": "Vx1PDnrMBagX"
      }
    },
    {
      "cell_type": "code",
      "source": [
        "def calculate(num1, num2, operation):\n",
        "  if operation==\"add\":\n",
        "    num3 = num1+num2\n",
        "  elif operation==\"subtract\":\n",
        "    num3 = num1 - num2\n",
        "  elif operation == \"multiply\":\n",
        "    num3 = num1*num2\n",
        "  elif operation == \"divide\":\n",
        "    num3 = num1/num2\n",
        "  else:\n",
        "    return operation+\" is not a valid operation\"\n",
        "  return num3\n",
        "\n",
        "\n",
        "calculate(5,6,\"multiply\")\n",
        "# 5 gets saved in num1\n",
        "# 6 gets saved in num2\n",
        "# multiply gets saved in operation"
      ],
      "metadata": {
        "colab": {
          "base_uri": "https://localhost:8080/"
        },
        "id": "hmgayKRvp4wS",
        "outputId": "dcf2d2d9-4f03-4780-bee4-26e3ef683b3c"
      },
      "execution_count": null,
      "outputs": [
        {
          "output_type": "execute_result",
          "data": {
            "text/plain": [
              "30"
            ]
          },
          "metadata": {},
          "execution_count": 26
        }
      ]
    },
    {
      "cell_type": "code",
      "source": [
        "calculate(100,50,\"powerof\")"
      ],
      "metadata": {
        "colab": {
          "base_uri": "https://localhost:8080/",
          "height": 36
        },
        "id": "ssHMZyDxDEs9",
        "outputId": "a8803248-02b1-4ca8-870b-9a43b362c89a"
      },
      "execution_count": null,
      "outputs": [
        {
          "output_type": "execute_result",
          "data": {
            "text/plain": [
              "'powerof is not a valid operation'"
            ],
            "application/vnd.google.colaboratory.intrinsic+json": {
              "type": "string"
            }
          },
          "metadata": {},
          "execution_count": 27
        }
      ]
    },
    {
      "cell_type": "markdown",
      "source": [
        "## keyword arguments\n",
        "\n",
        "To maintain the position of arguments and values to be same in a large function with many arguments is difficult. Python helps you in overcoming this by using keyword arguments. Argument values can be assigned while calling the function directly without maintaining the position\n",
        "\n",
        "\n",
        "\n",
        "```\n",
        "def func_name(arg1,arg2,arg3)\n",
        "    do something\n",
        "\n",
        "func_name(arg2=val2,arg3=val3,arg1=val1)\n",
        "\n",
        "here still we are following\n",
        "val1 for arg1\n",
        "val2 for arg2\n",
        "val3 for arg3\n",
        "but the position is not maintainted, thanks to keyword argument\n",
        "```\n",
        "\n"
      ],
      "metadata": {
        "id": "IbT6wqWnyfTS"
      }
    },
    {
      "cell_type": "code",
      "source": [
        "def calculate(num1, num2, operation):\n",
        "  if operation==\"add\":\n",
        "    num3 = num1+num2\n",
        "  elif operation==\"subtract\":\n",
        "    num3 = num1 - num2\n",
        "  elif operation == \"multiply\":\n",
        "    num3 = num1*num2\n",
        "  elif operation == \"divide\":\n",
        "    num3 = num1/num2\n",
        "  else:\n",
        "    return operation+\" is not a valid operation\"\n",
        "  return num3\n",
        "\n",
        "\n",
        "calculate(operation=\"multiply\", num2=6, num1=5)"
      ],
      "metadata": {
        "colab": {
          "base_uri": "https://localhost:8080/"
        },
        "id": "TjmsuKLhzlFJ",
        "outputId": "80ea785c-2949-4d15-bf36-4e84deeaae6d"
      },
      "execution_count": null,
      "outputs": [
        {
          "output_type": "execute_result",
          "data": {
            "text/plain": [
              "30"
            ]
          },
          "metadata": {},
          "execution_count": 1
        }
      ]
    },
    {
      "cell_type": "markdown",
      "source": [
        "## Mismatch in number of arguments in function definition and function call parameters\n",
        "\n",
        "What happens when the function expects values for 3 arguments and we are calling it only with 2?\n",
        "\n",
        "It throws error, as it doesn't know the value for the 3rd argument"
      ],
      "metadata": {
        "id": "WhlOF15_GI2p"
      }
    },
    {
      "cell_type": "code",
      "source": [
        "def calculate(num1, num2, operation):\n",
        "  if operation==\"add\":\n",
        "    num3 = num1+num2\n",
        "  elif operation==\"subtract\":\n",
        "    num3 = num1 - num2\n",
        "  elif operation == \"multiply\":\n",
        "    num3 = num1*num2\n",
        "  elif operation == \"divide\":\n",
        "    num3 = num1/num2\n",
        "  else:\n",
        "    return operation+\" is not a valid operation\"\n",
        "  return num3\n",
        "\n",
        "\n",
        "calculate(5,6)"
      ],
      "metadata": {
        "colab": {
          "base_uri": "https://localhost:8080/",
          "height": 203
        },
        "id": "DnL0jMa4DFyg",
        "outputId": "c1fb710b-4c8f-456e-9cd9-83da9a66d556"
      },
      "execution_count": null,
      "outputs": [
        {
          "output_type": "error",
          "ename": "TypeError",
          "evalue": "ignored",
          "traceback": [
            "\u001b[0;31m---------------------------------------------------------------------------\u001b[0m",
            "\u001b[0;31mTypeError\u001b[0m                                 Traceback (most recent call last)",
            "\u001b[0;32m<ipython-input-28-5387012c53c7>\u001b[0m in \u001b[0;36m<module>\u001b[0;34m()\u001b[0m\n\u001b[1;32m     13\u001b[0m \u001b[0;34m\u001b[0m\u001b[0m\n\u001b[1;32m     14\u001b[0m \u001b[0;34m\u001b[0m\u001b[0m\n\u001b[0;32m---> 15\u001b[0;31m \u001b[0mcalculate\u001b[0m\u001b[0;34m(\u001b[0m\u001b[0;36m5\u001b[0m\u001b[0;34m,\u001b[0m\u001b[0;36m6\u001b[0m\u001b[0;34m)\u001b[0m\u001b[0;34m\u001b[0m\u001b[0;34m\u001b[0m\u001b[0m\n\u001b[0m",
            "\u001b[0;31mTypeError\u001b[0m: calculate() missing 1 required positional argument: 'operation'"
          ]
        }
      ]
    },
    {
      "cell_type": "markdown",
      "source": [
        "## Default values for argument\n",
        "\n",
        "Python allows us to define a function with default argument values. When we call the function with missing argument value, this will avoid throwing errors\n",
        "\n",
        "This makes function call easier as we don't have to always call the function with all its arguments.\n",
        "\n"
      ],
      "metadata": {
        "id": "sQ5CSuj1LSp3"
      }
    },
    {
      "cell_type": "code",
      "source": [
        "def calculate(num1, num2, operation = 'add'): # By default the operation is assigned with add\n",
        "  if operation==\"add\":\n",
        "    num3 = num1+num2\n",
        "  elif operation==\"subtract\":\n",
        "    num3 = num1 - num2\n",
        "  elif operation == \"multiply\":\n",
        "    num3 = num1*num2\n",
        "  elif operation == \"divide\":\n",
        "    num3 = num1/num2\n",
        "  else:\n",
        "    return operation+\" is not a valid operation\"\n",
        "  return num3\n",
        "\n",
        "\n",
        "calculate(5,6) # operation is not defined, hence operation argument in function definition will be default value(add)"
      ],
      "metadata": {
        "colab": {
          "base_uri": "https://localhost:8080/"
        },
        "id": "bmpml-5IKbSm",
        "outputId": "86ed6ead-00c5-4b6a-ecdb-1863bd212364"
      },
      "execution_count": null,
      "outputs": [
        {
          "output_type": "execute_result",
          "data": {
            "text/plain": [
              "11"
            ]
          },
          "metadata": {},
          "execution_count": 29
        }
      ]
    },
    {
      "cell_type": "code",
      "source": [
        "calculate(5,6,\"subtract\") # here the function call with operation as 'subtract' will override the default value(add)"
      ],
      "metadata": {
        "colab": {
          "base_uri": "https://localhost:8080/"
        },
        "id": "37NHpmYjMeOs",
        "outputId": "d97a8363-4534-4605-b7fb-ce880c12f290"
      },
      "execution_count": null,
      "outputs": [
        {
          "output_type": "execute_result",
          "data": {
            "text/plain": [
              "-1"
            ]
          },
          "metadata": {},
          "execution_count": 30
        }
      ]
    },
    {
      "cell_type": "markdown",
      "source": [
        "## Default values for argument rule\n",
        "\n",
        "Default value for argument should be assigned only from the last, as python will confuse it for missing positional argument\n",
        "\n",
        "\n",
        "\n",
        "```\n",
        "def func_name(arg1, arg2, arg3=20, arg4 = 40) # This is right as defaul arguments are assigned from last\n",
        "\n",
        "\n",
        "def func_name(arg1, arg2=20, arg3=40, arg4) # This will throw error\n",
        "#Since python will not know if arg2 and arg3 should be assigned with default value\n",
        "#or should it be overriden by function call value\n",
        "```\n",
        "\n"
      ],
      "metadata": {
        "id": "1MIcp3i7NF8_"
      }
    },
    {
      "cell_type": "code",
      "source": [
        "def marks(student_name, maths, physics=40, biology=40, chemistry=40): #valid\n",
        "  print(\"Marks scored by: \"+student_name)\n",
        "  print(\"maths=\",maths,\"physics=\",physics,\"biology=\", biology, \"chemistry=\", chemistry)\n",
        "\n",
        "marks(\"Tyler Durden\", 90)\n",
        "marks(\"Bruce Wayne\", 100, 80, 45, 90)"
      ],
      "metadata": {
        "colab": {
          "base_uri": "https://localhost:8080/"
        },
        "id": "w1kzb79RND11",
        "outputId": "ff5b94c1-6d90-4f22-aff0-542ef014da25"
      },
      "execution_count": null,
      "outputs": [
        {
          "output_type": "stream",
          "name": "stdout",
          "text": [
            "Marks scored by: Tyler Durden\n",
            "maths= 90 physics= 40 biology= 40 chemistry= 40\n",
            "Marks scored by: Bruce Wayne\n",
            "maths= 100 physics= 80 biology= 45 chemistry= 90\n"
          ]
        }
      ]
    },
    {
      "cell_type": "code",
      "source": [
        "def marks(student_name, physics=40,biology=40, chemistry=40, maths): #not valid\n",
        "  print(\"Marks scored by: \"+student_name)\n",
        "  print(\"maths=\",maths,\"physics=\",physics,\"biology=\", biology, \"chemistry=\", chemistry)\n",
        "\n",
        "marks(\"Tyler Durden\", 90) # because python can never figure out in which subject should it save 90"
      ],
      "metadata": {
        "colab": {
          "base_uri": "https://localhost:8080/",
          "height": 132
        },
        "id": "TSDzICw_PAXn",
        "outputId": "752550f0-97d1-4ab5-b386-a89b2ab08132"
      },
      "execution_count": null,
      "outputs": [
        {
          "output_type": "error",
          "ename": "SyntaxError",
          "evalue": "ignored",
          "traceback": [
            "\u001b[0;36m  File \u001b[0;32m\"<ipython-input-38-d2a146fc1ee2>\"\u001b[0;36m, line \u001b[0;32m1\u001b[0m\n\u001b[0;31m    def marks(student_name, physics=40,biology=40, chemistry=40, maths): #not valid\u001b[0m\n\u001b[0m             ^\u001b[0m\n\u001b[0;31mSyntaxError\u001b[0m\u001b[0;31m:\u001b[0m non-default argument follows default argument\n"
          ]
        }
      ]
    },
    {
      "cell_type": "markdown",
      "source": [
        "## Unpacking values for function argument using *\n",
        "\n",
        "If the values to be passed to function is in list or tuple  data structure, you can unpack it by placing a single * asterisk before it\n",
        "\n",
        "\n",
        "\n",
        "```\n",
        "student_1 = [\"Tyler Durdent\", 0, 5, 100, 10]\n",
        "marks(*student_1)\n",
        "\n",
        "```\n",
        "Note: Order of the elements in list or tuple shoule be in same order as the positional argument\n"
      ],
      "metadata": {
        "id": "VIdoC4YVQuKO"
      }
    },
    {
      "cell_type": "code",
      "source": [
        "def marks(student_name, maths, physics, biology, chemistry=40):\n",
        "  print(\"Marks scored by: \"+student_name)\n",
        "  print(\"maths=\",maths,\"physics=\",physics,\"biology=\", biology, \"chemistry=\", chemistry)\n",
        "student_1 = [\"Tyler Durden\", 0, 5, 100, 10]\n",
        "student_2 = (\"Bruce Wayne\", 100, 95, 100) # default value will be assigned for chemistry\n",
        "\n",
        "marks(*student_1)\n",
        "marks(*student_2)"
      ],
      "metadata": {
        "colab": {
          "base_uri": "https://localhost:8080/"
        },
        "id": "cC0eVOM-QvRw",
        "outputId": "dd69d4e5-84dc-465d-e0e3-e1384a3ecd52"
      },
      "execution_count": null,
      "outputs": [
        {
          "output_type": "stream",
          "name": "stdout",
          "text": [
            "Marks scored by: Tyler Durden\n",
            "maths= 0 physics= 5 biology= 100 chemistry= 10\n",
            "Marks scored by: Bruce Wayne\n",
            "maths= 100 physics= 95 biology= 100 chemistry= 40\n"
          ]
        }
      ]
    },
    {
      "cell_type": "markdown",
      "source": [
        "## Unpacking values for function argument using **\n",
        "\n",
        "If the values to be passed to function is in dictionary data structure, you can unpack it by placing a double * asterisk before it\n",
        "\n",
        "\n",
        "\n",
        "```\n",
        "student_1 = {\"student_name\":\"Tyler Durdent\",\n",
        "              \"maths\":0, \"physics\": 5,\n",
        "              \"biology\": 100, \"chemistry\": 10}\n",
        "marks(*student_1)\n",
        "\n",
        "```\n",
        "Note: Order of the dictionary doesn't matter as key in the dictionary is same as argument name"
      ],
      "metadata": {
        "id": "kZGRVxF6S95u"
      }
    },
    {
      "cell_type": "code",
      "source": [
        "def marks(student_name, maths, physics, biology, chemistry=40):\n",
        "  print(\"Marks scored by: \"+student_name)\n",
        "  print(\"maths=\",maths,\"physics=\",physics,\"biology=\", biology, \"chemistry=\", chemistry)\n",
        "\n",
        "student_1 = {\"student_name\":\"Tyler Durdent\",\n",
        "            \"maths\":0, \"physics\": 5,\n",
        "            \"biology\": 100, \"chemistry\": 10}\n",
        "\n",
        "marks(**student_1)\n",
        "# order in the dictionary for student 2 is not same as argument position\n",
        "# since key  is same as argument name in func definition\n",
        "student_2 = { \"chemistry\": 90,  \"physics\": 95, \"maths\":100,\n",
        "            \"biology\": 100, \"student_name\":\"Bruce Wayne\",}\n",
        "\n",
        "marks(**student_2)\n",
        "\n",
        "# if key is different with argument name it will throw error\n",
        "# Social is added whose argument name is not present in function definition\n",
        "\n",
        "student_3 = { \"Social\": 90,  \"physics\": 95, \"maths\":100,\n",
        "            \"biology\": 100, \"student_name\":\"Bruce Wayne\",}\n",
        "\n",
        "marks(**student_3)\n"
      ],
      "metadata": {
        "colab": {
          "base_uri": "https://localhost:8080/",
          "height": 274
        },
        "id": "Avf6MIQES_Dh",
        "outputId": "3e0567d3-09c8-49da-9e7a-dddb807c37d5"
      },
      "execution_count": null,
      "outputs": [
        {
          "output_type": "stream",
          "name": "stdout",
          "text": [
            "Marks scored by: Tyler Durdent\n",
            "maths= 0 physics= 5 biology= 100 chemistry= 10\n",
            "Marks scored by: Bruce Wayne\n",
            "maths= 100 physics= 95 biology= 100 chemistry= 90\n"
          ]
        },
        {
          "output_type": "error",
          "ename": "TypeError",
          "evalue": "ignored",
          "traceback": [
            "\u001b[0;31m---------------------------------------------------------------------------\u001b[0m",
            "\u001b[0;31mTypeError\u001b[0m                                 Traceback (most recent call last)",
            "\u001b[0;32m<ipython-input-47-efe216810a9e>\u001b[0m in \u001b[0;36m<module>\u001b[0;34m()\u001b[0m\n\u001b[1;32m     21\u001b[0m             \"biology\": 100, \"student_name\":\"Bruce Wayne\",} \n\u001b[1;32m     22\u001b[0m \u001b[0;34m\u001b[0m\u001b[0m\n\u001b[0;32m---> 23\u001b[0;31m \u001b[0mmarks\u001b[0m\u001b[0;34m(\u001b[0m\u001b[0;34m**\u001b[0m\u001b[0mstudent_3\u001b[0m\u001b[0;34m)\u001b[0m\u001b[0;34m\u001b[0m\u001b[0;34m\u001b[0m\u001b[0m\n\u001b[0m",
            "\u001b[0;31mTypeError\u001b[0m: marks() got an unexpected keyword argument 'Social'"
          ]
        }
      ]
    },
    {
      "cell_type": "markdown",
      "source": [
        "## variable arguments for a function\n",
        "\n",
        "some function needs to be flexible and accept variable number of arguments(or a sequence of elements) and perform operations on it.\n",
        "\n",
        "To accept variable number of arguments in a function, add a single * before argument name\n",
        "\n",
        "\n",
        "```\n",
        "def func_name(*args)\n",
        "\n",
        "def func_name(arg1,arg2, *args)\n",
        "```\n",
        "\n"
      ],
      "metadata": {
        "id": "cD2GEo1XQnKN"
      }
    },
    {
      "cell_type": "code",
      "source": [
        "#passing variable number of arguments\n",
        "def sumOfAll(*listofNum):\n",
        "  sum = 0\n",
        "  for i in listofNum:\n",
        "    sum = sum+ i\n",
        "  return sum\n",
        "\n",
        "print(sumOfAll(100, 10, 2, 5, 5, 4, 22, 34, 11))\n",
        "print(sumOfAll(2, 4, 1, 8, 11))"
      ],
      "metadata": {
        "colab": {
          "base_uri": "https://localhost:8080/"
        },
        "id": "Pk_ZIrkcPWCs",
        "outputId": "f11a8a5a-0c94-4341-8bac-0cf82d1ff201"
      },
      "execution_count": null,
      "outputs": [
        {
          "output_type": "stream",
          "name": "stdout",
          "text": [
            "193\n",
            "26\n"
          ]
        }
      ]
    },
    {
      "cell_type": "markdown",
      "source": [
        "## keyword variable arguments for a function\n",
        "\n",
        "some function needs to be flexible and accept variable number of keyword arguments(or a sequence of key value pair) and perform operations on it.\n",
        "\n",
        "To accept variable number of keyword arguments in a function, add double * before argument name\n",
        "\n",
        "\n",
        "```\n",
        "def func_name(**kwargs)\n",
        "\n",
        "def func_name(arg1,arg2, **kwargs)\n",
        "```\n",
        "\n"
      ],
      "metadata": {
        "id": "1mxVGVGz2rka"
      }
    },
    {
      "cell_type": "code",
      "source": [
        "#passing variable number of key value pair\n",
        "#Print marks as key value pair and find the sum\n",
        "def displayMarks_and_Total(**kwargs):\n",
        "  sum = 0\n",
        "  for y in kwargs.values():\n",
        "    sum+=y\n",
        "  kwargs['Total'] = sum\n",
        "  for x,y in kwargs.items():\n",
        "    print(x,y)\n",
        "\n",
        "marks = {\"English\": 20, \"Tamil\": 90,\n",
        "         \"Maths\":0, \"Physics\": 5,\n",
        "         \"Biology\": 100, \"Chemistry\": 10}\n",
        "\n",
        "displayMarks_and_Total(**marks)\n",
        "print(\"\\n\")\n",
        "displayMarks_and_Total(English=20, Tamil=90, Physics=100, ComputerScience=60,\n",
        "                       Chemistry= 40, PT = 80, History = 100)"
      ],
      "metadata": {
        "colab": {
          "base_uri": "https://localhost:8080/"
        },
        "id": "pu3L26nm2Csa",
        "outputId": "61f9470a-dd55-4660-f3af-e4fb7e98892c"
      },
      "execution_count": null,
      "outputs": [
        {
          "output_type": "stream",
          "name": "stdout",
          "text": [
            "English 20\n",
            "Tamil 90\n",
            "Maths 0\n",
            "Physics 5\n",
            "Biology 100\n",
            "Chemistry 10\n",
            "Total 225\n",
            "\n",
            "\n",
            "English 20\n",
            "Tamil 90\n",
            "Physics 100\n",
            "ComputerScience 60\n",
            "Chemistry 40\n",
            "PT 80\n",
            "History 100\n",
            "Total 490\n"
          ]
        }
      ]
    },
    {
      "cell_type": "markdown",
      "source": [
        "## Local variables\n",
        "\n",
        "Local variables are variables that has local scope within the function. Outside the function, the variables does not exist and throws name error\n",
        "\n"
      ],
      "metadata": {
        "id": "bUb8gRmT4cUR"
      }
    },
    {
      "cell_type": "code",
      "source": [
        "# Local variables\n",
        "def sum_of_two():\n",
        "  num1 = 5        #local scope variable\n",
        "  num2 = 10       #local scope variable\n",
        "  print(num1+num2)\n",
        "sum_of_two()\n",
        "print(num1)"
      ],
      "metadata": {
        "colab": {
          "base_uri": "https://localhost:8080/",
          "height": 221
        },
        "id": "DaXfkmo73yrV",
        "outputId": "19a3a195-14eb-4d06-b9b2-d3a7682b9328"
      },
      "execution_count": null,
      "outputs": [
        {
          "output_type": "stream",
          "name": "stdout",
          "text": [
            "15\n"
          ]
        },
        {
          "output_type": "error",
          "ename": "NameError",
          "evalue": "ignored",
          "traceback": [
            "\u001b[0;31m---------------------------------------------------------------------------\u001b[0m",
            "\u001b[0;31mNameError\u001b[0m                                 Traceback (most recent call last)",
            "\u001b[0;32m<ipython-input-9-c483fc941496>\u001b[0m in \u001b[0;36m<module>\u001b[0;34m()\u001b[0m\n\u001b[1;32m      5\u001b[0m   \u001b[0mprint\u001b[0m\u001b[0;34m(\u001b[0m\u001b[0mnum1\u001b[0m\u001b[0;34m+\u001b[0m\u001b[0mnum2\u001b[0m\u001b[0;34m)\u001b[0m\u001b[0;34m\u001b[0m\u001b[0;34m\u001b[0m\u001b[0m\n\u001b[1;32m      6\u001b[0m \u001b[0msum_of_two\u001b[0m\u001b[0;34m(\u001b[0m\u001b[0;34m)\u001b[0m\u001b[0;34m\u001b[0m\u001b[0;34m\u001b[0m\u001b[0m\n\u001b[0;32m----> 7\u001b[0;31m \u001b[0mprint\u001b[0m\u001b[0;34m(\u001b[0m\u001b[0mnum1\u001b[0m\u001b[0;34m)\u001b[0m\u001b[0;34m\u001b[0m\u001b[0;34m\u001b[0m\u001b[0m\n\u001b[0m",
            "\u001b[0;31mNameError\u001b[0m: name 'num1' is not defined"
          ]
        }
      ]
    },
    {
      "cell_type": "markdown",
      "source": [
        "## Global variables\n",
        "\n",
        "Global variables are variables that are declared outside the function and has global scope. it can be accessed both outside as well as inside the function\n",
        "\n",
        "variable inside the function should be preceded with a global keyword"
      ],
      "metadata": {
        "id": "uAv_QiK560ee"
      }
    },
    {
      "cell_type": "code",
      "source": [
        "num1 = 10   # global variables\n",
        "print(\"Global variable before:\"+str(num1))\n",
        "def sum_of_two():\n",
        "  num1 = 5        #still this is not global scope, as inside the function it will create a local scope variable only\n",
        "  num2 = 10       #local scope variable\n",
        "  num3 = num1+num2\n",
        "  return num3\n",
        "sum_of_two()\n",
        "print(\"Global variable after:\"+str(num1)) # This will print num as 10, as the variable is not changed inside function"
      ],
      "metadata": {
        "colab": {
          "base_uri": "https://localhost:8080/"
        },
        "id": "YtCONMDA6rds",
        "outputId": "a20b9946-f0f3-4c1e-9326-bfe810384b91"
      },
      "execution_count": null,
      "outputs": [
        {
          "output_type": "stream",
          "name": "stdout",
          "text": [
            "Global variable before:10\n",
            "Global variable after:10\n"
          ]
        }
      ]
    },
    {
      "cell_type": "code",
      "source": [
        "num1 = 10   # global variables\n",
        "print(\"Global variable before:\"+str(num1))\n",
        "def sum_of_two():\n",
        "  global num1\n",
        "  num1 = 5        #now this is a global variable\n",
        "  num2 = 10       #local scope variable\n",
        "  num3 = num1+num2\n",
        "  return num3\n",
        "sum_of_two()\n",
        "print(\"Global variable after:\"+str(num1)) # This will print num as 5, as the variable accessed inside function is global"
      ],
      "metadata": {
        "colab": {
          "base_uri": "https://localhost:8080/"
        },
        "id": "LGUQXBZG7tPa",
        "outputId": "df1ddebb-0cda-49c5-8350-1697c4534bd3"
      },
      "execution_count": null,
      "outputs": [
        {
          "output_type": "stream",
          "name": "stdout",
          "text": [
            "Global variable before:10\n",
            "Global variable after:5\n"
          ]
        }
      ]
    },
    {
      "cell_type": "markdown",
      "source": [
        "## Functions are Objects\n",
        "\n",
        "Everything is an object in python. Function is also an object, it can be passed and called like any other objects"
      ],
      "metadata": {
        "id": "CDIRuS0k832f"
      }
    },
    {
      "cell_type": "code",
      "source": [
        "def powerof(num1,num2):\n",
        "  return pow(num1,num2)\n",
        "\n",
        "print(type(powerof))"
      ],
      "metadata": {
        "colab": {
          "base_uri": "https://localhost:8080/"
        },
        "id": "q5nNjTPy8MdB",
        "outputId": "68401825-867d-45d9-de3b-7e0b881b3c21"
      },
      "execution_count": null,
      "outputs": [
        {
          "output_type": "stream",
          "name": "stdout",
          "text": [
            "<class 'function'>\n"
          ]
        }
      ]
    },
    {
      "cell_type": "code",
      "source": [
        "def calculate(num1, num2, operation, other_op_func = None):\n",
        "  if operation==\"add\":\n",
        "    num3 = num1+num2\n",
        "  elif operation==\"subtract\":\n",
        "    num3 = num1 - num2\n",
        "  elif operation == \"multiply\":\n",
        "    num3 = num1*num2\n",
        "  elif operation == \"divide\":\n",
        "    num3 = num1/num2\n",
        "  else:\n",
        "    num3 = other_op_func(num1,num2)\n",
        "  return num3\n",
        "\n",
        "print(calculate(3, 2,'add')) #normal function sending only values\n",
        "print(calculate(3, 2,'power',powerof)) # passing powerof function to function definition"
      ],
      "metadata": {
        "colab": {
          "base_uri": "https://localhost:8080/"
        },
        "id": "MD3BvURt9wKJ",
        "outputId": "99e350c4-5b4d-495e-97cc-01d1e8165dfb"
      },
      "execution_count": null,
      "outputs": [
        {
          "output_type": "stream",
          "name": "stdout",
          "text": [
            "5\n",
            "9\n"
          ]
        }
      ]
    },
    {
      "cell_type": "markdown",
      "source": [
        "## Python is call by object reference\n",
        "\n",
        "When you send an object to python function, only the reference to that object is passed and saved in function parameter, not the actual object. So when you change the values of an object inside the function, the object values will also change outside.\n",
        "\n",
        "Call by value - will save a copy of object value in function parameter. This is not the case in python\n",
        "\n",
        "Care should be taken, if you need the original value passed for later processing\n",
        "\n",
        "This is the case for any mutable object, since immutable object cannot be changed"
      ],
      "metadata": {
        "id": "UKyHfEGHKEoF"
      }
    },
    {
      "cell_type": "code",
      "source": [
        "\n",
        "# we will take list as an example\n",
        "\n",
        "countries = [\"India\", \"USA\", \"Russia\", \"China\", \"United Kingdom\"]\n",
        "print(\"countries value before change in function:\", countries)\n",
        "print(\"Id of countries outside function: \",id(countries)) # This will print the memory location of countries\n",
        "\n",
        "def remove_uk(country_list): #country_list only will save reference to the actual list object countries when passed\n",
        "  print(\"Id of countries inside function: \",id(country_list)) # this will be same id value as countries\n",
        "  country_list.remove(\"United Kingdom\") # this will remove uk from countries as well, since only reference is passed\n",
        "  print(\"country_list after change in function:\", country_list)\n",
        "  return \"uk removed\"\n",
        "\n",
        "remove_uk(countries) # passing only object reference\n",
        "print(\"countries value after  change in function:\", countries) # uk will be removed here as well"
      ],
      "metadata": {
        "colab": {
          "base_uri": "https://localhost:8080/"
        },
        "id": "F4GAq8mp_p5u",
        "outputId": "bd979d7d-94b2-4345-cd3b-38f682dd7b9f"
      },
      "execution_count": null,
      "outputs": [
        {
          "output_type": "stream",
          "name": "stdout",
          "text": [
            "countries value before change in function: ['India', 'USA', 'Russia', 'China', 'United Kingdom']\n",
            "Id of countries outside function:  139676952767136\n",
            "Id of countries inside function:  139676952767136\n",
            "country_list after change in function: ['India', 'USA', 'Russia', 'China']\n",
            "countries value after  change in function: ['India', 'USA', 'Russia', 'China']\n"
          ]
        }
      ]
    },
    {
      "cell_type": "markdown",
      "source": [
        "## How to prevent this?\n",
        "\n",
        "Always send a copy of the object if you need the original values of object at later part in your code. Use .copy() function for this.\n",
        "\n",
        "This will create a new object and only the new object memory reference is shared. which will keep the original object free from any changes"
      ],
      "metadata": {
        "id": "IXEvuVFxM6pb"
      }
    },
    {
      "cell_type": "code",
      "source": [
        "countries = [\"India\", \"USA\", \"Russia\", \"China\", \"United Kingdom\"]\n",
        "print(\"countries value before change in function:\", countries)\n",
        "print(\"Id of countries outside function: \",id(countries)) # This will print the memory location of countries\n",
        "\n",
        "def remove_uk(country_list): #now a copy of countries will be send which will have a new reference\n",
        "  print(\"Id of countries inside function: \",id(country_list)) # this will have different id\n",
        "  country_list.remove(\"United Kingdom\") # this will remove uk from country_list only since they are different objects\n",
        "  print(\"country_list after change in function:\", country_list)\n",
        "  return \"uk removed\"\n",
        "\n",
        "remove_uk(countries.copy()) # copy of the object will create new object and pass the reference of new object\n",
        "print(\"countries value after  change in function:\", countries) # uk will not be removed"
      ],
      "metadata": {
        "colab": {
          "base_uri": "https://localhost:8080/"
        },
        "id": "hArFntFOMuzk",
        "outputId": "4322478e-0f2f-4fcd-c629-b2d09a174713"
      },
      "execution_count": null,
      "outputs": [
        {
          "output_type": "stream",
          "name": "stdout",
          "text": [
            "countries value before change in function: ['India', 'USA', 'Russia', 'China', 'United Kingdom']\n",
            "Id of countries outside function:  139676952753568\n",
            "Id of countries inside function:  139676952534144\n",
            "country_list after change in function: ['India', 'USA', 'Russia', 'China']\n",
            "countries value after  change in function: ['India', 'USA', 'Russia', 'China', 'United Kingdom']\n"
          ]
        }
      ]
    },
    {
      "cell_type": "markdown",
      "source": [
        "## This is same during assignment as well\n",
        "\n",
        "When you assign an object to a different variable,only the reference of the object is saved in new variable. This is to reduce memory allocation. so any change in any of the variable, will affect the actual object as well"
      ],
      "metadata": {
        "id": "n953zWj0N25g"
      }
    },
    {
      "cell_type": "code",
      "source": [
        "## Now lets take a dictionary as example - since this is also a mutable object\n",
        "\n",
        "marks_1 = {'English': 90, 'Maths': 100, 'Physics': 40, 'Chemistry': 25, 'Biology': 70}\n",
        "\n",
        "print(\"Memory reference of marks_1:\",id(marks_1))\n",
        "marks_2 = marks_1 # here only reference to the object is saved in marks_2\n",
        "print(\"Memory reference of marks_2:\",id(marks_2))\n",
        "print(\"marks_1 before changing marks_2\", marks_1)\n",
        "# now changing marks_2 will affect marks_1 as well\n",
        "marks_2['English'] = 0\n",
        "marks_2.pop('Maths') # This two changes will reflect in marks_1 as well\n",
        "print(\"marks_2 after changing\", marks_2)\n",
        "print(\"marks_1 after changing marks_2\", marks_1)"
      ],
      "metadata": {
        "colab": {
          "base_uri": "https://localhost:8080/"
        },
        "id": "mldp-NNqNgzC",
        "outputId": "e6c894df-b9b4-411d-f0cd-212b0c46caac"
      },
      "execution_count": null,
      "outputs": [
        {
          "output_type": "stream",
          "name": "stdout",
          "text": [
            "Memory reference of marks_1: 139676827022112\n",
            "Memory reference of marks_2: 139676827022112\n",
            "marks_1 before changing marks_2 {'English': 90, 'Maths': 100, 'Physics': 40, 'Chemistry': 25, 'Biology': 70}\n",
            "marks_2 after changing {'English': 0, 'Physics': 40, 'Chemistry': 25, 'Biology': 70}\n",
            "marks_1 after changing marks_2 {'English': 0, 'Physics': 40, 'Chemistry': 25, 'Biology': 70}\n"
          ]
        }
      ]
    },
    {
      "cell_type": "markdown",
      "source": [
        "To prevent this, send a copy of the object, if you need the original values from object again"
      ],
      "metadata": {
        "id": "PCAmCopyPhIR"
      }
    },
    {
      "cell_type": "code",
      "source": [
        "marks_1 = {'English': 90, 'Maths': 100, 'Physics': 40, 'Chemistry': 25, 'Biology': 70}\n",
        "\n",
        "print(\"Memory reference of marks_1:\",id(marks_1))\n",
        "marks_2 = marks_1.copy() # now a new object is created only that memory reference is assigned\n",
        "print(\"Memory reference of marks_2:\",id(marks_2))\n",
        "print(\"marks_1 before changing marks_2\", marks_1)\n",
        "# now changing marks_2 will not affect marks_1\n",
        "marks_2['English'] = 0\n",
        "marks_2.pop('Maths') # This two changes will not affect marks_1\n",
        "print(\"marks_2 after changing\", marks_2)\n",
        "print(\"marks_1 after changing marks_2\", marks_1)"
      ],
      "metadata": {
        "colab": {
          "base_uri": "https://localhost:8080/"
        },
        "id": "FATP2ti_PPhi",
        "outputId": "1652f045-39d9-458c-850e-83ec2aa106c8"
      },
      "execution_count": null,
      "outputs": [
        {
          "output_type": "stream",
          "name": "stdout",
          "text": [
            "Memory reference of marks_1: 139676826945568\n",
            "Memory reference of marks_2: 139676952560096\n",
            "marks_1 before changing marks_2 {'English': 90, 'Maths': 100, 'Physics': 40, 'Chemistry': 25, 'Biology': 70}\n",
            "marks_2 after changing {'English': 0, 'Physics': 40, 'Chemistry': 25, 'Biology': 70}\n",
            "marks_1 after changing marks_2 {'English': 90, 'Maths': 100, 'Physics': 40, 'Chemistry': 25, 'Biology': 70}\n"
          ]
        }
      ]
    },
    {
      "cell_type": "code",
      "source": [],
      "metadata": {
        "id": "pH6XNNepQQdR"
      },
      "execution_count": null,
      "outputs": []
    }
  ]
}